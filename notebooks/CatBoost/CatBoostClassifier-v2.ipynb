{
 "cells": [
  {
   "cell_type": "code",
   "execution_count": 1,
   "id": "700f32d8-579e-437b-ac13-0e64313c8eaa",
   "metadata": {},
   "outputs": [
    {
     "name": "stderr",
     "output_type": "stream",
     "text": [
      "/home/strawhatdragon100/miniconda3/envs/kaggle/lib/python3.11/site-packages/tqdm/auto.py:21: TqdmWarning: IProgress not found. Please update jupyter and ipywidgets. See https://ipywidgets.readthedocs.io/en/stable/user_install.html\n",
      "  from .autonotebook import tqdm as notebook_tqdm\n"
     ]
    },
    {
     "name": "stdout",
     "output_type": "stream",
     "text": [
      "Warning: Your Kaggle API key is readable by other users on this system! To fix this, you can run 'chmod 600 /home/strawhatdragon100/.kaggle/kaggle.json'\n"
     ]
    }
   ],
   "source": [
    "import optuna\n",
    "import os\n",
    "from pathlib import Path\n",
    "import kaggle\n",
    "from catboost import CatBoostClassifier\n",
    "import pandas as pd\n",
    "import numpy as np\n",
    "from sklearn.preprocessing import FunctionTransformer, StandardScaler\n",
    "from sklearn.model_selection import RandomizedSearchCV\n",
    "from sklearn.pipeline import make_pipeline\n",
    "from sklearn.impute import SimpleImputer\n",
    "from sklearn.model_selection import StratifiedKFold\n",
    "from sklearn.model_selection import cross_val_score\n",
    "\n",
    "pd.set_option('display.max_columns', None)\n",
    "pd.set_option('display.max_colwidth', None)\n",
    "\n",
    "iskaggle = os.environ.get('KAGGLE_KERNEL_RUN_TYPE', '')\n",
    "if iskaggle:\n",
    "    path = Path('../input/playground-series-s3e23')\n",
    "    orig_path = Path('../input/software-defect-prediction')\n",
    "else:\n",
    "    path = Path('../input/playground-series-s3e23')\n",
    "    orig_path = Path('../input/software-defect-prediction')\n",
    "    if not path.exists():\n",
    "        kaggle.api.competition_download_cli(str(path))\n",
    "        zipfile.ZipFile(f'{path}.zip').extractall(path)\n",
    "    if not orig_path.exists():\n",
    "        kaggle.api.competition_download_cli(str(path))\n",
    "        zipfile.ZipFile(f'{path}.zip').extractall(path)"
   ]
  },
  {
   "cell_type": "code",
   "execution_count": 2,
   "id": "7ddbfe99-60b1-4ed1-a132-03b839517ef7",
   "metadata": {},
   "outputs": [],
   "source": [
    "train = pd.read_csv(path/'train.csv', index_col = 'id')\n",
    "test = pd.read_csv(path/'test.csv', index_col = 'id')\n",
    "orig_train = pd.read_csv(orig_path/'jm1.csv')"
   ]
  },
  {
   "cell_type": "code",
   "execution_count": 3,
   "id": "5e511eda-4d96-4406-9dfd-e17617f61153",
   "metadata": {},
   "outputs": [],
   "source": [
    "for object_features in list(orig_train.loc[:, orig_train.dtypes == 'O']):\n",
    "    orig_train[object_features] = orig_train[object_features].replace({'?' : np.nan}).astype('float64')"
   ]
  },
  {
   "cell_type": "code",
   "execution_count": 4,
   "id": "cc27e3a3-0d87-4763-97bf-638afaeb2f65",
   "metadata": {},
   "outputs": [],
   "source": [
    "X = pd.concat([train, orig_train])\n",
    "y = X.pop('defects')\n",
    "\n",
    "seed = 42\n",
    "splits = 5\n",
    "skf = StratifiedKFold(n_splits = splits, random_state = seed, shuffle = True)\n",
    "np.random.seed(seed)"
   ]
  },
  {
   "cell_type": "code",
   "execution_count": 5,
   "id": "be7f3a69-ec28-4db0-aaf9-db5d9ea2342b",
   "metadata": {},
   "outputs": [],
   "source": [
    "log_transformer = FunctionTransformer(func=np.log1p, validate=False)"
   ]
  },
  {
   "cell_type": "code",
   "execution_count": 6,
   "id": "4b847290-430f-480c-b176-32ed42275ee2",
   "metadata": {},
   "outputs": [],
   "source": [
    "partial_pipeline = make_pipeline(SimpleImputer(), log_transformer, StandardScaler())"
   ]
  },
  {
   "cell_type": "code",
   "execution_count": null,
   "id": "381fa653-bc25-4239-8a24-7e8984e66b9c",
   "metadata": {},
   "outputs": [],
   "source": [
    "def objective(trial):\n",
    "    params = {\n",
    "        \"iterations\": trial.suggest_categorical('iterations', [1000]),\n",
    "        \"learning_rate\": trial.suggest_float(\"learning_rate\", 1e-3, 0.1, log=True),\n",
    "        \"depth\": trial.suggest_int(\"depth\", 1, 10),\n",
    "        \"subsample\": trial.suggest_float(\"subsample\", 0.05, 1.0),\n",
    "        \"colsample_bylevel\": trial.suggest_float(\"colsample_bylevel\", 0.05, 1.0),\n",
    "        \"min_data_in_leaf\": trial.suggest_int(\"min_data_in_leaf\", 1, 100),\n",
    "        \"verbose\": trial.suggest_categorical('verbose', [False])\n",
    "    }\n",
    "    pipeline = make_pipeline(partial_pipeline, CatBoostClassifier(**params))\n",
    "    scores = cross_val_score(pipeline, X, y, cv=3, scoring='roc_auc', n_jobs=-1)\n",
    "    return scores.mean()\n",
    "\n",
    "study = optuna.create_study(direction='maximize')\n",
    "study.optimize(objective, n_trials=100, show_progress_bar=True)"
   ]
  },
  {
   "cell_type": "code",
   "execution_count": null,
   "id": "7a1b9366-ca66-4e7b-a06c-f2c01ad11bad",
   "metadata": {},
   "outputs": [],
   "source": [
    "study.best_params, study.best_value"
   ]
  },
  {
   "cell_type": "code",
   "execution_count": null,
   "id": "f7f33790-1ea3-47d6-9c33-cc453ceed7b1",
   "metadata": {},
   "outputs": [],
   "source": [
    "pipeline = make_pipeline(partial_pipeline, CatBoostClassifier(**study.best_params))\n",
    "pipeline.fit(X, y)"
   ]
  },
  {
   "cell_type": "code",
   "execution_count": null,
   "id": "e5fa8785-c5b9-4a2a-a0eb-3f84f4444597",
   "metadata": {},
   "outputs": [],
   "source": [
    "submission = test.copy()\n",
    "submission['defects'] = pipeline.predict_proba(submission)[:, 1]\n",
    "submission.defects.to_csv('catboost_submission_v2.csv')"
   ]
  },
  {
   "cell_type": "code",
   "execution_count": null,
   "id": "02cd4809-0010-4cbc-a273-782b7d74a87b",
   "metadata": {},
   "outputs": [],
   "source": []
  }
 ],
 "metadata": {
  "kernelspec": {
   "display_name": "Python 3 (ipykernel)",
   "language": "python",
   "name": "python3"
  },
  "language_info": {
   "codemirror_mode": {
    "name": "ipython",
    "version": 3
   },
   "file_extension": ".py",
   "mimetype": "text/x-python",
   "name": "python",
   "nbconvert_exporter": "python",
   "pygments_lexer": "ipython3",
   "version": "3.11.6"
  }
 },
 "nbformat": 4,
 "nbformat_minor": 5
}
