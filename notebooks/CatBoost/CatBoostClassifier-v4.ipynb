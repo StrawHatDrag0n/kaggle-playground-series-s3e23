{
 "cells": [
  {
   "cell_type": "code",
   "execution_count": 1,
   "id": "700f32d8-579e-437b-ac13-0e64313c8eaa",
   "metadata": {},
   "outputs": [
    {
     "name": "stderr",
     "output_type": "stream",
     "text": [
      "/home/strawhatdragon100/miniconda3/envs/kaggle/lib/python3.11/site-packages/tqdm/auto.py:21: TqdmWarning: IProgress not found. Please update jupyter and ipywidgets. See https://ipywidgets.readthedocs.io/en/stable/user_install.html\n",
      "  from .autonotebook import tqdm as notebook_tqdm\n"
     ]
    },
    {
     "name": "stdout",
     "output_type": "stream",
     "text": [
      "Warning: Your Kaggle API key is readable by other users on this system! To fix this, you can run 'chmod 600 /home/strawhatdragon100/.kaggle/kaggle.json'\n"
     ]
    }
   ],
   "source": [
    "import optuna\n",
    "import os\n",
    "from pathlib import Path\n",
    "import kaggle\n",
    "from catboost import CatBoostClassifier\n",
    "import pandas as pd\n",
    "import numpy as np\n",
    "from sklearn.preprocessing import FunctionTransformer, PowerTransformer\n",
    "from sklearn.pipeline import make_pipeline\n",
    "from sklearn.impute import SimpleImputer\n",
    "from sklearn.model_selection import StratifiedKFold\n",
    "from sklearn.model_selection import cross_val_score\n",
    "\n",
    "pd.set_option('display.max_columns', None)\n",
    "pd.set_option('display.max_colwidth', None)\n",
    "\n",
    "iskaggle = os.environ.get('KAGGLE_KERNEL_RUN_TYPE', '')\n",
    "if iskaggle:\n",
    "    path = Path('../input/playground-series-s3e23')\n",
    "    orig_path = Path('../input/software-defect-prediction')\n",
    "else:\n",
    "    path = Path('../input/playground-series-s3e23')\n",
    "    orig_path = Path('../input/software-defect-prediction')\n",
    "    if not path.exists():\n",
    "        kaggle.api.competition_download_cli(str(path))\n",
    "        zipfile.ZipFile(f'{path}.zip').extractall(path)\n",
    "    if not orig_path.exists():\n",
    "        kaggle.api.competition_download_cli(str(path))\n",
    "        zipfile.ZipFile(f'{path}.zip').extractall(path)\n",
    "\n",
    "SEED = 42\n",
    "SPLITS = 5\n",
    "VERSION = 4\n",
    "OUTPUT = f'cat_boost_clf_submisson_v{VERSION}.csv'\n",
    "\n",
    "np.random.seed(SEED)"
   ]
  },
  {
   "cell_type": "code",
   "execution_count": 2,
   "id": "7ddbfe99-60b1-4ed1-a132-03b839517ef7",
   "metadata": {},
   "outputs": [],
   "source": [
    "train = pd.read_csv(path/'train.csv', index_col = 'id')\n",
    "test = pd.read_csv(path/'test.csv', index_col = 'id')\n",
    "orig_train = pd.read_csv(orig_path/'jm1.csv')"
   ]
  },
  {
   "cell_type": "code",
   "execution_count": 3,
   "id": "5e511eda-4d96-4406-9dfd-e17617f61153",
   "metadata": {},
   "outputs": [],
   "source": [
    "for object_features in list(orig_train.loc[:, orig_train.dtypes == 'O']):\n",
    "    orig_train[object_features] = orig_train[object_features].replace({'?' : np.nan}).astype('float64')"
   ]
  },
  {
   "cell_type": "code",
   "execution_count": 4,
   "id": "cc27e3a3-0d87-4763-97bf-638afaeb2f65",
   "metadata": {},
   "outputs": [],
   "source": [
    "X = pd.concat([train, orig_train])\n",
    "y = X.pop('defects')"
   ]
  },
  {
   "cell_type": "code",
   "execution_count": 5,
   "id": "4b847290-430f-480c-b176-32ed42275ee2",
   "metadata": {},
   "outputs": [],
   "source": [
    "partial_pipeline = make_pipeline(SimpleImputer(), FunctionTransformer(func=np.log1p, validate=False), PowerTransformer())"
   ]
  },
  {
   "cell_type": "code",
   "execution_count": 6,
   "id": "381fa653-bc25-4239-8a24-7e8984e66b9c",
   "metadata": {},
   "outputs": [
    {
     "name": "stderr",
     "output_type": "stream",
     "text": [
      "[I 2023-10-15 23:17:09,272] A new study created in memory with name: no-name-91ff6aea-0804-4529-b247-fbbb561e4f06\n",
      "Best trial: 0. Best value: 0.782675:   3%|█████▍                                                                                                                                                              | 1/30 [00:09<04:23,  9.08s/it]"
     ]
    },
    {
     "name": "stdout",
     "output_type": "stream",
     "text": [
      "[I 2023-10-15 23:17:18,350] Trial 0 finished with value: 0.7826748781858139 and parameters: {'n_estimators': 111, 'learning_rate': 0.5136924487289304, 'depth': 1, 'l2_leaf_reg': 1.0257324702859163e-05, 'model_size_reg': 10.513849125410047, 'random_strength': 0.02160733546109541, 'subsample': 0.5976251147682442, 'verbose': False}. Best is trial 0 with value: 0.7826748781858139.\n"
     ]
    },
    {
     "name": "stderr",
     "output_type": "stream",
     "text": [
      "Best trial: 1. Best value: 0.785069:   7%|██████████▉                                                                                                                                                         | 2/30 [00:57<14:57, 32.07s/it]"
     ]
    },
    {
     "name": "stdout",
     "output_type": "stream",
     "text": [
      "[I 2023-10-15 23:18:06,515] Trial 1 finished with value: 0.7850685132464286 and parameters: {'n_estimators': 501, 'learning_rate': 0.2164311228403368, 'depth': 4, 'l2_leaf_reg': 38.20788660408033, 'model_size_reg': 0.04553418773588748, 'random_strength': 1.6928907527691608e-06, 'subsample': 0.5226838280148083, 'verbose': False}. Best is trial 1 with value: 0.7850685132464286.\n"
     ]
    },
    {
     "name": "stderr",
     "output_type": "stream",
     "text": [
      "Best trial: 1. Best value: 0.785069:  10%|████████████████▍                                                                                                                                                   | 3/30 [01:44<17:37, 39.17s/it]"
     ]
    },
    {
     "name": "stdout",
     "output_type": "stream",
     "text": [
      "[I 2023-10-15 23:18:54,134] Trial 2 finished with value: 0.7747643749249293 and parameters: {'n_estimators': 130, 'learning_rate': 0.006883442237938239, 'depth': 11, 'l2_leaf_reg': 0.007149463588596692, 'model_size_reg': 4.548767063195552e-06, 'random_strength': 5.594151448674494, 'subsample': 0.21377285547296232, 'verbose': False}. Best is trial 1 with value: 0.7850685132464286.\n"
     ]
    },
    {
     "name": "stderr",
     "output_type": "stream",
     "text": [
      "Best trial: 1. Best value: 0.785069:  13%|█████████████████████▊                                                                                                                                              | 4/30 [01:59<12:45, 29.44s/it]"
     ]
    },
    {
     "name": "stdout",
     "output_type": "stream",
     "text": [
      "[I 2023-10-15 23:19:08,665] Trial 3 finished with value: 0.7831038899084162 and parameters: {'n_estimators': 120, 'learning_rate': 0.0067201011818123465, 'depth': 6, 'l2_leaf_reg': 9.253727631163342, 'model_size_reg': 2.908076620675221e-05, 'random_strength': 0.0018481761045782928, 'subsample': 0.44417620610461583, 'verbose': False}. Best is trial 1 with value: 0.7850685132464286.\n"
     ]
    },
    {
     "name": "stderr",
     "output_type": "stream",
     "text": [
      "Best trial: 1. Best value: 0.785069:  17%|███████████████████████████▎                                                                                                                                        | 5/30 [02:24<11:35, 27.83s/it]"
     ]
    },
    {
     "name": "stdout",
     "output_type": "stream",
     "text": [
      "[I 2023-10-15 23:19:33,641] Trial 4 finished with value: 0.7827267932426992 and parameters: {'n_estimators': 110, 'learning_rate': 0.0002634900968114012, 'depth': 9, 'l2_leaf_reg': 0.010003902461352021, 'model_size_reg': 7.856845207184245e-08, 'random_strength': 3.891296245071441e-06, 'subsample': 0.297526192410912, 'verbose': False}. Best is trial 1 with value: 0.7850685132464286.\n"
     ]
    },
    {
     "name": "stderr",
     "output_type": "stream",
     "text": [
      "Best trial: 1. Best value: 0.785069:  20%|████████████████████████████████▊                                                                                                                                   | 6/30 [02:44<10:03, 25.16s/it]"
     ]
    },
    {
     "name": "stdout",
     "output_type": "stream",
     "text": [
      "[I 2023-10-15 23:19:53,614] Trial 5 finished with value: 0.7806116863943513 and parameters: {'n_estimators': 208, 'learning_rate': 0.0015544406568206925, 'depth': 4, 'l2_leaf_reg': 33.80548554470423, 'model_size_reg': 1.4767479968644122e-06, 'random_strength': 1.2407544214653031e-08, 'subsample': 0.728251022455768, 'verbose': False}. Best is trial 1 with value: 0.7850685132464286.\n"
     ]
    },
    {
     "name": "stderr",
     "output_type": "stream",
     "text": [
      "Best trial: 1. Best value: 0.785069:  23%|██████████████████████████████████████▎                                                                                                                             | 7/30 [02:54<07:44, 20.18s/it]"
     ]
    },
    {
     "name": "stdout",
     "output_type": "stream",
     "text": [
      "[I 2023-10-15 23:20:03,528] Trial 6 finished with value: 0.7785339051260929 and parameters: {'n_estimators': 89, 'learning_rate': 0.005779351011576047, 'depth': 3, 'l2_leaf_reg': 1.461415826894188e-07, 'model_size_reg': 6.434088514163684, 'random_strength': 0.4476019445902602, 'subsample': 0.9496622683218652, 'verbose': False}. Best is trial 1 with value: 0.7850685132464286.\n"
     ]
    },
    {
     "name": "stderr",
     "output_type": "stream",
     "text": [
      "Best trial: 1. Best value: 0.785069:  27%|███████████████████████████████████████████▋                                                                                                                        | 8/30 [03:27<08:53, 24.24s/it]"
     ]
    },
    {
     "name": "stdout",
     "output_type": "stream",
     "text": [
      "[I 2023-10-15 23:20:36,475] Trial 7 finished with value: 0.7839409915912264 and parameters: {'n_estimators': 537, 'learning_rate': 0.017395564385807534, 'depth': 2, 'l2_leaf_reg': 0.4040596079724189, 'model_size_reg': 0.0006291222674180485, 'random_strength': 4.320116138468488e-05, 'subsample': 0.36579050396843493, 'verbose': False}. Best is trial 1 with value: 0.7850685132464286.\n"
     ]
    },
    {
     "name": "stderr",
     "output_type": "stream",
     "text": [
      "Best trial: 1. Best value: 0.785069:  30%|█████████████████████████████████████████████████▏                                                                                                                  | 9/30 [04:06<10:04, 28.80s/it]"
     ]
    },
    {
     "name": "stdout",
     "output_type": "stream",
     "text": [
      "[I 2023-10-15 23:21:15,298] Trial 8 finished with value: 0.7752797979748183 and parameters: {'n_estimators': 185, 'learning_rate': 0.008841045052328954, 'depth': 9, 'l2_leaf_reg': 61.42375209931475, 'model_size_reg': 1.2364239242188677e-05, 'random_strength': 6.194710472751407, 'subsample': 0.5291607179180555, 'verbose': False}. Best is trial 1 with value: 0.7850685132464286.\n"
     ]
    },
    {
     "name": "stderr",
     "output_type": "stream",
     "text": [
      "Best trial: 1. Best value: 0.785069:  33%|██████████████████████████████████████████████████████▎                                                                                                            | 10/30 [04:15<07:34, 22.71s/it]"
     ]
    },
    {
     "name": "stdout",
     "output_type": "stream",
     "text": [
      "[I 2023-10-15 23:21:24,382] Trial 9 finished with value: 0.783789683863916 and parameters: {'n_estimators': 87, 'learning_rate': 0.02606839041439923, 'depth': 4, 'l2_leaf_reg': 1.9542914533386442e-05, 'model_size_reg': 40.66589634680576, 'random_strength': 0.00010880160389598785, 'subsample': 0.31498267590453954, 'verbose': False}. Best is trial 1 with value: 0.7850685132464286.\n"
     ]
    },
    {
     "name": "stderr",
     "output_type": "stream",
     "text": [
      "Best trial: 1. Best value: 0.785069:  37%|███████████████████████████████████████████████████████████▊                                                                                                       | 11/30 [05:08<10:10, 32.12s/it]"
     ]
    },
    {
     "name": "stdout",
     "output_type": "stream",
     "text": [
      "[I 2023-10-15 23:22:17,818] Trial 10 finished with value: 0.7834813771911867 and parameters: {'n_estimators': 985, 'learning_rate': 0.6826715453750103, 'depth': 2, 'l2_leaf_reg': 0.4773839550541704, 'model_size_reg': 0.0604751801453532, 'random_strength': 6.175239342051588e-07, 'subsample': 0.10804569396604419, 'verbose': False}. Best is trial 1 with value: 0.7850685132464286.\n"
     ]
    },
    {
     "name": "stderr",
     "output_type": "stream",
     "text": [
      "Best trial: 11. Best value: 0.785103:  40%|████████████████████████████████████████████████████████████████▊                                                                                                 | 12/30 [05:40<09:37, 32.06s/it]"
     ]
    },
    {
     "name": "stdout",
     "output_type": "stream",
     "text": [
      "[I 2023-10-15 23:22:49,757] Trial 11 finished with value: 0.7851034545774858 and parameters: {'n_estimators': 477, 'learning_rate': 0.09612831569643877, 'depth': 2, 'l2_leaf_reg': 0.4855778203408849, 'model_size_reg': 0.0030434344048517995, 'random_strength': 2.659716443822017e-05, 'subsample': 0.4239681871985115, 'verbose': False}. Best is trial 11 with value: 0.7851034545774858.\n"
     ]
    },
    {
     "name": "stderr",
     "output_type": "stream",
     "text": [
      "Best trial: 11. Best value: 0.785103:  43%|██████████████████████████████████████████████████████████████████████▏                                                                                           | 13/30 [06:09<08:47, 31.00s/it]"
     ]
    },
    {
     "name": "stdout",
     "output_type": "stream",
     "text": [
      "[I 2023-10-15 23:23:18,317] Trial 12 finished with value: 0.783521821483428 and parameters: {'n_estimators': 442, 'learning_rate': 0.1307230584840618, 'depth': 1, 'l2_leaf_reg': 0.6552270934021713, 'model_size_reg': 0.009795013825310754, 'random_strength': 3.9464415788327095e-06, 'subsample': 0.5954079768723766, 'verbose': False}. Best is trial 11 with value: 0.7851034545774858.\n"
     ]
    },
    {
     "name": "stderr",
     "output_type": "stream",
     "text": [
      "Best trial: 11. Best value: 0.785103:  47%|███████████████████████████████████████████████████████████████████████████▌                                                                                      | 14/30 [06:14<06:11, 23.21s/it]"
     ]
    },
    {
     "name": "stdout",
     "output_type": "stream",
     "text": [
      "[I 2023-10-15 23:23:23,516] Trial 13 finished with value: 0.7829234600801459 and parameters: {'n_estimators': 52, 'learning_rate': 0.09676534185709669, 'depth': 2, 'l2_leaf_reg': 97.58286145316616, 'model_size_reg': 0.15569414401052525, 'random_strength': 0.001588197972833378, 'subsample': 0.4250842971637058, 'verbose': False}. Best is trial 11 with value: 0.7851034545774858.\n"
     ]
    },
    {
     "name": "stderr",
     "output_type": "stream",
     "text": [
      "Best trial: 14. Best value: 0.78549:  50%|█████████████████████████████████████████████████████████████████████████████████▌                                                                                 | 15/30 [06:47<06:35, 26.38s/it]"
     ]
    },
    {
     "name": "stdout",
     "output_type": "stream",
     "text": [
      "[I 2023-10-15 23:23:57,246] Trial 14 finished with value: 0.7854901098183135 and parameters: {'n_estimators': 374, 'learning_rate': 0.16208623915916606, 'depth': 3, 'l2_leaf_reg': 1.3992794058497722, 'model_size_reg': 0.0007910632286603792, 'random_strength': 1.0435351247286603e-07, 'subsample': 0.7287747224556846, 'verbose': False}. Best is trial 14 with value: 0.7854901098183135.\n"
     ]
    },
    {
     "name": "stderr",
     "output_type": "stream",
     "text": [
      "Best trial: 14. Best value: 0.78549:  53%|██████████████████████████████████████████████████████████████████████████████████████▉                                                                            | 16/30 [07:08<05:46, 24.73s/it]"
     ]
    },
    {
     "name": "stdout",
     "output_type": "stream",
     "text": [
      "[I 2023-10-15 23:24:18,160] Trial 15 finished with value: 0.7820498820350361 and parameters: {'n_estimators': 307, 'learning_rate': 0.060485122316579536, 'depth': 1, 'l2_leaf_reg': 0.036797860324877696, 'model_size_reg': 0.000689770286658965, 'random_strength': 3.145810225337308e-08, 'subsample': 0.7283498043153898, 'verbose': False}. Best is trial 14 with value: 0.7854901098183135.\n"
     ]
    },
    {
     "name": "stderr",
     "output_type": "stream",
     "text": [
      "Best trial: 14. Best value: 0.78549:  57%|████████████████████████████████████████████████████████████████████████████████████████████▎                                                                      | 17/30 [07:35<05:29, 25.38s/it]"
     ]
    },
    {
     "name": "stdout",
     "output_type": "stream",
     "text": [
      "[I 2023-10-15 23:24:45,027] Trial 16 finished with value: 0.7848081225124777 and parameters: {'n_estimators': 318, 'learning_rate': 0.04870675201162072, 'depth': 2, 'l2_leaf_reg': 1.9681791778262596, 'model_size_reg': 0.00032548508248135744, 'random_strength': 1.1465996242194638e-07, 'subsample': 0.7086850973891773, 'verbose': False}. Best is trial 14 with value: 0.7854901098183135.\n"
     ]
    },
    {
     "name": "stderr",
     "output_type": "stream",
     "text": [
      "Best trial: 14. Best value: 0.78549:  60%|█████████████████████████████████████████████████████████████████████████████████████████████████▊                                                                 | 18/30 [08:32<06:58, 34.84s/it]"
     ]
    },
    {
     "name": "stdout",
     "output_type": "stream",
     "text": [
      "[I 2023-10-15 23:25:41,883] Trial 17 finished with value: 0.7840978089539382 and parameters: {'n_estimators': 710, 'learning_rate': 0.15833765662029883, 'depth': 3, 'l2_leaf_reg': 0.04483901286225518, 'model_size_reg': 0.005530856255913702, 'random_strength': 1.6274313799617203e-07, 'subsample': 0.8768093884595843, 'verbose': False}. Best is trial 14 with value: 0.7854901098183135.\n"
     ]
    },
    {
     "name": "stderr",
     "output_type": "stream",
     "text": [
      "Best trial: 14. Best value: 0.78549:  63%|███████████████████████████████████████████████████████████████████████████████████████████████████████▏                                                           | 19/30 [09:06<06:19, 34.47s/it]"
     ]
    },
    {
     "name": "stdout",
     "output_type": "stream",
     "text": [
      "[I 2023-10-15 23:26:15,511] Trial 18 finished with value: 0.7679270949579905 and parameters: {'n_estimators': 312, 'learning_rate': 0.34642123273198316, 'depth': 5, 'l2_leaf_reg': 0.0009311296604800526, 'model_size_reg': 0.00017484035207746183, 'random_strength': 2.0003687266588266e-05, 'subsample': 0.8237347783680155, 'verbose': False}. Best is trial 14 with value: 0.7854901098183135.\n"
     ]
    },
    {
     "name": "stderr",
     "output_type": "stream",
     "text": [
      "Best trial: 14. Best value: 0.78549:  67%|████████████████████████████████████████████████████████████████████████████████████████████████████████████▋                                                      | 20/30 [09:57<06:34, 39.40s/it]"
     ]
    },
    {
     "name": "stdout",
     "output_type": "stream",
     "text": [
      "[I 2023-10-15 23:27:06,408] Trial 19 finished with value: 0.7811643087109277 and parameters: {'n_estimators': 418, 'learning_rate': 0.17693355637855585, 'depth': 6, 'l2_leaf_reg': 3.8417355013157413, 'model_size_reg': 1.1594191536821805, 'random_strength': 1.3203394987059696e-05, 'subsample': 0.9955426609810797, 'verbose': False}. Best is trial 14 with value: 0.7854901098183135.\n"
     ]
    },
    {
     "name": "stderr",
     "output_type": "stream",
     "text": [
      "Best trial: 20. Best value: 0.785864:  70%|█████████████████████████████████████████████████████████████████████████████████████████████████████████████████▍                                                | 21/30 [10:46<06:21, 42.38s/it]"
     ]
    },
    {
     "name": "stdout",
     "output_type": "stream",
     "text": [
      "[I 2023-10-15 23:27:55,719] Trial 20 finished with value: 0.7858636509474153 and parameters: {'n_estimators': 647, 'learning_rate': 0.062126136754221545, 'depth': 3, 'l2_leaf_reg': 0.1675463052495161, 'model_size_reg': 0.003576422478697353, 'random_strength': 4.2456958775047355e-07, 'subsample': 0.6625232716854229, 'verbose': False}. Best is trial 20 with value: 0.7858636509474153.\n"
     ]
    },
    {
     "name": "stderr",
     "output_type": "stream",
     "text": [
      "Best trial: 20. Best value: 0.785864:  73%|██████████████████████████████████████████████████████████████████████████████████████████████████████████████████████▊                                           | 22/30 [11:38<06:02, 45.37s/it]"
     ]
    },
    {
     "name": "stdout",
     "output_type": "stream",
     "text": [
      "[I 2023-10-15 23:28:48,057] Trial 21 finished with value: 0.785812250445509 and parameters: {'n_estimators': 676, 'learning_rate': 0.05812344624790334, 'depth': 3, 'l2_leaf_reg': 0.1502395899267988, 'model_size_reg': 0.005369488182151018, 'random_strength': 4.221152602785005e-07, 'subsample': 0.6535383849828311, 'verbose': False}. Best is trial 20 with value: 0.7858636509474153.\n"
     ]
    },
    {
     "name": "stderr",
     "output_type": "stream",
     "text": [
      "Best trial: 20. Best value: 0.785864:  77%|████████████████████████████████████████████████████████████████████████████████████████████████████████████████████████████▏                                     | 23/30 [12:35<05:41, 48.82s/it]"
     ]
    },
    {
     "name": "stdout",
     "output_type": "stream",
     "text": [
      "[I 2023-10-15 23:29:44,946] Trial 22 finished with value: 0.7858243092461651 and parameters: {'n_estimators': 743, 'learning_rate': 0.051115117788009486, 'depth': 3, 'l2_leaf_reg': 0.10005121465572954, 'model_size_reg': 0.012258713863063308, 'random_strength': 3.0881614934981724e-07, 'subsample': 0.6708594943429566, 'verbose': False}. Best is trial 20 with value: 0.7858636509474153.\n"
     ]
    },
    {
     "name": "stderr",
     "output_type": "stream",
     "text": [
      "Best trial: 20. Best value: 0.785864:  80%|█████████████████████████████████████████████████████████████████████████████████████████████████████████████████████████████████▌                                | 24/30 [13:36<05:14, 52.34s/it]"
     ]
    },
    {
     "name": "stdout",
     "output_type": "stream",
     "text": [
      "[I 2023-10-15 23:30:45,496] Trial 23 finished with value: 0.7857194222943943 and parameters: {'n_estimators': 786, 'learning_rate': 0.03129805985812341, 'depth': 3, 'l2_leaf_reg': 0.09897637329068587, 'model_size_reg': 0.33508844808251115, 'random_strength': 8.386450639726086e-07, 'subsample': 0.647420290999925, 'verbose': False}. Best is trial 20 with value: 0.7858636509474153.\n"
     ]
    },
    {
     "name": "stderr",
     "output_type": "stream",
     "text": [
      "Best trial: 20. Best value: 0.785864:  83%|███████████████████████████████████████████████████████████████████████████████████████████████████████████████████████████████████████                           | 25/30 [14:32<04:27, 53.53s/it]"
     ]
    },
    {
     "name": "stdout",
     "output_type": "stream",
     "text": [
      "[I 2023-10-15 23:31:41,780] Trial 24 finished with value: 0.78561152286463 and parameters: {'n_estimators': 635, 'learning_rate': 0.05181577317020315, 'depth': 4, 'l2_leaf_reg': 0.0021688782464445748, 'model_size_reg': 0.014732472184980682, 'random_strength': 4.007342355974252e-07, 'subsample': 0.649597060641555, 'verbose': False}. Best is trial 20 with value: 0.7858636509474153.\n"
     ]
    },
    {
     "name": "stderr",
     "output_type": "stream",
     "text": [
      "Best trial: 20. Best value: 0.785864:  87%|████████████████████████████████████████████████████████████████████████████████████████████████████████████████████████████████████████████▍                     | 26/30 [16:31<04:52, 73.14s/it]"
     ]
    },
    {
     "name": "stdout",
     "output_type": "stream",
     "text": [
      "[I 2023-10-15 23:33:40,686] Trial 25 finished with value: 0.7854577893812749 and parameters: {'n_estimators': 963, 'learning_rate': 0.019232709773457157, 'depth': 6, 'l2_leaf_reg': 0.09007774490683974, 'model_size_reg': 0.018545702744389787, 'random_strength': 1.3585482793368186e-08, 'subsample': 0.7974168410054703, 'verbose': False}. Best is trial 20 with value: 0.7858636509474153.\n"
     ]
    },
    {
     "name": "stderr",
     "output_type": "stream",
     "text": [
      "Best trial: 20. Best value: 0.785864:  90%|█████████████████████████████████████████████████████████████████████████████████████████████████████████████████████████████████████████████████▊                | 27/30 [17:26<03:23, 67.75s/it]"
     ]
    },
    {
     "name": "stdout",
     "output_type": "stream",
     "text": [
      "[I 2023-10-15 23:34:35,851] Trial 26 finished with value: 0.78376063209038 and parameters: {'n_estimators': 629, 'learning_rate': 0.31293160122712205, 'depth': 3, 'l2_leaf_reg': 11.672261171965442, 'model_size_reg': 0.0029972224735246447, 'random_strength': 4.4893829867850975e-06, 'subsample': 0.6683659670755149, 'verbose': False}. Best is trial 20 with value: 0.7858636509474153.\n"
     ]
    },
    {
     "name": "stderr",
     "output_type": "stream",
     "text": [
      "Best trial: 20. Best value: 0.785864:  93%|███████████████████████████████████████████████████████████████████████████████████████████████████████████████████████████████████████████████████████▏          | 28/30 [18:19<02:06, 63.22s/it]"
     ]
    },
    {
     "name": "stdout",
     "output_type": "stream",
     "text": [
      "[I 2023-10-15 23:35:28,500] Trial 27 finished with value: 0.7856555641870002 and parameters: {'n_estimators': 781, 'learning_rate': 0.07259319675088752, 'depth': 2, 'l2_leaf_reg': 0.15639409631405649, 'model_size_reg': 0.5332078082922016, 'random_strength': 7.922614396581367e-08, 'subsample': 0.5779107057140932, 'verbose': False}. Best is trial 20 with value: 0.7858636509474153.\n"
     ]
    },
    {
     "name": "stderr",
     "output_type": "stream",
     "text": [
      "Best trial: 20. Best value: 0.785864:  97%|████████████████████████████████████████████████████████████████████████████████████████████████████████████████████████████████████████████████████████████▌     | 29/30 [19:42<01:09, 69.38s/it]"
     ]
    },
    {
     "name": "stdout",
     "output_type": "stream",
     "text": [
      "[I 2023-10-15 23:36:52,243] Trial 28 finished with value: 0.7832165695027731 and parameters: {'n_estimators': 558, 'learning_rate': 0.04299399883266898, 'depth': 7, 'l2_leaf_reg': 0.017687755506732163, 'model_size_reg': 0.12615824538073864, 'random_strength': 3.66917851855476e-07, 'subsample': 0.7724669134773252, 'verbose': False}. Best is trial 20 with value: 0.7858636509474153.\n"
     ]
    },
    {
     "name": "stderr",
     "output_type": "stream",
     "text": [
      "Best trial: 20. Best value: 0.785864: 100%|██████████████████████████████████████████████████████████████████████████████████████████████████████████████████████████████████████████████████████████████████| 30/30 [21:20<00:00, 42.67s/it]"
     ]
    },
    {
     "name": "stdout",
     "output_type": "stream",
     "text": [
      "[I 2023-10-15 23:38:29,294] Trial 29 finished with value: 0.7455749992195538 and parameters: {'n_estimators': 878, 'learning_rate': 0.4145251922299088, 'depth': 5, 'l2_leaf_reg': 0.0019277271850693459, 'model_size_reg': 8.459567828062162e-05, 'random_strength': 1.4311978698091337e-06, 'subsample': 0.6297096366163148, 'verbose': False}. Best is trial 20 with value: 0.7858636509474153.\n"
     ]
    },
    {
     "name": "stderr",
     "output_type": "stream",
     "text": [
      "\n"
     ]
    }
   ],
   "source": [
    "def objective(trial):\n",
    "    params = {\n",
    "        'n_estimators': trial.suggest_int('n_estimators',50,1000, log=True),\n",
    "        'learning_rate': trial.suggest_float('learning_rate', 1e-4, 0.7,log=True),\n",
    "        'depth': trial.suggest_int('depth',1, 12, log=True),\n",
    "        'l2_leaf_reg': trial.suggest_float('l2_leaf_reg',1e-8, 100,log=True),\n",
    "        'model_size_reg': trial.suggest_float('model_size_reg',1e-8,100,log=True),\n",
    "        'random_strength': trial.suggest_float('random_strength',1e-8,10,log=True),\n",
    "        'subsample': trial.suggest_float(\"subsample\", 0.1, 1),\n",
    "        'verbose': trial.suggest_categorical('verbose', [False])\n",
    "    }\n",
    "    pipeline = make_pipeline(partial_pipeline, CatBoostClassifier(**params))\n",
    "    scores = cross_val_score(pipeline, X, y, cv=SPLITS, scoring='roc_auc', n_jobs=-1)\n",
    "    return scores.mean()\n",
    "\n",
    "study = optuna.create_study(direction='maximize')\n",
    "study.optimize(objective, n_trials=30, show_progress_bar=True)"
   ]
  },
  {
   "cell_type": "code",
   "execution_count": 7,
   "id": "7a1b9366-ca66-4e7b-a06c-f2c01ad11bad",
   "metadata": {},
   "outputs": [
    {
     "data": {
      "text/plain": [
       "({'n_estimators': 647,\n",
       "  'learning_rate': 0.062126136754221545,\n",
       "  'depth': 3,\n",
       "  'l2_leaf_reg': 0.1675463052495161,\n",
       "  'model_size_reg': 0.003576422478697353,\n",
       "  'random_strength': 4.2456958775047355e-07,\n",
       "  'subsample': 0.6625232716854229,\n",
       "  'verbose': False},\n",
       " 0.7858636509474153)"
      ]
     },
     "execution_count": 7,
     "metadata": {},
     "output_type": "execute_result"
    }
   ],
   "source": [
    "study.best_params, study.best_value"
   ]
  },
  {
   "cell_type": "code",
   "execution_count": 8,
   "id": "f7f33790-1ea3-47d6-9c33-cc453ceed7b1",
   "metadata": {},
   "outputs": [
    {
     "data": {
      "text/html": [
       "<style>#sk-container-id-1 {color: black;}#sk-container-id-1 pre{padding: 0;}#sk-container-id-1 div.sk-toggleable {background-color: white;}#sk-container-id-1 label.sk-toggleable__label {cursor: pointer;display: block;width: 100%;margin-bottom: 0;padding: 0.3em;box-sizing: border-box;text-align: center;}#sk-container-id-1 label.sk-toggleable__label-arrow:before {content: \"▸\";float: left;margin-right: 0.25em;color: #696969;}#sk-container-id-1 label.sk-toggleable__label-arrow:hover:before {color: black;}#sk-container-id-1 div.sk-estimator:hover label.sk-toggleable__label-arrow:before {color: black;}#sk-container-id-1 div.sk-toggleable__content {max-height: 0;max-width: 0;overflow: hidden;text-align: left;background-color: #f0f8ff;}#sk-container-id-1 div.sk-toggleable__content pre {margin: 0.2em;color: black;border-radius: 0.25em;background-color: #f0f8ff;}#sk-container-id-1 input.sk-toggleable__control:checked~div.sk-toggleable__content {max-height: 200px;max-width: 100%;overflow: auto;}#sk-container-id-1 input.sk-toggleable__control:checked~label.sk-toggleable__label-arrow:before {content: \"▾\";}#sk-container-id-1 div.sk-estimator input.sk-toggleable__control:checked~label.sk-toggleable__label {background-color: #d4ebff;}#sk-container-id-1 div.sk-label input.sk-toggleable__control:checked~label.sk-toggleable__label {background-color: #d4ebff;}#sk-container-id-1 input.sk-hidden--visually {border: 0;clip: rect(1px 1px 1px 1px);clip: rect(1px, 1px, 1px, 1px);height: 1px;margin: -1px;overflow: hidden;padding: 0;position: absolute;width: 1px;}#sk-container-id-1 div.sk-estimator {font-family: monospace;background-color: #f0f8ff;border: 1px dotted black;border-radius: 0.25em;box-sizing: border-box;margin-bottom: 0.5em;}#sk-container-id-1 div.sk-estimator:hover {background-color: #d4ebff;}#sk-container-id-1 div.sk-parallel-item::after {content: \"\";width: 100%;border-bottom: 1px solid gray;flex-grow: 1;}#sk-container-id-1 div.sk-label:hover label.sk-toggleable__label {background-color: #d4ebff;}#sk-container-id-1 div.sk-serial::before {content: \"\";position: absolute;border-left: 1px solid gray;box-sizing: border-box;top: 0;bottom: 0;left: 50%;z-index: 0;}#sk-container-id-1 div.sk-serial {display: flex;flex-direction: column;align-items: center;background-color: white;padding-right: 0.2em;padding-left: 0.2em;position: relative;}#sk-container-id-1 div.sk-item {position: relative;z-index: 1;}#sk-container-id-1 div.sk-parallel {display: flex;align-items: stretch;justify-content: center;background-color: white;position: relative;}#sk-container-id-1 div.sk-item::before, #sk-container-id-1 div.sk-parallel-item::before {content: \"\";position: absolute;border-left: 1px solid gray;box-sizing: border-box;top: 0;bottom: 0;left: 50%;z-index: -1;}#sk-container-id-1 div.sk-parallel-item {display: flex;flex-direction: column;z-index: 1;position: relative;background-color: white;}#sk-container-id-1 div.sk-parallel-item:first-child::after {align-self: flex-end;width: 50%;}#sk-container-id-1 div.sk-parallel-item:last-child::after {align-self: flex-start;width: 50%;}#sk-container-id-1 div.sk-parallel-item:only-child::after {width: 0;}#sk-container-id-1 div.sk-dashed-wrapped {border: 1px dashed gray;margin: 0 0.4em 0.5em 0.4em;box-sizing: border-box;padding-bottom: 0.4em;background-color: white;}#sk-container-id-1 div.sk-label label {font-family: monospace;font-weight: bold;display: inline-block;line-height: 1.2em;}#sk-container-id-1 div.sk-label-container {text-align: center;}#sk-container-id-1 div.sk-container {/* jupyter's `normalize.less` sets `[hidden] { display: none; }` but bootstrap.min.css set `[hidden] { display: none !important; }` so we also need the `!important` here to be able to override the default hidden behavior on the sphinx rendered scikit-learn.org. See: https://github.com/scikit-learn/scikit-learn/issues/21755 */display: inline-block !important;position: relative;}#sk-container-id-1 div.sk-text-repr-fallback {display: none;}</style><div id=\"sk-container-id-1\" class=\"sk-top-container\"><div class=\"sk-text-repr-fallback\"><pre>Pipeline(steps=[(&#x27;pipeline&#x27;,\n",
       "                 Pipeline(steps=[(&#x27;simpleimputer&#x27;, SimpleImputer()),\n",
       "                                 (&#x27;functiontransformer&#x27;,\n",
       "                                  FunctionTransformer(func=&lt;ufunc &#x27;log1p&#x27;&gt;)),\n",
       "                                 (&#x27;powertransformer&#x27;, PowerTransformer())])),\n",
       "                (&#x27;catboostclassifier&#x27;,\n",
       "                 &lt;catboost.core.CatBoostClassifier object at 0x7f9e2e3b1e50&gt;)])</pre><b>In a Jupyter environment, please rerun this cell to show the HTML representation or trust the notebook. <br />On GitHub, the HTML representation is unable to render, please try loading this page with nbviewer.org.</b></div><div class=\"sk-container\" hidden><div class=\"sk-item sk-dashed-wrapped\"><div class=\"sk-label-container\"><div class=\"sk-label sk-toggleable\"><input class=\"sk-toggleable__control sk-hidden--visually\" id=\"sk-estimator-id-1\" type=\"checkbox\" ><label for=\"sk-estimator-id-1\" class=\"sk-toggleable__label sk-toggleable__label-arrow\">Pipeline</label><div class=\"sk-toggleable__content\"><pre>Pipeline(steps=[(&#x27;pipeline&#x27;,\n",
       "                 Pipeline(steps=[(&#x27;simpleimputer&#x27;, SimpleImputer()),\n",
       "                                 (&#x27;functiontransformer&#x27;,\n",
       "                                  FunctionTransformer(func=&lt;ufunc &#x27;log1p&#x27;&gt;)),\n",
       "                                 (&#x27;powertransformer&#x27;, PowerTransformer())])),\n",
       "                (&#x27;catboostclassifier&#x27;,\n",
       "                 &lt;catboost.core.CatBoostClassifier object at 0x7f9e2e3b1e50&gt;)])</pre></div></div></div><div class=\"sk-serial\"><div class=\"sk-item\"><div class=\"sk-label-container\"><div class=\"sk-label sk-toggleable\"><input class=\"sk-toggleable__control sk-hidden--visually\" id=\"sk-estimator-id-2\" type=\"checkbox\" ><label for=\"sk-estimator-id-2\" class=\"sk-toggleable__label sk-toggleable__label-arrow\">pipeline: Pipeline</label><div class=\"sk-toggleable__content\"><pre>Pipeline(steps=[(&#x27;simpleimputer&#x27;, SimpleImputer()),\n",
       "                (&#x27;functiontransformer&#x27;,\n",
       "                 FunctionTransformer(func=&lt;ufunc &#x27;log1p&#x27;&gt;)),\n",
       "                (&#x27;powertransformer&#x27;, PowerTransformer())])</pre></div></div></div><div class=\"sk-serial\"><div class=\"sk-item\"><div class=\"sk-estimator sk-toggleable\"><input class=\"sk-toggleable__control sk-hidden--visually\" id=\"sk-estimator-id-3\" type=\"checkbox\" ><label for=\"sk-estimator-id-3\" class=\"sk-toggleable__label sk-toggleable__label-arrow\">SimpleImputer</label><div class=\"sk-toggleable__content\"><pre>SimpleImputer()</pre></div></div></div><div class=\"sk-item\"><div class=\"sk-estimator sk-toggleable\"><input class=\"sk-toggleable__control sk-hidden--visually\" id=\"sk-estimator-id-4\" type=\"checkbox\" ><label for=\"sk-estimator-id-4\" class=\"sk-toggleable__label sk-toggleable__label-arrow\">FunctionTransformer</label><div class=\"sk-toggleable__content\"><pre>FunctionTransformer(func=&lt;ufunc &#x27;log1p&#x27;&gt;)</pre></div></div></div><div class=\"sk-item\"><div class=\"sk-estimator sk-toggleable\"><input class=\"sk-toggleable__control sk-hidden--visually\" id=\"sk-estimator-id-5\" type=\"checkbox\" ><label for=\"sk-estimator-id-5\" class=\"sk-toggleable__label sk-toggleable__label-arrow\">PowerTransformer</label><div class=\"sk-toggleable__content\"><pre>PowerTransformer()</pre></div></div></div></div></div><div class=\"sk-item\"><div class=\"sk-estimator sk-toggleable\"><input class=\"sk-toggleable__control sk-hidden--visually\" id=\"sk-estimator-id-6\" type=\"checkbox\" ><label for=\"sk-estimator-id-6\" class=\"sk-toggleable__label sk-toggleable__label-arrow\">CatBoostClassifier</label><div class=\"sk-toggleable__content\"><pre>&lt;catboost.core.CatBoostClassifier object at 0x7f9e2e3b1e50&gt;</pre></div></div></div></div></div></div></div>"
      ],
      "text/plain": [
       "Pipeline(steps=[('pipeline',\n",
       "                 Pipeline(steps=[('simpleimputer', SimpleImputer()),\n",
       "                                 ('functiontransformer',\n",
       "                                  FunctionTransformer(func=<ufunc 'log1p'>)),\n",
       "                                 ('powertransformer', PowerTransformer())])),\n",
       "                ('catboostclassifier',\n",
       "                 <catboost.core.CatBoostClassifier object at 0x7f9e2e3b1e50>)])"
      ]
     },
     "execution_count": 8,
     "metadata": {},
     "output_type": "execute_result"
    }
   ],
   "source": [
    "pipeline = make_pipeline(partial_pipeline, CatBoostClassifier(**study.best_params))\n",
    "pipeline.fit(X, y)"
   ]
  },
  {
   "cell_type": "code",
   "execution_count": 9,
   "id": "e5fa8785-c5b9-4a2a-a0eb-3f84f4444597",
   "metadata": {},
   "outputs": [],
   "source": [
    "submission = test.copy()\n",
    "submission['defects'] = pipeline.predict_proba(submission)[:, 1]\n",
    "submission.defects.to_csv(OUTPUT)"
   ]
  },
  {
   "cell_type": "code",
   "execution_count": null,
   "id": "02cd4809-0010-4cbc-a273-782b7d74a87b",
   "metadata": {},
   "outputs": [],
   "source": []
  }
 ],
 "metadata": {
  "kernelspec": {
   "display_name": "Python 3 (ipykernel)",
   "language": "python",
   "name": "python3"
  },
  "language_info": {
   "codemirror_mode": {
    "name": "ipython",
    "version": 3
   },
   "file_extension": ".py",
   "mimetype": "text/x-python",
   "name": "python",
   "nbconvert_exporter": "python",
   "pygments_lexer": "ipython3",
   "version": "3.11.6"
  }
 },
 "nbformat": 4,
 "nbformat_minor": 5
}
