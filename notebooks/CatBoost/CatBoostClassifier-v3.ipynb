{
 "cells": [
  {
   "cell_type": "code",
   "execution_count": 1,
   "id": "700f32d8-579e-437b-ac13-0e64313c8eaa",
   "metadata": {},
   "outputs": [
    {
     "name": "stderr",
     "output_type": "stream",
     "text": [
      "/home/strawhatdragon100/miniconda3/envs/kaggle/lib/python3.11/site-packages/tqdm/auto.py:21: TqdmWarning: IProgress not found. Please update jupyter and ipywidgets. See https://ipywidgets.readthedocs.io/en/stable/user_install.html\n",
      "  from .autonotebook import tqdm as notebook_tqdm\n"
     ]
    },
    {
     "name": "stdout",
     "output_type": "stream",
     "text": [
      "Warning: Your Kaggle API key is readable by other users on this system! To fix this, you can run 'chmod 600 /home/strawhatdragon100/.kaggle/kaggle.json'\n"
     ]
    }
   ],
   "source": [
    "import optuna\n",
    "import os\n",
    "from pathlib import Path\n",
    "import kaggle\n",
    "from catboost import CatBoostClassifier\n",
    "import pandas as pd\n",
    "import numpy as np\n",
    "from sklearn.preprocessing import FunctionTransformer, StandardScaler\n",
    "from sklearn.pipeline import make_pipeline\n",
    "from sklearn.impute import SimpleImputer\n",
    "from sklearn.model_selection import StratifiedKFold\n",
    "from sklearn.model_selection import cross_val_score\n",
    "\n",
    "pd.set_option('display.max_columns', None)\n",
    "pd.set_option('display.max_colwidth', None)\n",
    "\n",
    "iskaggle = os.environ.get('KAGGLE_KERNEL_RUN_TYPE', '')\n",
    "if iskaggle:\n",
    "    path = Path('../input/playground-series-s3e23')\n",
    "    orig_path = Path('../input/software-defect-prediction')\n",
    "else:\n",
    "    path = Path('../input/playground-series-s3e23')\n",
    "    orig_path = Path('../input/software-defect-prediction')\n",
    "    if not path.exists():\n",
    "        kaggle.api.competition_download_cli(str(path))\n",
    "        zipfile.ZipFile(f'{path}.zip').extractall(path)\n",
    "    if not orig_path.exists():\n",
    "        kaggle.api.competition_download_cli(str(path))\n",
    "        zipfile.ZipFile(f'{path}.zip').extractall(path)\n",
    "\n",
    "SEED = 42\n",
    "SPLITS = 5\n",
    "VERSION = 3\n",
    "OUTPUT = f'cat_boost_clf_submisson_v{VERSION}.csv'\n",
    "\n",
    "np.random.seed(SEED)"
   ]
  },
  {
   "cell_type": "code",
   "execution_count": 2,
   "id": "7ddbfe99-60b1-4ed1-a132-03b839517ef7",
   "metadata": {},
   "outputs": [],
   "source": [
    "train = pd.read_csv(path/'train.csv', index_col = 'id')\n",
    "test = pd.read_csv(path/'test.csv', index_col = 'id')\n",
    "orig_train = pd.read_csv(orig_path/'jm1.csv')"
   ]
  },
  {
   "cell_type": "code",
   "execution_count": 3,
   "id": "5e511eda-4d96-4406-9dfd-e17617f61153",
   "metadata": {},
   "outputs": [],
   "source": [
    "for object_features in list(orig_train.loc[:, orig_train.dtypes == 'O']):\n",
    "    orig_train[object_features] = orig_train[object_features].replace({'?' : np.nan}).astype('float64')"
   ]
  },
  {
   "cell_type": "code",
   "execution_count": 4,
   "id": "cc27e3a3-0d87-4763-97bf-638afaeb2f65",
   "metadata": {},
   "outputs": [],
   "source": [
    "X = pd.concat([train, orig_train])\n",
    "y = X.pop('defects')"
   ]
  },
  {
   "cell_type": "code",
   "execution_count": 5,
   "id": "4b847290-430f-480c-b176-32ed42275ee2",
   "metadata": {},
   "outputs": [],
   "source": [
    "partial_pipeline = make_pipeline(SimpleImputer(), FunctionTransformer(func=np.log1p, validate=False), StandardScaler())"
   ]
  },
  {
   "cell_type": "code",
   "execution_count": 6,
   "id": "381fa653-bc25-4239-8a24-7e8984e66b9c",
   "metadata": {},
   "outputs": [
    {
     "name": "stderr",
     "output_type": "stream",
     "text": [
      "[I 2023-10-14 22:18:31,653] A new study created in memory with name: no-name-e9c16479-eeb4-4867-a977-d811a79abc0f\n",
      "Best trial: 0. Best value: 0.775943:   3%|█████▍                                                                                                                                                              | 1/30 [00:29<14:05, 29.15s/it]"
     ]
    },
    {
     "name": "stdout",
     "output_type": "stream",
     "text": [
      "[I 2023-10-14 22:19:00,802] Trial 0 finished with value: 0.7759434200883465 and parameters: {'n_estimators': 260, 'learning_rate': 0.004006292778237605, 'depth': 9, 'subsample': 0.546649559330401, 'colsample_bylevel': 0.11451087804995956, 'min_data_in_leaf': 24, 'verbose': False}. Best is trial 0 with value: 0.7759434200883465.\n"
     ]
    },
    {
     "name": "stderr",
     "output_type": "stream",
     "text": [
      "Best trial: 1. Best value: 0.776006:   7%|██████████▉                                                                                                                                                         | 2/30 [00:36<07:32, 16.16s/it]"
     ]
    },
    {
     "name": "stdout",
     "output_type": "stream",
     "text": [
      "[I 2023-10-14 22:19:07,870] Trial 1 finished with value: 0.7760057238661118 and parameters: {'n_estimators': 51, 'learning_rate': 0.001813377714006975, 'depth': 7, 'subsample': 0.31639266729391397, 'colsample_bylevel': 0.664959651401588, 'min_data_in_leaf': 13, 'verbose': False}. Best is trial 1 with value: 0.7760057238661118.\n"
     ]
    },
    {
     "name": "stderr",
     "output_type": "stream",
     "text": [
      "Best trial: 1. Best value: 0.776006:  10%|████████████████▍                                                                                                                                                   | 3/30 [00:50<06:55, 15.40s/it]"
     ]
    },
    {
     "name": "stdout",
     "output_type": "stream",
     "text": [
      "[I 2023-10-14 22:19:22,366] Trial 2 finished with value: 0.7726020787723564 and parameters: {'n_estimators': 227, 'learning_rate': 0.0011103943596803224, 'depth': 3, 'subsample': 0.15314057631706912, 'colsample_bylevel': 0.21405408524785852, 'min_data_in_leaf': 2, 'verbose': False}. Best is trial 1 with value: 0.7760057238661118.\n"
     ]
    },
    {
     "name": "stderr",
     "output_type": "stream",
     "text": [
      "Best trial: 1. Best value: 0.776006:  13%|█████████████████████▊                                                                                                                                              | 4/30 [00:59<05:36, 12.94s/it]"
     ]
    },
    {
     "name": "stdout",
     "output_type": "stream",
     "text": [
      "[I 2023-10-14 22:19:31,544] Trial 3 finished with value: 0.7759577158579025 and parameters: {'n_estimators': 130, 'learning_rate': 0.0032495053670559475, 'depth': 2, 'subsample': 0.9359329946410249, 'colsample_bylevel': 0.7897789821883607, 'min_data_in_leaf': 77, 'verbose': False}. Best is trial 1 with value: 0.7760057238661118.\n"
     ]
    },
    {
     "name": "stderr",
     "output_type": "stream",
     "text": [
      "Best trial: 4. Best value: 0.784271:  17%|███████████████████████████▎                                                                                                                                        | 5/30 [01:50<11:07, 26.69s/it]"
     ]
    },
    {
     "name": "stdout",
     "output_type": "stream",
     "text": [
      "[I 2023-10-14 22:20:22,603] Trial 4 finished with value: 0.7842708990434464 and parameters: {'n_estimators': 556, 'learning_rate': 0.08728480016636454, 'depth': 6, 'subsample': 0.2516232171944691, 'colsample_bylevel': 0.8627879514740929, 'min_data_in_leaf': 72, 'verbose': False}. Best is trial 4 with value: 0.7842708990434464.\n"
     ]
    },
    {
     "name": "stderr",
     "output_type": "stream",
     "text": [
      "Best trial: 4. Best value: 0.784271:  20%|████████████████████████████████▊                                                                                                                                   | 6/30 [02:54<15:43, 39.31s/it]"
     ]
    },
    {
     "name": "stdout",
     "output_type": "stream",
     "text": [
      "[I 2023-10-14 22:21:26,429] Trial 5 finished with value: 0.7836725518422083 and parameters: {'n_estimators': 721, 'learning_rate': 0.02404715933331585, 'depth': 10, 'subsample': 0.5669429467987871, 'colsample_bylevel': 0.06968224911317338, 'min_data_in_leaf': 24, 'verbose': False}. Best is trial 4 with value: 0.7842708990434464.\n"
     ]
    },
    {
     "name": "stderr",
     "output_type": "stream",
     "text": [
      "Best trial: 4. Best value: 0.784271:  23%|██████████████████████████████████████▎                                                                                                                             | 7/30 [04:18<20:41, 53.99s/it]"
     ]
    },
    {
     "name": "stdout",
     "output_type": "stream",
     "text": [
      "[I 2023-10-14 22:22:50,625] Trial 6 finished with value: 0.7804487521400422 and parameters: {'n_estimators': 382, 'learning_rate': 0.08881014383718945, 'depth': 10, 'subsample': 0.8497977380101018, 'colsample_bylevel': 0.411642406125607, 'min_data_in_leaf': 64, 'verbose': False}. Best is trial 4 with value: 0.7842708990434464.\n"
     ]
    },
    {
     "name": "stderr",
     "output_type": "stream",
     "text": [
      "Best trial: 4. Best value: 0.784271:  27%|███████████████████████████████████████████▋                                                                                                                        | 8/30 [05:00<18:17, 49.88s/it]"
     ]
    },
    {
     "name": "stdout",
     "output_type": "stream",
     "text": [
      "[I 2023-10-14 22:23:31,711] Trial 7 finished with value: 0.783916079036153 and parameters: {'n_estimators': 502, 'learning_rate': 0.04935544727196124, 'depth': 6, 'subsample': 0.10761781204276871, 'colsample_bylevel': 0.17579401690000662, 'min_data_in_leaf': 54, 'verbose': False}. Best is trial 4 with value: 0.7842708990434464.\n"
     ]
    },
    {
     "name": "stderr",
     "output_type": "stream",
     "text": [
      "Best trial: 4. Best value: 0.784271:  30%|█████████████████████████████████████████████████▏                                                                                                                  | 9/30 [06:08<19:26, 55.57s/it]"
     ]
    },
    {
     "name": "stdout",
     "output_type": "stream",
     "text": [
      "[I 2023-10-14 22:24:39,777] Trial 8 finished with value: 0.7790619317443591 and parameters: {'n_estimators': 789, 'learning_rate': 0.0020227073802107187, 'depth': 4, 'subsample': 0.7516901053296549, 'colsample_bylevel': 0.3575341398962296, 'min_data_in_leaf': 58, 'verbose': False}. Best is trial 4 with value: 0.7842708990434464.\n"
     ]
    },
    {
     "name": "stderr",
     "output_type": "stream",
     "text": [
      "Best trial: 4. Best value: 0.784271:  33%|██████████████████████████████████████████████████████▎                                                                                                            | 10/30 [06:16<13:37, 40.88s/it]"
     ]
    },
    {
     "name": "stdout",
     "output_type": "stream",
     "text": [
      "[I 2023-10-14 22:24:47,770] Trial 9 finished with value: 0.7692975373245956 and parameters: {'n_estimators': 66, 'learning_rate': 0.001508511438561552, 'depth': 9, 'subsample': 0.432569518336656, 'colsample_bylevel': 0.07805979426984036, 'min_data_in_leaf': 67, 'verbose': False}. Best is trial 4 with value: 0.7842708990434464.\n"
     ]
    },
    {
     "name": "stderr",
     "output_type": "stream",
     "text": [
      "Best trial: 4. Best value: 0.784271:  37%|███████████████████████████████████████████████████████████▊                                                                                                       | 11/30 [07:07<13:56, 44.02s/it]"
     ]
    },
    {
     "name": "stdout",
     "output_type": "stream",
     "text": [
      "[I 2023-10-14 22:25:38,926] Trial 10 finished with value: 0.7800221260059753 and parameters: {'n_estimators': 856, 'learning_rate': 0.010438680924309763, 'depth': 1, 'subsample': 0.2979123401659991, 'colsample_bylevel': 0.963270242943767, 'min_data_in_leaf': 93, 'verbose': False}. Best is trial 4 with value: 0.7842708990434464.\n"
     ]
    },
    {
     "name": "stderr",
     "output_type": "stream",
     "text": [
      "Best trial: 4. Best value: 0.784271:  40%|█████████████████████████████████████████████████████████████████▏                                                                                                 | 12/30 [07:44<12:33, 41.86s/it]"
     ]
    },
    {
     "name": "stdout",
     "output_type": "stream",
     "text": [
      "[I 2023-10-14 22:26:15,833] Trial 11 finished with value: 0.7839874781727826 and parameters: {'n_estimators': 431, 'learning_rate': 0.09684661496346914, 'depth': 6, 'subsample': 0.0575576405227086, 'colsample_bylevel': 0.5615014686298876, 'min_data_in_leaf': 42, 'verbose': False}. Best is trial 4 with value: 0.7842708990434464.\n"
     ]
    },
    {
     "name": "stderr",
     "output_type": "stream",
     "text": [
      "Best trial: 4. Best value: 0.784271:  43%|██████████████████████████████████████████████████████████████████████▋                                                                                            | 13/30 [08:09<10:25, 36.78s/it]"
     ]
    },
    {
     "name": "stdout",
     "output_type": "stream",
     "text": [
      "[I 2023-10-14 22:26:40,918] Trial 12 finished with value: 0.7840237327007571 and parameters: {'n_estimators': 403, 'learning_rate': 0.09286362870857254, 'depth': 5, 'subsample': 0.05599723015797775, 'colsample_bylevel': 0.6011586906485207, 'min_data_in_leaf': 39, 'verbose': False}. Best is trial 4 with value: 0.7842708990434464.\n"
     ]
    },
    {
     "name": "stderr",
     "output_type": "stream",
     "text": [
      "Best trial: 4. Best value: 0.784271:  47%|████████████████████████████████████████████████████████████████████████████                                                                                       | 14/30 [08:28<08:25, 31.59s/it]"
     ]
    },
    {
     "name": "stdout",
     "output_type": "stream",
     "text": [
      "[I 2023-10-14 22:27:00,517] Trial 13 finished with value: 0.7839819269231562 and parameters: {'n_estimators': 324, 'learning_rate': 0.039849966590204434, 'depth': 4, 'subsample': 0.21770237413986193, 'colsample_bylevel': 0.8139647829676299, 'min_data_in_leaf': 41, 'verbose': False}. Best is trial 4 with value: 0.7842708990434464.\n"
     ]
    },
    {
     "name": "stderr",
     "output_type": "stream",
     "text": [
      "Best trial: 4. Best value: 0.784271:  50%|█████████████████████████████████████████████████████████████████████████████████▌                                                                                 | 15/30 [09:14<08:55, 35.68s/it]"
     ]
    },
    {
     "name": "stdout",
     "output_type": "stream",
     "text": [
      "[I 2023-10-14 22:27:45,670] Trial 14 finished with value: 0.7837256150455901 and parameters: {'n_estimators': 538, 'learning_rate': 0.023517192781499142, 'depth': 7, 'subsample': 0.051140305911832495, 'colsample_bylevel': 0.969731227829037, 'min_data_in_leaf': 85, 'verbose': False}. Best is trial 4 with value: 0.7842708990434464.\n"
     ]
    },
    {
     "name": "stderr",
     "output_type": "stream",
     "text": [
      "Best trial: 15. Best value: 0.784646:  53%|██████████████████████████████████████████████████████████████████████████████████████▍                                                                           | 16/30 [09:29<06:54, 29.61s/it]"
     ]
    },
    {
     "name": "stdout",
     "output_type": "stream",
     "text": [
      "[I 2023-10-14 22:28:01,196] Trial 15 finished with value: 0.7846463120186973 and parameters: {'n_estimators': 174, 'learning_rate': 0.09402515463936785, 'depth': 5, 'subsample': 0.21859329156448387, 'colsample_bylevel': 0.6492425267347925, 'min_data_in_leaf': 37, 'verbose': False}. Best is trial 15 with value: 0.7846463120186973.\n"
     ]
    },
    {
     "name": "stderr",
     "output_type": "stream",
     "text": [
      "Best trial: 15. Best value: 0.784646:  57%|███████████████████████████████████████████████████████████████████████████████████████████▊                                                                      | 17/30 [09:51<05:54, 27.31s/it]"
     ]
    },
    {
     "name": "stdout",
     "output_type": "stream",
     "text": [
      "[I 2023-10-14 22:28:23,139] Trial 16 finished with value: 0.7843533128593162 and parameters: {'n_estimators': 187, 'learning_rate': 0.0520111724167494, 'depth': 7, 'subsample': 0.242190041184976, 'colsample_bylevel': 0.7167349516788148, 'min_data_in_leaf': 73, 'verbose': False}. Best is trial 15 with value: 0.7846463120186973.\n"
     ]
    },
    {
     "name": "stderr",
     "output_type": "stream",
     "text": [
      "Best trial: 15. Best value: 0.784646:  60%|█████████████████████████████████████████████████████████████████████████████████████████████████▏                                                                | 18/30 [10:18<05:25, 27.15s/it]"
     ]
    },
    {
     "name": "stdout",
     "output_type": "stream",
     "text": [
      "[I 2023-10-14 22:28:49,924] Trial 17 finished with value: 0.784421612977931 and parameters: {'n_estimators': 158, 'learning_rate': 0.04622390406129897, 'depth': 8, 'subsample': 0.3869414510379515, 'colsample_bylevel': 0.6943619578833787, 'min_data_in_leaf': 100, 'verbose': False}. Best is trial 15 with value: 0.7846463120186973.\n"
     ]
    },
    {
     "name": "stderr",
     "output_type": "stream",
     "text": [
      "Best trial: 15. Best value: 0.784646:  63%|██████████████████████████████████████████████████████████████████████████████████████████████████████▌                                                           | 19/30 [10:41<04:46, 26.06s/it]"
     ]
    },
    {
     "name": "stdout",
     "output_type": "stream",
     "text": [
      "[I 2023-10-14 22:29:13,431] Trial 18 finished with value: 0.7823679094658905 and parameters: {'n_estimators': 147, 'learning_rate': 0.017834591967084448, 'depth': 8, 'subsample': 0.4425609740936192, 'colsample_bylevel': 0.6668116761598207, 'min_data_in_leaf': 97, 'verbose': False}. Best is trial 15 with value: 0.7846463120186973.\n"
     ]
    },
    {
     "name": "stderr",
     "output_type": "stream",
     "text": [
      "Best trial: 15. Best value: 0.784646:  67%|████████████████████████████████████████████████████████████████████████████████████████████████████████████                                                      | 20/30 [10:49<03:26, 20.61s/it]"
     ]
    },
    {
     "name": "stdout",
     "output_type": "stream",
     "text": [
      "[I 2023-10-14 22:29:21,350] Trial 19 finished with value: 0.7830154648044241 and parameters: {'n_estimators': 105, 'learning_rate': 0.03613029543355549, 'depth': 5, 'subsample': 0.38028923609040394, 'colsample_bylevel': 0.4650891910222109, 'min_data_in_leaf': 29, 'verbose': False}. Best is trial 15 with value: 0.7846463120186973.\n"
     ]
    },
    {
     "name": "stderr",
     "output_type": "stream",
     "text": [
      "Best trial: 15. Best value: 0.784646:  70%|█████████████████████████████████████████████████████████████████████████████████████████████████████████████████▍                                                | 21/30 [11:05<02:53, 19.29s/it]"
     ]
    },
    {
     "name": "stdout",
     "output_type": "stream",
     "text": [
      "[I 2023-10-14 22:29:37,554] Trial 20 finished with value: 0.7841926089934026 and parameters: {'n_estimators': 93, 'learning_rate': 0.05938161496602078, 'depth': 8, 'subsample': 0.6408950115024992, 'colsample_bylevel': 0.5263300313128415, 'min_data_in_leaf': 49, 'verbose': False}. Best is trial 15 with value: 0.7846463120186973.\n"
     ]
    },
    {
     "name": "stderr",
     "output_type": "stream",
     "text": [
      "Best trial: 15. Best value: 0.784646:  73%|██████████████████████████████████████████████████████████████████████████████████████████████████████████████████████▊                                           | 22/30 [11:25<02:35, 19.50s/it]"
     ]
    },
    {
     "name": "stdout",
     "output_type": "stream",
     "text": [
      "[I 2023-10-14 22:29:57,537] Trial 21 finished with value: 0.7840747332308282 and parameters: {'n_estimators': 170, 'learning_rate': 0.05632044116026806, 'depth': 7, 'subsample': 0.1998759756348396, 'colsample_bylevel': 0.7058708291946633, 'min_data_in_leaf': 84, 'verbose': False}. Best is trial 15 with value: 0.7846463120186973.\n"
     ]
    },
    {
     "name": "stderr",
     "output_type": "stream",
     "text": [
      "Best trial: 15. Best value: 0.784646:  77%|████████████████████████████████████████████████████████████████████████████████████████████████████████████████████████████▏                                     | 23/30 [11:59<02:45, 23.70s/it]"
     ]
    },
    {
     "name": "stdout",
     "output_type": "stream",
     "text": [
      "[I 2023-10-14 22:30:31,052] Trial 22 finished with value: 0.7840971060280075 and parameters: {'n_estimators': 205, 'learning_rate': 0.03279934059516806, 'depth': 8, 'subsample': 0.3173467760721964, 'colsample_bylevel': 0.7152993679602835, 'min_data_in_leaf': 89, 'verbose': False}. Best is trial 15 with value: 0.7846463120186973.\n"
     ]
    },
    {
     "name": "stderr",
     "output_type": "stream",
     "text": [
      "Best trial: 15. Best value: 0.784646:  80%|█████████████████████████████████████████████████████████████████████████████████████████████████████████████████████████████████▌                                | 24/30 [12:12<02:02, 20.45s/it]"
     ]
    },
    {
     "name": "stdout",
     "output_type": "stream",
     "text": [
      "[I 2023-10-14 22:30:43,929] Trial 23 finished with value: 0.7837203243112352 and parameters: {'n_estimators': 184, 'learning_rate': 0.061241511255132025, 'depth': 4, 'subsample': 0.21868646224255572, 'colsample_bylevel': 0.60279828136666, 'min_data_in_leaf': 99, 'verbose': False}. Best is trial 15 with value: 0.7846463120186973.\n"
     ]
    },
    {
     "name": "stderr",
     "output_type": "stream",
     "text": [
      "Best trial: 24. Best value: 0.784908:  83%|███████████████████████████████████████████████████████████████████████████████████████████████████████████████████████████████████████                           | 25/30 [12:39<01:52, 22.41s/it]"
     ]
    },
    {
     "name": "stdout",
     "output_type": "stream",
     "text": [
      "[I 2023-10-14 22:31:10,889] Trial 24 finished with value: 0.7849076085281711 and parameters: {'n_estimators': 255, 'learning_rate': 0.06326279329432156, 'depth': 7, 'subsample': 0.3776788176269785, 'colsample_bylevel': 0.7593104146787781, 'min_data_in_leaf': 77, 'verbose': False}. Best is trial 24 with value: 0.7849076085281711.\n"
     ]
    },
    {
     "name": "stderr",
     "output_type": "stream",
     "text": [
      "Best trial: 24. Best value: 0.784908:  87%|████████████████████████████████████████████████████████████████████████████████████████████████████████████████████████████████████████████▍                     | 26/30 [13:40<02:15, 33.96s/it]"
     ]
    },
    {
     "name": "stdout",
     "output_type": "stream",
     "text": [
      "[I 2023-10-14 22:32:11,818] Trial 25 finished with value: 0.7844467817610218 and parameters: {'n_estimators': 271, 'learning_rate': 0.06551254174303534, 'depth': 9, 'subsample': 0.40469339684183714, 'colsample_bylevel': 0.7705364102018127, 'min_data_in_leaf': 78, 'verbose': False}. Best is trial 24 with value: 0.7849076085281711.\n"
     ]
    },
    {
     "name": "stderr",
     "output_type": "stream",
     "text": [
      "Best trial: 24. Best value: 0.784908:  90%|█████████████████████████████████████████████████████████████████████████████████████████████████████████████████████████████████████████████████▊                | 27/30 [14:42<02:07, 42.34s/it]"
     ]
    },
    {
     "name": "stdout",
     "output_type": "stream",
     "text": [
      "[I 2023-10-14 22:33:13,705] Trial 26 finished with value: 0.7844458684824633 and parameters: {'n_estimators': 270, 'learning_rate': 0.07571584755400582, 'depth': 9, 'subsample': 0.4541182587705995, 'colsample_bylevel': 0.8470922443151384, 'min_data_in_leaf': 79, 'verbose': False}. Best is trial 24 with value: 0.7849076085281711.\n"
     ]
    },
    {
     "name": "stderr",
     "output_type": "stream",
     "text": [
      "Best trial: 27. Best value: 0.785299:  93%|███████████████████████████████████████████████████████████████████████████████████████████████████████████████████████████████████████████████████████▏          | 28/30 [15:05<01:13, 36.78s/it]"
     ]
    },
    {
     "name": "stdout",
     "output_type": "stream",
     "text": [
      "[I 2023-10-14 22:33:37,495] Trial 27 finished with value: 0.7852990597094218 and parameters: {'n_estimators': 286, 'learning_rate': 0.07110901618444579, 'depth': 5, 'subsample': 0.4940134861055049, 'colsample_bylevel': 0.9090142712877507, 'min_data_in_leaf': 62, 'verbose': False}. Best is trial 27 with value: 0.7852990597094218.\n"
     ]
    },
    {
     "name": "stderr",
     "output_type": "stream",
     "text": [
      "Best trial: 27. Best value: 0.785299:  97%|████████████████████████████████████████████████████████████████████████████████████████████████████████████████████████████████████████████████████████████▌     | 29/30 [15:22<00:30, 30.82s/it]"
     ]
    },
    {
     "name": "stdout",
     "output_type": "stream",
     "text": [
      "[I 2023-10-14 22:33:54,424] Trial 28 finished with value: 0.7841275549958918 and parameters: {'n_estimators': 229, 'learning_rate': 0.031036545216701076, 'depth': 5, 'subsample': 0.47397145939865326, 'colsample_bylevel': 0.9019512672309632, 'min_data_in_leaf': 63, 'verbose': False}. Best is trial 27 with value: 0.7852990597094218.\n"
     ]
    },
    {
     "name": "stderr",
     "output_type": "stream",
     "text": [
      "Best trial: 27. Best value: 0.785299: 100%|██████████████████████████████████████████████████████████████████████████████████████████████████████████████████████████████████████████████████████████████████| 30/30 [15:45<00:00, 31.51s/it]"
     ]
    },
    {
     "name": "stdout",
     "output_type": "stream",
     "text": [
      "[I 2023-10-14 22:34:16,898] Trial 29 finished with value: 0.7848925940470541 and parameters: {'n_estimators': 301, 'learning_rate': 0.07102455993430254, 'depth': 3, 'subsample': 0.5511355510787153, 'colsample_bylevel': 0.9213696062365356, 'min_data_in_leaf': 48, 'verbose': False}. Best is trial 27 with value: 0.7852990597094218.\n"
     ]
    },
    {
     "name": "stderr",
     "output_type": "stream",
     "text": [
      "\n"
     ]
    }
   ],
   "source": [
    "def objective(trial):\n",
    "    params = {\n",
    "        'task_type', 'GPU',\n",
    "        'n_estimators': trial.suggest_int('n_estimators',50,1000, log=True),\n",
    "        'learning_rate': trial.suggest_float('learning_rate', 1e-3, 0.1, log=True),\n",
    "        'depth': trial.suggest_int('depth', 1, 10),\n",
    "        'subsample': trial.suggest_float('subsample', 0.05, 1.0),\n",
    "        'colsample_bylevel': trial.suggest_float('colsample_bylevel', 0.05, 1.0),\n",
    "        'min_data_in_leaf': trial.suggest_int('min_data_in_leaf', 1, 100),\n",
    "        'verbose': trial.suggest_categorical('verbose', [False])\n",
    "    }\n",
    "    pipeline = make_pipeline(partial_pipeline, CatBoostClassifier(**params))\n",
    "    scores = cross_val_score(pipeline, X, y, cv=SPLITS, scoring='roc_auc', n_jobs=-1)\n",
    "    return scores.mean()\n",
    "\n",
    "study = optuna.create_study(direction='maximize')\n",
    "study.optimize(objective, n_trials=30, show_progress_bar=True)"
   ]
  },
  {
   "cell_type": "code",
   "execution_count": 7,
   "id": "7a1b9366-ca66-4e7b-a06c-f2c01ad11bad",
   "metadata": {},
   "outputs": [
    {
     "data": {
      "text/plain": [
       "({'n_estimators': 286,\n",
       "  'learning_rate': 0.07110901618444579,\n",
       "  'depth': 5,\n",
       "  'subsample': 0.4940134861055049,\n",
       "  'colsample_bylevel': 0.9090142712877507,\n",
       "  'min_data_in_leaf': 62,\n",
       "  'verbose': False},\n",
       " 0.7852990597094218)"
      ]
     },
     "execution_count": 7,
     "metadata": {},
     "output_type": "execute_result"
    }
   ],
   "source": [
    "study.best_params, study.best_value"
   ]
  },
  {
   "cell_type": "code",
   "execution_count": 8,
   "id": "f7f33790-1ea3-47d6-9c33-cc453ceed7b1",
   "metadata": {},
   "outputs": [
    {
     "data": {
      "text/html": [
       "<style>#sk-container-id-1 {color: black;}#sk-container-id-1 pre{padding: 0;}#sk-container-id-1 div.sk-toggleable {background-color: white;}#sk-container-id-1 label.sk-toggleable__label {cursor: pointer;display: block;width: 100%;margin-bottom: 0;padding: 0.3em;box-sizing: border-box;text-align: center;}#sk-container-id-1 label.sk-toggleable__label-arrow:before {content: \"▸\";float: left;margin-right: 0.25em;color: #696969;}#sk-container-id-1 label.sk-toggleable__label-arrow:hover:before {color: black;}#sk-container-id-1 div.sk-estimator:hover label.sk-toggleable__label-arrow:before {color: black;}#sk-container-id-1 div.sk-toggleable__content {max-height: 0;max-width: 0;overflow: hidden;text-align: left;background-color: #f0f8ff;}#sk-container-id-1 div.sk-toggleable__content pre {margin: 0.2em;color: black;border-radius: 0.25em;background-color: #f0f8ff;}#sk-container-id-1 input.sk-toggleable__control:checked~div.sk-toggleable__content {max-height: 200px;max-width: 100%;overflow: auto;}#sk-container-id-1 input.sk-toggleable__control:checked~label.sk-toggleable__label-arrow:before {content: \"▾\";}#sk-container-id-1 div.sk-estimator input.sk-toggleable__control:checked~label.sk-toggleable__label {background-color: #d4ebff;}#sk-container-id-1 div.sk-label input.sk-toggleable__control:checked~label.sk-toggleable__label {background-color: #d4ebff;}#sk-container-id-1 input.sk-hidden--visually {border: 0;clip: rect(1px 1px 1px 1px);clip: rect(1px, 1px, 1px, 1px);height: 1px;margin: -1px;overflow: hidden;padding: 0;position: absolute;width: 1px;}#sk-container-id-1 div.sk-estimator {font-family: monospace;background-color: #f0f8ff;border: 1px dotted black;border-radius: 0.25em;box-sizing: border-box;margin-bottom: 0.5em;}#sk-container-id-1 div.sk-estimator:hover {background-color: #d4ebff;}#sk-container-id-1 div.sk-parallel-item::after {content: \"\";width: 100%;border-bottom: 1px solid gray;flex-grow: 1;}#sk-container-id-1 div.sk-label:hover label.sk-toggleable__label {background-color: #d4ebff;}#sk-container-id-1 div.sk-serial::before {content: \"\";position: absolute;border-left: 1px solid gray;box-sizing: border-box;top: 0;bottom: 0;left: 50%;z-index: 0;}#sk-container-id-1 div.sk-serial {display: flex;flex-direction: column;align-items: center;background-color: white;padding-right: 0.2em;padding-left: 0.2em;position: relative;}#sk-container-id-1 div.sk-item {position: relative;z-index: 1;}#sk-container-id-1 div.sk-parallel {display: flex;align-items: stretch;justify-content: center;background-color: white;position: relative;}#sk-container-id-1 div.sk-item::before, #sk-container-id-1 div.sk-parallel-item::before {content: \"\";position: absolute;border-left: 1px solid gray;box-sizing: border-box;top: 0;bottom: 0;left: 50%;z-index: -1;}#sk-container-id-1 div.sk-parallel-item {display: flex;flex-direction: column;z-index: 1;position: relative;background-color: white;}#sk-container-id-1 div.sk-parallel-item:first-child::after {align-self: flex-end;width: 50%;}#sk-container-id-1 div.sk-parallel-item:last-child::after {align-self: flex-start;width: 50%;}#sk-container-id-1 div.sk-parallel-item:only-child::after {width: 0;}#sk-container-id-1 div.sk-dashed-wrapped {border: 1px dashed gray;margin: 0 0.4em 0.5em 0.4em;box-sizing: border-box;padding-bottom: 0.4em;background-color: white;}#sk-container-id-1 div.sk-label label {font-family: monospace;font-weight: bold;display: inline-block;line-height: 1.2em;}#sk-container-id-1 div.sk-label-container {text-align: center;}#sk-container-id-1 div.sk-container {/* jupyter's `normalize.less` sets `[hidden] { display: none; }` but bootstrap.min.css set `[hidden] { display: none !important; }` so we also need the `!important` here to be able to override the default hidden behavior on the sphinx rendered scikit-learn.org. See: https://github.com/scikit-learn/scikit-learn/issues/21755 */display: inline-block !important;position: relative;}#sk-container-id-1 div.sk-text-repr-fallback {display: none;}</style><div id=\"sk-container-id-1\" class=\"sk-top-container\"><div class=\"sk-text-repr-fallback\"><pre>Pipeline(steps=[(&#x27;pipeline&#x27;,\n",
       "                 Pipeline(steps=[(&#x27;simpleimputer&#x27;, SimpleImputer()),\n",
       "                                 (&#x27;functiontransformer&#x27;,\n",
       "                                  FunctionTransformer(func=&lt;ufunc &#x27;log1p&#x27;&gt;)),\n",
       "                                 (&#x27;standardscaler&#x27;, StandardScaler())])),\n",
       "                (&#x27;catboostclassifier&#x27;,\n",
       "                 &lt;catboost.core.CatBoostClassifier object at 0x7f548da32c50&gt;)])</pre><b>In a Jupyter environment, please rerun this cell to show the HTML representation or trust the notebook. <br />On GitHub, the HTML representation is unable to render, please try loading this page with nbviewer.org.</b></div><div class=\"sk-container\" hidden><div class=\"sk-item sk-dashed-wrapped\"><div class=\"sk-label-container\"><div class=\"sk-label sk-toggleable\"><input class=\"sk-toggleable__control sk-hidden--visually\" id=\"sk-estimator-id-1\" type=\"checkbox\" ><label for=\"sk-estimator-id-1\" class=\"sk-toggleable__label sk-toggleable__label-arrow\">Pipeline</label><div class=\"sk-toggleable__content\"><pre>Pipeline(steps=[(&#x27;pipeline&#x27;,\n",
       "                 Pipeline(steps=[(&#x27;simpleimputer&#x27;, SimpleImputer()),\n",
       "                                 (&#x27;functiontransformer&#x27;,\n",
       "                                  FunctionTransformer(func=&lt;ufunc &#x27;log1p&#x27;&gt;)),\n",
       "                                 (&#x27;standardscaler&#x27;, StandardScaler())])),\n",
       "                (&#x27;catboostclassifier&#x27;,\n",
       "                 &lt;catboost.core.CatBoostClassifier object at 0x7f548da32c50&gt;)])</pre></div></div></div><div class=\"sk-serial\"><div class=\"sk-item\"><div class=\"sk-label-container\"><div class=\"sk-label sk-toggleable\"><input class=\"sk-toggleable__control sk-hidden--visually\" id=\"sk-estimator-id-2\" type=\"checkbox\" ><label for=\"sk-estimator-id-2\" class=\"sk-toggleable__label sk-toggleable__label-arrow\">pipeline: Pipeline</label><div class=\"sk-toggleable__content\"><pre>Pipeline(steps=[(&#x27;simpleimputer&#x27;, SimpleImputer()),\n",
       "                (&#x27;functiontransformer&#x27;,\n",
       "                 FunctionTransformer(func=&lt;ufunc &#x27;log1p&#x27;&gt;)),\n",
       "                (&#x27;standardscaler&#x27;, StandardScaler())])</pre></div></div></div><div class=\"sk-serial\"><div class=\"sk-item\"><div class=\"sk-estimator sk-toggleable\"><input class=\"sk-toggleable__control sk-hidden--visually\" id=\"sk-estimator-id-3\" type=\"checkbox\" ><label for=\"sk-estimator-id-3\" class=\"sk-toggleable__label sk-toggleable__label-arrow\">SimpleImputer</label><div class=\"sk-toggleable__content\"><pre>SimpleImputer()</pre></div></div></div><div class=\"sk-item\"><div class=\"sk-estimator sk-toggleable\"><input class=\"sk-toggleable__control sk-hidden--visually\" id=\"sk-estimator-id-4\" type=\"checkbox\" ><label for=\"sk-estimator-id-4\" class=\"sk-toggleable__label sk-toggleable__label-arrow\">FunctionTransformer</label><div class=\"sk-toggleable__content\"><pre>FunctionTransformer(func=&lt;ufunc &#x27;log1p&#x27;&gt;)</pre></div></div></div><div class=\"sk-item\"><div class=\"sk-estimator sk-toggleable\"><input class=\"sk-toggleable__control sk-hidden--visually\" id=\"sk-estimator-id-5\" type=\"checkbox\" ><label for=\"sk-estimator-id-5\" class=\"sk-toggleable__label sk-toggleable__label-arrow\">StandardScaler</label><div class=\"sk-toggleable__content\"><pre>StandardScaler()</pre></div></div></div></div></div><div class=\"sk-item\"><div class=\"sk-estimator sk-toggleable\"><input class=\"sk-toggleable__control sk-hidden--visually\" id=\"sk-estimator-id-6\" type=\"checkbox\" ><label for=\"sk-estimator-id-6\" class=\"sk-toggleable__label sk-toggleable__label-arrow\">CatBoostClassifier</label><div class=\"sk-toggleable__content\"><pre>&lt;catboost.core.CatBoostClassifier object at 0x7f548da32c50&gt;</pre></div></div></div></div></div></div></div>"
      ],
      "text/plain": [
       "Pipeline(steps=[('pipeline',\n",
       "                 Pipeline(steps=[('simpleimputer', SimpleImputer()),\n",
       "                                 ('functiontransformer',\n",
       "                                  FunctionTransformer(func=<ufunc 'log1p'>)),\n",
       "                                 ('standardscaler', StandardScaler())])),\n",
       "                ('catboostclassifier',\n",
       "                 <catboost.core.CatBoostClassifier object at 0x7f548da32c50>)])"
      ]
     },
     "execution_count": 8,
     "metadata": {},
     "output_type": "execute_result"
    }
   ],
   "source": [
    "pipeline = make_pipeline(partial_pipeline, CatBoostClassifier(**study.best_params))\n",
    "pipeline.fit(X, y)"
   ]
  },
  {
   "cell_type": "code",
   "execution_count": 9,
   "id": "e5fa8785-c5b9-4a2a-a0eb-3f84f4444597",
   "metadata": {},
   "outputs": [],
   "source": [
    "submission = test.copy()\n",
    "submission['defects'] = pipeline.predict_proba(submission)[:, 1]\n",
    "submission.defects.to_csv(OUTPUT)"
   ]
  },
  {
   "cell_type": "code",
   "execution_count": null,
   "id": "02cd4809-0010-4cbc-a273-782b7d74a87b",
   "metadata": {},
   "outputs": [],
   "source": []
  }
 ],
 "metadata": {
  "kernelspec": {
   "display_name": "Python 3 (ipykernel)",
   "language": "python",
   "name": "python3"
  },
  "language_info": {
   "codemirror_mode": {
    "name": "ipython",
    "version": 3
   },
   "file_extension": ".py",
   "mimetype": "text/x-python",
   "name": "python",
   "nbconvert_exporter": "python",
   "pygments_lexer": "ipython3",
   "version": "3.11.6"
  }
 },
 "nbformat": 4,
 "nbformat_minor": 5
}
