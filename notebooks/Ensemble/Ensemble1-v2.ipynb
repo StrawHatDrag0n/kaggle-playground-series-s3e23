{
 "cells": [
  {
   "cell_type": "code",
   "execution_count": 1,
   "id": "e692238b-aa05-41f6-adc6-73d275ddc45a",
   "metadata": {},
   "outputs": [
    {
     "name": "stderr",
     "output_type": "stream",
     "text": [
      "/home/strawhatdragon100/miniconda3/envs/kaggle/lib/python3.11/site-packages/tqdm/auto.py:21: TqdmWarning: IProgress not found. Please update jupyter and ipywidgets. See https://ipywidgets.readthedocs.io/en/stable/user_install.html\n",
      "  from .autonotebook import tqdm as notebook_tqdm\n"
     ]
    },
    {
     "name": "stdout",
     "output_type": "stream",
     "text": [
      "Warning: Your Kaggle API key is readable by other users on this system! To fix this, you can run 'chmod 600 /home/strawhatdragon100/.kaggle/kaggle.json'\n"
     ]
    }
   ],
   "source": [
    "import optuna\n",
    "import os\n",
    "from pathlib import Path\n",
    "import kaggle\n",
    "import pandas as pd\n",
    "from xgboost import XGBClassifier\n",
    "from catboost import CatBoostClassifier\n",
    "import numpy as np\n",
    "from sklearn.preprocessing import FunctionTransformer, PowerTransformer, StandardScaler\n",
    "from sklearn.compose import ColumnTransformer\n",
    "from sklearn.pipeline import make_pipeline\n",
    "from sklearn.impute import SimpleImputer\n",
    "from sklearn.model_selection import StratifiedKFold\n",
    "from sklearn.model_selection import cross_val_score\n",
    "from sklearn.ensemble import HistGradientBoostingClassifier, ExtraTreesClassifier, VotingClassifier\n",
    "\n",
    "\n",
    "pd.set_option('display.max_columns', None)\n",
    "pd.set_option('display.max_colwidth', None)\n",
    "\n",
    "iskaggle = os.environ.get('KAGGLE_KERNEL_RUN_TYPE', '')\n",
    "if iskaggle:\n",
    "    path = Path('../input/playground-series-s3e23')\n",
    "    orig_path = Path('../input/software-defect-prediction')\n",
    "else:\n",
    "    path = Path('../input/playground-series-s3e23')\n",
    "    orig_path = Path('../input/software-defect-prediction')\n",
    "    if not path.exists():\n",
    "        kaggle.api.competition_download_cli(str(path))\n",
    "        zipfile.ZipFile(f'{path}.zip').extractall(path)\n",
    "    if not orig_path.exists():\n",
    "        kaggle.api.competition_download_cli(str(path))\n",
    "        zipfile.ZipFile(f'{path}.zip').extractall(path)\n",
    "\n",
    "SEED = 42\n",
    "SPLITS = 5\n",
    "VERSION = 2\n",
    "OUTPUT = f'ensemble_1_clf_submisson_v{VERSION}.csv'\n",
    "N_TRIALS = 30\n",
    "\n",
    "np.random.seed(SEED)"
   ]
  },
  {
   "cell_type": "code",
   "execution_count": 2,
   "id": "1d83d82d-d3ae-42a2-acf0-c813ea9b5f22",
   "metadata": {},
   "outputs": [],
   "source": [
    "train = pd.read_csv(path/'train.csv', index_col = 'id')\n",
    "test = pd.read_csv(path/'test.csv', index_col = 'id')\n",
    "orig_train = pd.read_csv(orig_path/'jm1.csv')"
   ]
  },
  {
   "cell_type": "code",
   "execution_count": 3,
   "id": "92d59ec9-7299-4299-9f7e-1691b9e5d3cf",
   "metadata": {},
   "outputs": [],
   "source": [
    "for object_features in list(orig_train.loc[:, orig_train.dtypes == 'O']):\n",
    "    orig_train[object_features] = orig_train[object_features].replace({'?' : np.nan}).astype('float64')"
   ]
  },
  {
   "cell_type": "code",
   "execution_count": 4,
   "id": "7ec3bece-d430-4058-96cd-549a19235457",
   "metadata": {},
   "outputs": [],
   "source": [
    "X = pd.concat([train, orig_train])\n",
    "y = X.pop('defects')"
   ]
  },
  {
   "cell_type": "markdown",
   "id": "488e47b7-fe98-4aac-a035-1ec136d3308a",
   "metadata": {},
   "source": [
    "# HistGradientBoostingClassifier"
   ]
  },
  {
   "cell_type": "code",
   "execution_count": 5,
   "id": "19aafa67-f35e-48d4-b525-1da41b801488",
   "metadata": {},
   "outputs": [],
   "source": [
    "hist_grad_boost_clf_params = {'random_state': 42,\n",
    "  'learning_rate': 0.010212498830869023,\n",
    "  'l2_regularization': 53,\n",
    "  'max_iter': 5167,\n",
    "  'max_leaf_nodes': 24,\n",
    "  'min_samples_leaf': 300,\n",
    "  'max_bins': 186,\n",
    "  'class_weight': 'balanced'}\n",
    "hist_grad_boost_clf_pipeline = make_pipeline(SimpleImputer(), FunctionTransformer(func=np.log1p, validate=False), StandardScaler(), \n",
    "                                             HistGradientBoostingClassifier(**hist_grad_boost_clf_params))\n",
    "\n",
    "hist_grad_boost_clf_score = 0.7861680221392143"
   ]
  },
  {
   "cell_type": "markdown",
   "id": "4a4b9296-8a26-48c0-81d9-a51aeddb3541",
   "metadata": {},
   "source": [
    "# XGBoostClassifier"
   ]
  },
  {
   "cell_type": "code",
   "execution_count": 6,
   "id": "4f8bfe79-c511-43ec-b694-000fb966c6ea",
   "metadata": {},
   "outputs": [],
   "source": [
    "xg_boost_clf_params = {'n_jobs': -1,\n",
    "  'random_state': 42,\n",
    "  'lambda': 0.04066835180694219,\n",
    "  'alpha': 0.04259428467448357,\n",
    "  'colsample_bytree': 1.0,\n",
    "  'subsample': 0.6,\n",
    "  'learning_rate': 0.02,\n",
    "  'n_estimators': 400,\n",
    "  'max_depth': 5,\n",
    "  'min_child_weight': 80}\n",
    "xg_boost_clf_pipeline = make_pipeline(SimpleImputer(), FunctionTransformer(func=np.log1p, validate=False), PowerTransformer(), XGBClassifier(**xg_boost_clf_params))\n",
    "\n",
    "xg_boost_clf_score = 0.7863815140733784"
   ]
  },
  {
   "cell_type": "markdown",
   "id": "5f1950ec-56ff-4665-adbe-7527ca7cca65",
   "metadata": {},
   "source": [
    "# CatBoostClassifier"
   ]
  },
  {
   "cell_type": "code",
   "execution_count": 7,
   "id": "b48c741e-c4ed-4c15-b853-68f7b5d1a790",
   "metadata": {},
   "outputs": [],
   "source": [
    "cat_boost_clf_params = {'n_estimators': 647,\n",
    "  'learning_rate': 0.062126136754221545,\n",
    "  'depth': 3,\n",
    "  'l2_leaf_reg': 0.1675463052495161,\n",
    "  'model_size_reg': 0.003576422478697353,\n",
    "  'random_strength': 4.2456958775047355e-07,\n",
    "  'subsample': 0.6625232716854229,\n",
    "  'verbose': False}\n",
    "cat_boost_clf_pipeline = make_pipeline(SimpleImputer(), FunctionTransformer(func=np.log1p, validate=False), PowerTransformer(), CatBoostClassifier(**cat_boost_clf_params))\n",
    "\n",
    "cat_boost_clf_score = 0.7858636509474153"
   ]
  },
  {
   "cell_type": "markdown",
   "id": "2c948cfe-f968-424a-b7d8-054e76e62a38",
   "metadata": {},
   "source": [
    "# ExtraTreesClassfiers"
   ]
  },
  {
   "cell_type": "code",
   "execution_count": 8,
   "id": "091a0fab-24a4-4804-a174-b5c7849d4805",
   "metadata": {},
   "outputs": [],
   "source": [
    "extra_trees_clf_params = {'n_estimators': 500,\n",
    "  'n_jobs': -1,\n",
    "  'random_state': 42,\n",
    "  'max_depth': 12,\n",
    "  'min_samples_split': 101,\n",
    "  'min_samples_leaf': 47,\n",
    "  'criterion': 'gini',\n",
    "  'max_features': 1.0}\n",
    "extra_trees_clf_pipeline = make_pipeline(ColumnTransformer([('drop', 'drop',\n",
    "                                  ['iv(g)', 't', 'b', 'n',\n",
    "                                   'lOCode', 'v', 'branchCount',\n",
    "                                   'e', 'i', 'lOComment'])],\n",
    "                                remainder='passthrough'), SimpleImputer(), FunctionTransformer(func=np.log1p, validate=False), PowerTransformer(), \n",
    "                                         ExtraTreesClassifier(**extra_trees_clf_params))\n",
    "extra_trees_clf_score = 0.785717273334426"
   ]
  },
  {
   "cell_type": "markdown",
   "id": "b6f98dae-76a7-4838-8504-3c3f19babb63",
   "metadata": {},
   "source": [
    "# Voting Classifier"
   ]
  },
  {
   "cell_type": "code",
   "execution_count": 9,
   "id": "42796129-529a-4615-9e79-25caccafdb5b",
   "metadata": {},
   "outputs": [],
   "source": [
    "models= [\n",
    "    ('HistGradientBoostingClassifier', hist_grad_boost_clf_pipeline),\n",
    "    ('XGBClassifier', xg_boost_clf_pipeline),\n",
    "    ('CatBoostClassifier', cat_boost_clf_pipeline),\n",
    "    ('ExtraTreesClassifier', extra_trees_clf_pipeline)\n",
    "]\n",
    "model_weights = [0] * len(models)\n",
    "model_scores = [hist_grad_boost_clf_score, xg_boost_clf_score, cat_boost_clf_score, extra_trees_clf_score]\n",
    "total_score = np.sum(model_scores)\n",
    "\n",
    "for i, score in enumerate(model_scores):\n",
    "    model_weights[i] = model_scores[i] / total_score"
   ]
  },
  {
   "cell_type": "code",
   "execution_count": 10,
   "id": "53b99552-0e1d-4982-9ecf-a684e394aaf8",
   "metadata": {},
   "outputs": [
    {
     "data": {
      "text/html": [
       "<style>#sk-container-id-1 {color: black;}#sk-container-id-1 pre{padding: 0;}#sk-container-id-1 div.sk-toggleable {background-color: white;}#sk-container-id-1 label.sk-toggleable__label {cursor: pointer;display: block;width: 100%;margin-bottom: 0;padding: 0.3em;box-sizing: border-box;text-align: center;}#sk-container-id-1 label.sk-toggleable__label-arrow:before {content: \"▸\";float: left;margin-right: 0.25em;color: #696969;}#sk-container-id-1 label.sk-toggleable__label-arrow:hover:before {color: black;}#sk-container-id-1 div.sk-estimator:hover label.sk-toggleable__label-arrow:before {color: black;}#sk-container-id-1 div.sk-toggleable__content {max-height: 0;max-width: 0;overflow: hidden;text-align: left;background-color: #f0f8ff;}#sk-container-id-1 div.sk-toggleable__content pre {margin: 0.2em;color: black;border-radius: 0.25em;background-color: #f0f8ff;}#sk-container-id-1 input.sk-toggleable__control:checked~div.sk-toggleable__content {max-height: 200px;max-width: 100%;overflow: auto;}#sk-container-id-1 input.sk-toggleable__control:checked~label.sk-toggleable__label-arrow:before {content: \"▾\";}#sk-container-id-1 div.sk-estimator input.sk-toggleable__control:checked~label.sk-toggleable__label {background-color: #d4ebff;}#sk-container-id-1 div.sk-label input.sk-toggleable__control:checked~label.sk-toggleable__label {background-color: #d4ebff;}#sk-container-id-1 input.sk-hidden--visually {border: 0;clip: rect(1px 1px 1px 1px);clip: rect(1px, 1px, 1px, 1px);height: 1px;margin: -1px;overflow: hidden;padding: 0;position: absolute;width: 1px;}#sk-container-id-1 div.sk-estimator {font-family: monospace;background-color: #f0f8ff;border: 1px dotted black;border-radius: 0.25em;box-sizing: border-box;margin-bottom: 0.5em;}#sk-container-id-1 div.sk-estimator:hover {background-color: #d4ebff;}#sk-container-id-1 div.sk-parallel-item::after {content: \"\";width: 100%;border-bottom: 1px solid gray;flex-grow: 1;}#sk-container-id-1 div.sk-label:hover label.sk-toggleable__label {background-color: #d4ebff;}#sk-container-id-1 div.sk-serial::before {content: \"\";position: absolute;border-left: 1px solid gray;box-sizing: border-box;top: 0;bottom: 0;left: 50%;z-index: 0;}#sk-container-id-1 div.sk-serial {display: flex;flex-direction: column;align-items: center;background-color: white;padding-right: 0.2em;padding-left: 0.2em;position: relative;}#sk-container-id-1 div.sk-item {position: relative;z-index: 1;}#sk-container-id-1 div.sk-parallel {display: flex;align-items: stretch;justify-content: center;background-color: white;position: relative;}#sk-container-id-1 div.sk-item::before, #sk-container-id-1 div.sk-parallel-item::before {content: \"\";position: absolute;border-left: 1px solid gray;box-sizing: border-box;top: 0;bottom: 0;left: 50%;z-index: -1;}#sk-container-id-1 div.sk-parallel-item {display: flex;flex-direction: column;z-index: 1;position: relative;background-color: white;}#sk-container-id-1 div.sk-parallel-item:first-child::after {align-self: flex-end;width: 50%;}#sk-container-id-1 div.sk-parallel-item:last-child::after {align-self: flex-start;width: 50%;}#sk-container-id-1 div.sk-parallel-item:only-child::after {width: 0;}#sk-container-id-1 div.sk-dashed-wrapped {border: 1px dashed gray;margin: 0 0.4em 0.5em 0.4em;box-sizing: border-box;padding-bottom: 0.4em;background-color: white;}#sk-container-id-1 div.sk-label label {font-family: monospace;font-weight: bold;display: inline-block;line-height: 1.2em;}#sk-container-id-1 div.sk-label-container {text-align: center;}#sk-container-id-1 div.sk-container {/* jupyter's `normalize.less` sets `[hidden] { display: none; }` but bootstrap.min.css set `[hidden] { display: none !important; }` so we also need the `!important` here to be able to override the default hidden behavior on the sphinx rendered scikit-learn.org. See: https://github.com/scikit-learn/scikit-learn/issues/21755 */display: inline-block !important;position: relative;}#sk-container-id-1 div.sk-text-repr-fallback {display: none;}</style><div id=\"sk-container-id-1\" class=\"sk-top-container\"><div class=\"sk-text-repr-fallback\"><pre>VotingClassifier(estimators=[(&#x27;HistGradientBoostingClassifier&#x27;,\n",
       "                              Pipeline(steps=[(&#x27;simpleimputer&#x27;,\n",
       "                                               SimpleImputer()),\n",
       "                                              (&#x27;functiontransformer&#x27;,\n",
       "                                               FunctionTransformer(func=&lt;ufunc &#x27;log1p&#x27;&gt;)),\n",
       "                                              (&#x27;standardscaler&#x27;,\n",
       "                                               StandardScaler()),\n",
       "                                              (&#x27;histgradientboostingclassifier&#x27;,\n",
       "                                               HistGradientBoostingClassifier(class_weight=&#x27;balanced&#x27;,\n",
       "                                                                              l2_regularization=53,\n",
       "                                                                              learning_rate=0.0102124988...\n",
       "                                              (&#x27;functiontransformer&#x27;,\n",
       "                                               FunctionTransformer(func=&lt;ufunc &#x27;log1p&#x27;&gt;)),\n",
       "                                              (&#x27;powertransformer&#x27;,\n",
       "                                               PowerTransformer()),\n",
       "                                              (&#x27;extratreesclassifier&#x27;,\n",
       "                                               ExtraTreesClassifier(max_depth=12,\n",
       "                                                                    max_features=1.0,\n",
       "                                                                    min_samples_leaf=47,\n",
       "                                                                    min_samples_split=101,\n",
       "                                                                    n_estimators=500,\n",
       "                                                                    n_jobs=-1,\n",
       "                                                                    random_state=42))]))],\n",
       "                 voting=&#x27;soft&#x27;,\n",
       "                 weights=[0.250043066602136, 0.25011096834376106,\n",
       "                          0.24994626044360554, 0.2498997046104973])</pre><b>In a Jupyter environment, please rerun this cell to show the HTML representation or trust the notebook. <br />On GitHub, the HTML representation is unable to render, please try loading this page with nbviewer.org.</b></div><div class=\"sk-container\" hidden><div class=\"sk-item sk-dashed-wrapped\"><div class=\"sk-label-container\"><div class=\"sk-label sk-toggleable\"><input class=\"sk-toggleable__control sk-hidden--visually\" id=\"sk-estimator-id-1\" type=\"checkbox\" ><label for=\"sk-estimator-id-1\" class=\"sk-toggleable__label sk-toggleable__label-arrow\">VotingClassifier</label><div class=\"sk-toggleable__content\"><pre>VotingClassifier(estimators=[(&#x27;HistGradientBoostingClassifier&#x27;,\n",
       "                              Pipeline(steps=[(&#x27;simpleimputer&#x27;,\n",
       "                                               SimpleImputer()),\n",
       "                                              (&#x27;functiontransformer&#x27;,\n",
       "                                               FunctionTransformer(func=&lt;ufunc &#x27;log1p&#x27;&gt;)),\n",
       "                                              (&#x27;standardscaler&#x27;,\n",
       "                                               StandardScaler()),\n",
       "                                              (&#x27;histgradientboostingclassifier&#x27;,\n",
       "                                               HistGradientBoostingClassifier(class_weight=&#x27;balanced&#x27;,\n",
       "                                                                              l2_regularization=53,\n",
       "                                                                              learning_rate=0.0102124988...\n",
       "                                              (&#x27;functiontransformer&#x27;,\n",
       "                                               FunctionTransformer(func=&lt;ufunc &#x27;log1p&#x27;&gt;)),\n",
       "                                              (&#x27;powertransformer&#x27;,\n",
       "                                               PowerTransformer()),\n",
       "                                              (&#x27;extratreesclassifier&#x27;,\n",
       "                                               ExtraTreesClassifier(max_depth=12,\n",
       "                                                                    max_features=1.0,\n",
       "                                                                    min_samples_leaf=47,\n",
       "                                                                    min_samples_split=101,\n",
       "                                                                    n_estimators=500,\n",
       "                                                                    n_jobs=-1,\n",
       "                                                                    random_state=42))]))],\n",
       "                 voting=&#x27;soft&#x27;,\n",
       "                 weights=[0.250043066602136, 0.25011096834376106,\n",
       "                          0.24994626044360554, 0.2498997046104973])</pre></div></div></div><div class=\"sk-parallel\"><div class=\"sk-parallel-item\"><div class=\"sk-item\"><div class=\"sk-label-container\"><div class=\"sk-label sk-toggleable\"><label>HistGradientBoostingClassifier</label></div></div><div class=\"sk-serial\"><div class=\"sk-item\"><div class=\"sk-serial\"><div class=\"sk-item\"><div class=\"sk-estimator sk-toggleable\"><input class=\"sk-toggleable__control sk-hidden--visually\" id=\"sk-estimator-id-2\" type=\"checkbox\" ><label for=\"sk-estimator-id-2\" class=\"sk-toggleable__label sk-toggleable__label-arrow\">SimpleImputer</label><div class=\"sk-toggleable__content\"><pre>SimpleImputer()</pre></div></div></div><div class=\"sk-item\"><div class=\"sk-estimator sk-toggleable\"><input class=\"sk-toggleable__control sk-hidden--visually\" id=\"sk-estimator-id-3\" type=\"checkbox\" ><label for=\"sk-estimator-id-3\" class=\"sk-toggleable__label sk-toggleable__label-arrow\">FunctionTransformer</label><div class=\"sk-toggleable__content\"><pre>FunctionTransformer(func=&lt;ufunc &#x27;log1p&#x27;&gt;)</pre></div></div></div><div class=\"sk-item\"><div class=\"sk-estimator sk-toggleable\"><input class=\"sk-toggleable__control sk-hidden--visually\" id=\"sk-estimator-id-4\" type=\"checkbox\" ><label for=\"sk-estimator-id-4\" class=\"sk-toggleable__label sk-toggleable__label-arrow\">StandardScaler</label><div class=\"sk-toggleable__content\"><pre>StandardScaler()</pre></div></div></div><div class=\"sk-item\"><div class=\"sk-estimator sk-toggleable\"><input class=\"sk-toggleable__control sk-hidden--visually\" id=\"sk-estimator-id-5\" type=\"checkbox\" ><label for=\"sk-estimator-id-5\" class=\"sk-toggleable__label sk-toggleable__label-arrow\">HistGradientBoostingClassifier</label><div class=\"sk-toggleable__content\"><pre>HistGradientBoostingClassifier(class_weight=&#x27;balanced&#x27;, l2_regularization=53,\n",
       "                               learning_rate=0.010212498830869023, max_bins=186,\n",
       "                               max_iter=5167, max_leaf_nodes=24,\n",
       "                               min_samples_leaf=300, random_state=42)</pre></div></div></div></div></div></div></div></div><div class=\"sk-parallel-item\"><div class=\"sk-item\"><div class=\"sk-label-container\"><div class=\"sk-label sk-toggleable\"><label>XGBClassifier</label></div></div><div class=\"sk-serial\"><div class=\"sk-item\"><div class=\"sk-serial\"><div class=\"sk-item\"><div class=\"sk-estimator sk-toggleable\"><input class=\"sk-toggleable__control sk-hidden--visually\" id=\"sk-estimator-id-6\" type=\"checkbox\" ><label for=\"sk-estimator-id-6\" class=\"sk-toggleable__label sk-toggleable__label-arrow\">SimpleImputer</label><div class=\"sk-toggleable__content\"><pre>SimpleImputer()</pre></div></div></div><div class=\"sk-item\"><div class=\"sk-estimator sk-toggleable\"><input class=\"sk-toggleable__control sk-hidden--visually\" id=\"sk-estimator-id-7\" type=\"checkbox\" ><label for=\"sk-estimator-id-7\" class=\"sk-toggleable__label sk-toggleable__label-arrow\">FunctionTransformer</label><div class=\"sk-toggleable__content\"><pre>FunctionTransformer(func=&lt;ufunc &#x27;log1p&#x27;&gt;)</pre></div></div></div><div class=\"sk-item\"><div class=\"sk-estimator sk-toggleable\"><input class=\"sk-toggleable__control sk-hidden--visually\" id=\"sk-estimator-id-8\" type=\"checkbox\" ><label for=\"sk-estimator-id-8\" class=\"sk-toggleable__label sk-toggleable__label-arrow\">PowerTransformer</label><div class=\"sk-toggleable__content\"><pre>PowerTransformer()</pre></div></div></div><div class=\"sk-item\"><div class=\"sk-estimator sk-toggleable\"><input class=\"sk-toggleable__control sk-hidden--visually\" id=\"sk-estimator-id-9\" type=\"checkbox\" ><label for=\"sk-estimator-id-9\" class=\"sk-toggleable__label sk-toggleable__label-arrow\">XGBClassifier</label><div class=\"sk-toggleable__content\"><pre>XGBClassifier(alpha=0.04259428467448357, base_score=None, booster=None,\n",
       "              callbacks=None, colsample_bylevel=None, colsample_bynode=None,\n",
       "              colsample_bytree=1.0, early_stopping_rounds=None,\n",
       "              enable_categorical=False, eval_metric=None, feature_types=None,\n",
       "              gamma=None, gpu_id=None, grow_policy=None, importance_type=None,\n",
       "              interaction_constraints=None, lambda=0.04066835180694219,\n",
       "              learning_rate=0.02, max_bin=None, max_cat_threshold=None,\n",
       "              max_cat_to_onehot=None, max_delta_step=None, max_depth=5,\n",
       "              max_leaves=None, min_child_weight=80, missing=nan,\n",
       "              monotone_constraints=None, n_estimators=400, n_jobs=-1,\n",
       "              num_parallel_tree=None, ...)</pre></div></div></div></div></div></div></div></div><div class=\"sk-parallel-item\"><div class=\"sk-item\"><div class=\"sk-label-container\"><div class=\"sk-label sk-toggleable\"><label>CatBoostClassifier</label></div></div><div class=\"sk-serial\"><div class=\"sk-item\"><div class=\"sk-serial\"><div class=\"sk-item\"><div class=\"sk-estimator sk-toggleable\"><input class=\"sk-toggleable__control sk-hidden--visually\" id=\"sk-estimator-id-10\" type=\"checkbox\" ><label for=\"sk-estimator-id-10\" class=\"sk-toggleable__label sk-toggleable__label-arrow\">SimpleImputer</label><div class=\"sk-toggleable__content\"><pre>SimpleImputer()</pre></div></div></div><div class=\"sk-item\"><div class=\"sk-estimator sk-toggleable\"><input class=\"sk-toggleable__control sk-hidden--visually\" id=\"sk-estimator-id-11\" type=\"checkbox\" ><label for=\"sk-estimator-id-11\" class=\"sk-toggleable__label sk-toggleable__label-arrow\">FunctionTransformer</label><div class=\"sk-toggleable__content\"><pre>FunctionTransformer(func=&lt;ufunc &#x27;log1p&#x27;&gt;)</pre></div></div></div><div class=\"sk-item\"><div class=\"sk-estimator sk-toggleable\"><input class=\"sk-toggleable__control sk-hidden--visually\" id=\"sk-estimator-id-12\" type=\"checkbox\" ><label for=\"sk-estimator-id-12\" class=\"sk-toggleable__label sk-toggleable__label-arrow\">PowerTransformer</label><div class=\"sk-toggleable__content\"><pre>PowerTransformer()</pre></div></div></div><div class=\"sk-item\"><div class=\"sk-estimator sk-toggleable\"><input class=\"sk-toggleable__control sk-hidden--visually\" id=\"sk-estimator-id-13\" type=\"checkbox\" ><label for=\"sk-estimator-id-13\" class=\"sk-toggleable__label sk-toggleable__label-arrow\">CatBoostClassifier</label><div class=\"sk-toggleable__content\"><pre>&lt;catboost.core.CatBoostClassifier object at 0x7fb72a7c6d90&gt;</pre></div></div></div></div></div></div></div></div><div class=\"sk-parallel-item\"><div class=\"sk-item\"><div class=\"sk-label-container\"><div class=\"sk-label sk-toggleable\"><label>ExtraTreesClassifier</label></div></div><div class=\"sk-serial\"><div class=\"sk-item\"><div class=\"sk-serial\"><div class=\"sk-item sk-dashed-wrapped\"><div class=\"sk-label-container\"><div class=\"sk-label sk-toggleable\"><input class=\"sk-toggleable__control sk-hidden--visually\" id=\"sk-estimator-id-14\" type=\"checkbox\" ><label for=\"sk-estimator-id-14\" class=\"sk-toggleable__label sk-toggleable__label-arrow\">columntransformer: ColumnTransformer</label><div class=\"sk-toggleable__content\"><pre>ColumnTransformer(remainder=&#x27;passthrough&#x27;,\n",
       "                  transformers=[(&#x27;drop&#x27;, &#x27;drop&#x27;,\n",
       "                                 [&#x27;iv(g)&#x27;, &#x27;t&#x27;, &#x27;b&#x27;, &#x27;n&#x27;, &#x27;lOCode&#x27;, &#x27;v&#x27;,\n",
       "                                  &#x27;branchCount&#x27;, &#x27;e&#x27;, &#x27;i&#x27;, &#x27;lOComment&#x27;])])</pre></div></div></div><div class=\"sk-parallel\"><div class=\"sk-parallel-item\"><div class=\"sk-item\"><div class=\"sk-label-container\"><div class=\"sk-label sk-toggleable\"><input class=\"sk-toggleable__control sk-hidden--visually\" id=\"sk-estimator-id-15\" type=\"checkbox\" ><label for=\"sk-estimator-id-15\" class=\"sk-toggleable__label sk-toggleable__label-arrow\">drop</label><div class=\"sk-toggleable__content\"><pre>[&#x27;iv(g)&#x27;, &#x27;t&#x27;, &#x27;b&#x27;, &#x27;n&#x27;, &#x27;lOCode&#x27;, &#x27;v&#x27;, &#x27;branchCount&#x27;, &#x27;e&#x27;, &#x27;i&#x27;, &#x27;lOComment&#x27;]</pre></div></div></div><div class=\"sk-serial\"><div class=\"sk-item\"><div class=\"sk-estimator sk-toggleable\"><input class=\"sk-toggleable__control sk-hidden--visually\" id=\"sk-estimator-id-16\" type=\"checkbox\" ><label for=\"sk-estimator-id-16\" class=\"sk-toggleable__label sk-toggleable__label-arrow\">drop</label><div class=\"sk-toggleable__content\"><pre>drop</pre></div></div></div></div></div></div><div class=\"sk-parallel-item\"><div class=\"sk-item\"><div class=\"sk-label-container\"><div class=\"sk-label sk-toggleable\"><input class=\"sk-toggleable__control sk-hidden--visually\" id=\"sk-estimator-id-17\" type=\"checkbox\" ><label for=\"sk-estimator-id-17\" class=\"sk-toggleable__label sk-toggleable__label-arrow\">remainder</label><div class=\"sk-toggleable__content\"><pre></pre></div></div></div><div class=\"sk-serial\"><div class=\"sk-item\"><div class=\"sk-estimator sk-toggleable\"><input class=\"sk-toggleable__control sk-hidden--visually\" id=\"sk-estimator-id-18\" type=\"checkbox\" ><label for=\"sk-estimator-id-18\" class=\"sk-toggleable__label sk-toggleable__label-arrow\">passthrough</label><div class=\"sk-toggleable__content\"><pre>passthrough</pre></div></div></div></div></div></div></div></div><div class=\"sk-item\"><div class=\"sk-estimator sk-toggleable\"><input class=\"sk-toggleable__control sk-hidden--visually\" id=\"sk-estimator-id-19\" type=\"checkbox\" ><label for=\"sk-estimator-id-19\" class=\"sk-toggleable__label sk-toggleable__label-arrow\">SimpleImputer</label><div class=\"sk-toggleable__content\"><pre>SimpleImputer()</pre></div></div></div><div class=\"sk-item\"><div class=\"sk-estimator sk-toggleable\"><input class=\"sk-toggleable__control sk-hidden--visually\" id=\"sk-estimator-id-20\" type=\"checkbox\" ><label for=\"sk-estimator-id-20\" class=\"sk-toggleable__label sk-toggleable__label-arrow\">FunctionTransformer</label><div class=\"sk-toggleable__content\"><pre>FunctionTransformer(func=&lt;ufunc &#x27;log1p&#x27;&gt;)</pre></div></div></div><div class=\"sk-item\"><div class=\"sk-estimator sk-toggleable\"><input class=\"sk-toggleable__control sk-hidden--visually\" id=\"sk-estimator-id-21\" type=\"checkbox\" ><label for=\"sk-estimator-id-21\" class=\"sk-toggleable__label sk-toggleable__label-arrow\">PowerTransformer</label><div class=\"sk-toggleable__content\"><pre>PowerTransformer()</pre></div></div></div><div class=\"sk-item\"><div class=\"sk-estimator sk-toggleable\"><input class=\"sk-toggleable__control sk-hidden--visually\" id=\"sk-estimator-id-22\" type=\"checkbox\" ><label for=\"sk-estimator-id-22\" class=\"sk-toggleable__label sk-toggleable__label-arrow\">ExtraTreesClassifier</label><div class=\"sk-toggleable__content\"><pre>ExtraTreesClassifier(max_depth=12, max_features=1.0, min_samples_leaf=47,\n",
       "                     min_samples_split=101, n_estimators=500, n_jobs=-1,\n",
       "                     random_state=42)</pre></div></div></div></div></div></div></div></div></div></div></div></div>"
      ],
      "text/plain": [
       "VotingClassifier(estimators=[('HistGradientBoostingClassifier',\n",
       "                              Pipeline(steps=[('simpleimputer',\n",
       "                                               SimpleImputer()),\n",
       "                                              ('functiontransformer',\n",
       "                                               FunctionTransformer(func=<ufunc 'log1p'>)),\n",
       "                                              ('standardscaler',\n",
       "                                               StandardScaler()),\n",
       "                                              ('histgradientboostingclassifier',\n",
       "                                               HistGradientBoostingClassifier(class_weight='balanced',\n",
       "                                                                              l2_regularization=53,\n",
       "                                                                              learning_rate=0.0102124988...\n",
       "                                              ('functiontransformer',\n",
       "                                               FunctionTransformer(func=<ufunc 'log1p'>)),\n",
       "                                              ('powertransformer',\n",
       "                                               PowerTransformer()),\n",
       "                                              ('extratreesclassifier',\n",
       "                                               ExtraTreesClassifier(max_depth=12,\n",
       "                                                                    max_features=1.0,\n",
       "                                                                    min_samples_leaf=47,\n",
       "                                                                    min_samples_split=101,\n",
       "                                                                    n_estimators=500,\n",
       "                                                                    n_jobs=-1,\n",
       "                                                                    random_state=42))]))],\n",
       "                 voting='soft',\n",
       "                 weights=[0.250043066602136, 0.25011096834376106,\n",
       "                          0.24994626044360554, 0.2498997046104973])"
      ]
     },
     "execution_count": 10,
     "metadata": {},
     "output_type": "execute_result"
    }
   ],
   "source": [
    "voting_clf = VotingClassifier(models, voting='soft', weights=model_weights)\n",
    "voting_clf.fit(X, y)"
   ]
  },
  {
   "cell_type": "code",
   "execution_count": 11,
   "id": "a4558744-2429-4d4d-b664-82bafe36f766",
   "metadata": {},
   "outputs": [],
   "source": [
    "submission = test.copy()\n",
    "submission['defects'] = voting_clf.predict_proba(submission)[:, 1]\n",
    "submission.defects.to_csv(OUTPUT)"
   ]
  }
 ],
 "metadata": {
  "kernelspec": {
   "display_name": "Python 3 (ipykernel)",
   "language": "python",
   "name": "python3"
  },
  "language_info": {
   "codemirror_mode": {
    "name": "ipython",
    "version": 3
   },
   "file_extension": ".py",
   "mimetype": "text/x-python",
   "name": "python",
   "nbconvert_exporter": "python",
   "pygments_lexer": "ipython3",
   "version": "3.11.6"
  }
 },
 "nbformat": 4,
 "nbformat_minor": 5
}
