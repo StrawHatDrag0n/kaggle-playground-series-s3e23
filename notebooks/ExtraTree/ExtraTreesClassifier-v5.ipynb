{
 "cells": [
  {
   "cell_type": "code",
   "execution_count": 1,
   "id": "b7aa8579",
   "metadata": {},
   "outputs": [
    {
     "name": "stdout",
     "output_type": "stream",
     "text": [
      "Warning: Your Kaggle API key is readable by other users on this system! To fix this, you can run 'chmod 600 /home/strawhatdragon100/.kaggle/kaggle.json'\n"
     ]
    },
    {
     "name": "stderr",
     "output_type": "stream",
     "text": [
      "/home/strawhatdragon100/miniconda3/envs/kaggle/lib/python3.11/site-packages/tqdm/auto.py:21: TqdmWarning: IProgress not found. Please update jupyter and ipywidgets. See https://ipywidgets.readthedocs.io/en/stable/user_install.html\n",
      "  from .autonotebook import tqdm as notebook_tqdm\n"
     ]
    }
   ],
   "source": [
    "from pathlib import Path\n",
    "import os\n",
    "import kaggle\n",
    "import pandas as pd\n",
    "import numpy as np\n",
    "from sklearn.preprocessing import FunctionTransformer, PowerTransformer\n",
    "from sklearn.compose import ColumnTransformer\n",
    "from sklearn.model_selection import RandomizedSearchCV\n",
    "from sklearn.ensemble import ExtraTreesClassifier\n",
    "from sklearn.pipeline import make_pipeline\n",
    "from sklearn.impute import SimpleImputer\n",
    "from sklearn.model_selection import StratifiedKFold\n",
    "import optuna\n",
    "\n",
    "pd.set_option('display.max_columns', None)\n",
    "pd.set_option('display.max_colwidth', None)\n",
    "\n",
    "iskaggle = os.environ.get('KAGGLE_KERNEL_RUN_TYPE', '')\n",
    "if iskaggle:\n",
    "    path = Path('../input/playground-series-s3e23')\n",
    "    orig_path = Path('../input/software-defect-prediction')\n",
    "else:\n",
    "    path = Path('../input/playground-series-s3e23')\n",
    "    orig_path = Path('../input/software-defect-prediction')\n",
    "    if not path.exists():\n",
    "        kaggle.api.competition_download_cli(str(path))\n",
    "        zipfile.ZipFile(f'{path}.zip').extractall(path)\n",
    "    if not orig_path.exists():\n",
    "        kaggle.api.competition_download_cli(str(path))\n",
    "        zipfile.ZipFile(f'{path}.zip').extractall(path)\n",
    "\n",
    "VERSION = 5\n",
    "OUTPUT = f'extra_tree_clf_submisson_v{VERSION}.csv'"
   ]
  },
  {
   "cell_type": "code",
   "execution_count": 2,
   "id": "8d5c6433",
   "metadata": {},
   "outputs": [],
   "source": [
    "train = pd.read_csv(path/'train.csv', index_col = 'id')\n",
    "test = pd.read_csv(path/'test.csv', index_col = 'id')\n",
    "orig_train = pd.read_csv(orig_path/'jm1.csv')"
   ]
  },
  {
   "cell_type": "code",
   "execution_count": 3,
   "id": "2a98ac48",
   "metadata": {},
   "outputs": [],
   "source": [
    "for object_features in list(orig_train.loc[:, orig_train.dtypes == 'O']):\n",
    "    orig_train[object_features] = orig_train[object_features].replace({'?' : np.nan}).astype('float64')"
   ]
  },
  {
   "cell_type": "code",
   "execution_count": 4,
   "id": "5d4111c6",
   "metadata": {},
   "outputs": [],
   "source": [
    "X = pd.concat([train, orig_train])\n",
    "y = X.pop('defects')\n",
    "\n",
    "seed = 42\n",
    "splits = 5\n",
    "np.random.seed(seed)"
   ]
  },
  {
   "cell_type": "code",
   "execution_count": 5,
   "id": "7304018b",
   "metadata": {},
   "outputs": [],
   "source": [
    "partial_pipeline = make_pipeline(ColumnTransformer([('drop', 'drop',\n",
    "                                  ['iv(g)', 't', 'b', 'n',\n",
    "                                   'lOCode', 'v', 'branchCount',\n",
    "                                   'e', 'i', 'lOComment'])],\n",
    "                                remainder='passthrough'), SimpleImputer(), FunctionTransformer(func=np.log1p, validate=False), PowerTransformer())"
   ]
  },
  {
   "cell_type": "code",
   "execution_count": 6,
   "id": "8ae6c342",
   "metadata": {},
   "outputs": [
    {
     "name": "stderr",
     "output_type": "stream",
     "text": [
      "[I 2023-10-14 17:50:49,053] A new study created in memory with name: no-name-4fdde989-0b97-47ad-9590-103c91aa327f\n",
      "Best trial: 0. Best value: 0.780492:   3%|█████▍                                                                                                                                                              | 1/30 [00:30<14:43, 30.45s/it]"
     ]
    },
    {
     "name": "stdout",
     "output_type": "stream",
     "text": [
      "[I 2023-10-14 17:51:19,505] Trial 0 finished with value: 0.7804917426976707 and parameters: {'n_estimators': 500, 'n_jobs': -1, 'random_state': 42, 'max_depth': 26, 'min_samples_split': 144, 'min_samples_leaf': 14, 'criterion': 'gini', 'max_features': 'sqrt'}. Best is trial 0 with value: 0.7804917426976707.\n"
     ]
    },
    {
     "name": "stderr",
     "output_type": "stream",
     "text": [
      "Best trial: 0. Best value: 0.780492:   7%|██████████▉                                                                                                                                                         | 2/30 [00:42<09:11, 19.69s/it]"
     ]
    },
    {
     "name": "stdout",
     "output_type": "stream",
     "text": [
      "[I 2023-10-14 17:51:31,660] Trial 1 finished with value: 0.7796452845399605 and parameters: {'n_estimators': 200, 'n_jobs': -1, 'random_state': 42, 'max_depth': 38, 'min_samples_split': 105, 'min_samples_leaf': 32, 'criterion': 'gini', 'max_features': 'sqrt'}. Best is trial 0 with value: 0.7804917426976707.\n"
     ]
    },
    {
     "name": "stderr",
     "output_type": "stream",
     "text": [
      "Best trial: 0. Best value: 0.780492:  10%|████████████████▍                                                                                                                                                   | 3/30 [01:02<08:58, 19.95s/it]"
     ]
    },
    {
     "name": "stdout",
     "output_type": "stream",
     "text": [
      "[I 2023-10-14 17:51:51,921] Trial 2 finished with value: 0.7796925703639597 and parameters: {'n_estimators': 400, 'n_jobs': -1, 'random_state': 42, 'max_depth': 13, 'min_samples_split': 76, 'min_samples_leaf': 17, 'criterion': 'gini', 'max_features': 'log2'}. Best is trial 0 with value: 0.7804917426976707.\n"
     ]
    },
    {
     "name": "stderr",
     "output_type": "stream",
     "text": [
      "Best trial: 0. Best value: 0.780492:  13%|█████████████████████▊                                                                                                                                              | 4/30 [01:17<07:46, 17.94s/it]"
     ]
    },
    {
     "name": "stdout",
     "output_type": "stream",
     "text": [
      "[I 2023-10-14 17:52:06,771] Trial 3 finished with value: 0.7790733995197823 and parameters: {'n_estimators': 300, 'n_jobs': -1, 'random_state': 42, 'max_depth': 21, 'min_samples_split': 119, 'min_samples_leaf': 52, 'criterion': 'gini', 'max_features': 'sqrt'}. Best is trial 0 with value: 0.7804917426976707.\n"
     ]
    },
    {
     "name": "stderr",
     "output_type": "stream",
     "text": [
      "Best trial: 4. Best value: 0.781251:  17%|███████████████████████████▎                                                                                                                                        | 5/30 [01:24<05:43, 13.75s/it]"
     ]
    },
    {
     "name": "stdout",
     "output_type": "stream",
     "text": [
      "[I 2023-10-14 17:52:13,101] Trial 4 finished with value: 0.7812508602581131 and parameters: {'n_estimators': 100, 'n_jobs': -1, 'random_state': 42, 'max_depth': 14, 'min_samples_split': 128, 'min_samples_leaf': 5, 'criterion': 'gini', 'max_features': 'log2'}. Best is trial 4 with value: 0.7812508602581131.\n"
     ]
    },
    {
     "name": "stderr",
     "output_type": "stream",
     "text": [
      "Best trial: 4. Best value: 0.781251:  20%|████████████████████████████████▊                                                                                                                                   | 6/30 [01:38<05:36, 14.04s/it]"
     ]
    },
    {
     "name": "stdout",
     "output_type": "stream",
     "text": [
      "[I 2023-10-14 17:52:27,705] Trial 5 finished with value: 0.7790074161956337 and parameters: {'n_estimators': 300, 'n_jobs': -1, 'random_state': 42, 'max_depth': 50, 'min_samples_split': 108, 'min_samples_leaf': 56, 'criterion': 'gini', 'max_features': 'sqrt'}. Best is trial 4 with value: 0.7812508602581131.\n"
     ]
    },
    {
     "name": "stderr",
     "output_type": "stream",
     "text": [
      "Best trial: 4. Best value: 0.781251:  23%|██████████████████████████████████████▎                                                                                                                             | 7/30 [02:11<07:44, 20.19s/it]"
     ]
    },
    {
     "name": "stdout",
     "output_type": "stream",
     "text": [
      "[I 2023-10-14 17:53:00,549] Trial 6 finished with value: 0.7802252706241868 and parameters: {'n_estimators': 600, 'n_jobs': -1, 'random_state': 42, 'max_depth': 23, 'min_samples_split': 132, 'min_samples_leaf': 19, 'criterion': 'gini', 'max_features': 'sqrt'}. Best is trial 4 with value: 0.7812508602581131.\n"
     ]
    },
    {
     "name": "stderr",
     "output_type": "stream",
     "text": [
      "Best trial: 4. Best value: 0.781251:  27%|███████████████████████████████████████████▋                                                                                                                        | 8/30 [02:29<07:09, 19.51s/it]"
     ]
    },
    {
     "name": "stdout",
     "output_type": "stream",
     "text": [
      "[I 2023-10-14 17:53:18,596] Trial 7 finished with value: 0.7782642262021832 and parameters: {'n_estimators': 400, 'n_jobs': -1, 'random_state': 42, 'max_depth': 12, 'min_samples_split': 30, 'min_samples_leaf': 50, 'criterion': 'gini', 'max_features': 'sqrt'}. Best is trial 4 with value: 0.7812508602581131.\n"
     ]
    },
    {
     "name": "stderr",
     "output_type": "stream",
     "text": [
      "Best trial: 4. Best value: 0.781251:  30%|█████████████████████████████████████████████████▏                                                                                                                  | 9/30 [03:01<08:13, 23.49s/it]"
     ]
    },
    {
     "name": "stdout",
     "output_type": "stream",
     "text": [
      "[I 2023-10-14 17:53:50,842] Trial 8 finished with value: 0.7807121997090128 and parameters: {'n_estimators': 500, 'n_jobs': -1, 'random_state': 42, 'max_depth': 42, 'min_samples_split': 53, 'min_samples_leaf': 9, 'criterion': 'gini', 'max_features': 'sqrt'}. Best is trial 4 with value: 0.7812508602581131.\n"
     ]
    },
    {
     "name": "stderr",
     "output_type": "stream",
     "text": [
      "Best trial: 4. Best value: 0.781251:  33%|██████████████████████████████████████████████████████▎                                                                                                            | 10/30 [03:16<06:56, 20.84s/it]"
     ]
    },
    {
     "name": "stdout",
     "output_type": "stream",
     "text": [
      "[I 2023-10-14 17:54:05,757] Trial 9 finished with value: 0.7790968035095102 and parameters: {'n_estimators': 300, 'n_jobs': -1, 'random_state': 42, 'max_depth': 24, 'min_samples_split': 41, 'min_samples_leaf': 55, 'criterion': 'gini', 'max_features': 'log2'}. Best is trial 4 with value: 0.7812508602581131.\n"
     ]
    },
    {
     "name": "stderr",
     "output_type": "stream",
     "text": [
      "Best trial: 4. Best value: 0.781251:  37%|███████████████████████████████████████████████████████████▊                                                                                                       | 11/30 [03:21<05:00, 15.79s/it]"
     ]
    },
    {
     "name": "stdout",
     "output_type": "stream",
     "text": [
      "[I 2023-10-14 17:54:10,107] Trial 10 finished with value: 0.7751291023180628 and parameters: {'n_estimators': 100, 'n_jobs': -1, 'random_state': 42, 'max_depth': 7, 'min_samples_split': 81, 'min_samples_leaf': 3, 'criterion': 'gini', 'max_features': 'log2'}. Best is trial 4 with value: 0.7812508602581131.\n"
     ]
    },
    {
     "name": "stderr",
     "output_type": "stream",
     "text": [
      "Best trial: 4. Best value: 0.781251:  40%|█████████████████████████████████████████████████████████████████▏                                                                                                 | 12/30 [04:22<08:56, 29.79s/it]"
     ]
    },
    {
     "name": "stdout",
     "output_type": "stream",
     "text": [
      "[I 2023-10-14 17:55:11,917] Trial 11 finished with value: 0.7600738594852803 and parameters: {'n_estimators': 600, 'n_jobs': -1, 'random_state': 42, 'max_depth': 36, 'min_samples_split': 6, 'min_samples_leaf': 1, 'criterion': 'gini', 'max_features': 'log2'}. Best is trial 4 with value: 0.7812508602581131.\n"
     ]
    },
    {
     "name": "stderr",
     "output_type": "stream",
     "text": [
      "Best trial: 4. Best value: 0.781251:  43%|██████████████████████████████████████████████████████████████████████▋                                                                                            | 13/30 [04:30<06:32, 23.08s/it]"
     ]
    },
    {
     "name": "stdout",
     "output_type": "stream",
     "text": [
      "[I 2023-10-14 17:55:19,557] Trial 12 finished with value: 0.7797465950615263 and parameters: {'n_estimators': 100, 'n_jobs': -1, 'random_state': 42, 'max_depth': 48, 'min_samples_split': 62, 'min_samples_leaf': 26, 'criterion': 'gini', 'max_features': 'log2'}. Best is trial 4 with value: 0.7812508602581131.\n"
     ]
    },
    {
     "name": "stderr",
     "output_type": "stream",
     "text": [
      "Best trial: 4. Best value: 0.781251:  47%|████████████████████████████████████████████████████████████████████████████                                                                                       | 14/30 [05:05<07:07, 26.70s/it]"
     ]
    },
    {
     "name": "stdout",
     "output_type": "stream",
     "text": [
      "[I 2023-10-14 17:55:54,601] Trial 13 finished with value: 0.7810106767647726 and parameters: {'n_estimators': 500, 'n_jobs': -1, 'random_state': 42, 'max_depth': 36, 'min_samples_split': 52, 'min_samples_leaf': 7, 'criterion': 'gini', 'max_features': 'log2'}. Best is trial 4 with value: 0.7812508602581131.\n"
     ]
    },
    {
     "name": "stderr",
     "output_type": "stream",
     "text": [
      "Best trial: 4. Best value: 0.781251:  50%|█████████████████████████████████████████████████████████████████████████████████▌                                                                                 | 15/30 [05:35<06:55, 27.70s/it]"
     ]
    },
    {
     "name": "stdout",
     "output_type": "stream",
     "text": [
      "[I 2023-10-14 17:56:24,636] Trial 14 finished with value: 0.7797678518643755 and parameters: {'n_estimators': 500, 'n_jobs': -1, 'random_state': 42, 'max_depth': 32, 'min_samples_split': 85, 'min_samples_leaf': 26, 'criterion': 'gini', 'max_features': 'log2'}. Best is trial 4 with value: 0.7812508602581131.\n"
     ]
    },
    {
     "name": "stderr",
     "output_type": "stream",
     "text": [
      "Best trial: 4. Best value: 0.781251:  53%|██████████████████████████████████████████████████████████████████████████████████████▉                                                                            | 16/30 [05:46<05:18, 22.76s/it]"
     ]
    },
    {
     "name": "stdout",
     "output_type": "stream",
     "text": [
      "[I 2023-10-14 17:56:35,930] Trial 15 finished with value: 0.7794198392310536 and parameters: {'n_estimators': 200, 'n_jobs': -1, 'random_state': 42, 'max_depth': 17, 'min_samples_split': 12, 'min_samples_leaf': 39, 'criterion': 'gini', 'max_features': 'log2'}. Best is trial 4 with value: 0.7812508602581131.\n"
     ]
    },
    {
     "name": "stderr",
     "output_type": "stream",
     "text": [
      "Best trial: 4. Best value: 0.781251:  57%|████████████████████████████████████████████████████████████████████████████████████████████▎                                                                      | 17/30 [05:52<03:49, 17.66s/it]"
     ]
    },
    {
     "name": "stdout",
     "output_type": "stream",
     "text": [
      "[I 2023-10-14 17:56:41,715] Trial 16 finished with value: 0.7692147953876102 and parameters: {'n_estimators': 200, 'n_jobs': -1, 'random_state': 42, 'max_depth': 4, 'min_samples_split': 30, 'min_samples_leaf': 9, 'criterion': 'gini', 'max_features': 'log2'}. Best is trial 4 with value: 0.7812508602581131.\n"
     ]
    },
    {
     "name": "stderr",
     "output_type": "stream",
     "text": [
      "Best trial: 17. Best value: 0.781337:  60%|█████████████████████████████████████████████████████████████████████████████████████████████████▏                                                                | 18/30 [06:19<04:06, 20.55s/it]"
     ]
    },
    {
     "name": "stdout",
     "output_type": "stream",
     "text": [
      "[I 2023-10-14 17:57:08,982] Trial 17 finished with value: 0.7813366107780195 and parameters: {'n_estimators': 400, 'n_jobs': -1, 'random_state': 42, 'max_depth': 30, 'min_samples_split': 96, 'min_samples_leaf': 8, 'criterion': 'gini', 'max_features': 'log2'}. Best is trial 17 with value: 0.7813366107780195.\n"
     ]
    },
    {
     "name": "stderr",
     "output_type": "stream",
     "text": [
      "Best trial: 17. Best value: 0.781337:  63%|██████████████████████████████████████████████████████████████████████████████████████████████████████▌                                                           | 19/30 [06:58<04:44, 25.91s/it]"
     ]
    },
    {
     "name": "stdout",
     "output_type": "stream",
     "text": [
      "[I 2023-10-14 17:57:47,366] Trial 18 finished with value: 0.7793260180377273 and parameters: {'n_estimators': 400, 'n_jobs': -1, 'random_state': 42, 'max_depth': 30, 'min_samples_split': 149, 'min_samples_leaf': 42, 'criterion': 'gini', 'max_features': 'log2'}. Best is trial 17 with value: 0.7813366107780195.\n"
     ]
    },
    {
     "name": "stderr",
     "output_type": "stream",
     "text": [
      "Best trial: 17. Best value: 0.781337:  67%|████████████████████████████████████████████████████████████████████████████████████████████████████████████                                                      | 20/30 [07:23<04:15, 25.54s/it]"
     ]
    },
    {
     "name": "stdout",
     "output_type": "stream",
     "text": [
      "[I 2023-10-14 17:58:12,057] Trial 19 finished with value: 0.7804800766747313 and parameters: {'n_estimators': 100, 'n_jobs': -1, 'random_state': 42, 'max_depth': 18, 'min_samples_split': 98, 'min_samples_leaf': 14, 'criterion': 'gini', 'max_features': 'log2'}. Best is trial 17 with value: 0.7813366107780195.\n"
     ]
    },
    {
     "name": "stderr",
     "output_type": "stream",
     "text": [
      "Best trial: 17. Best value: 0.781337:  70%|█████████████████████████████████████████████████████████████████████████████████████████████████████████████████▍                                                | 21/30 [08:00<04:22, 29.20s/it]"
     ]
    },
    {
     "name": "stdout",
     "output_type": "stream",
     "text": [
      "[I 2023-10-14 17:58:49,754] Trial 20 finished with value: 0.7799591564593461 and parameters: {'n_estimators': 200, 'n_jobs': -1, 'random_state': 42, 'max_depth': 29, 'min_samples_split': 125, 'min_samples_leaf': 23, 'criterion': 'gini', 'max_features': 'log2'}. Best is trial 17 with value: 0.7813366107780195.\n"
     ]
    },
    {
     "name": "stderr",
     "output_type": "stream",
     "text": [
      "Best trial: 17. Best value: 0.781337:  73%|██████████████████████████████████████████████████████████████████████████████████████████████████████████████████████▊                                           | 22/30 [08:55<04:56, 37.02s/it]"
     ]
    },
    {
     "name": "stdout",
     "output_type": "stream",
     "text": [
      "[I 2023-10-14 17:59:45,042] Trial 21 finished with value: 0.7811267302136781 and parameters: {'n_estimators': 500, 'n_jobs': -1, 'random_state': 42, 'max_depth': 34, 'min_samples_split': 61, 'min_samples_leaf': 7, 'criterion': 'gini', 'max_features': 'log2'}. Best is trial 17 with value: 0.7813366107780195.\n"
     ]
    },
    {
     "name": "stderr",
     "output_type": "stream",
     "text": [
      "Best trial: 22. Best value: 0.781725:  77%|████████████████████████████████████████████████████████████████████████████████████████████████████████████████████████████▏                                     | 23/30 [10:06<05:30, 47.17s/it]"
     ]
    },
    {
     "name": "stdout",
     "output_type": "stream",
     "text": [
      "[I 2023-10-14 18:00:55,892] Trial 22 finished with value: 0.7817253634085903 and parameters: {'n_estimators': 400, 'n_jobs': -1, 'random_state': 42, 'max_depth': 42, 'min_samples_split': 94, 'min_samples_leaf': 6, 'criterion': 'gini', 'max_features': 'log2'}. Best is trial 22 with value: 0.7817253634085903.\n"
     ]
    },
    {
     "name": "stderr",
     "output_type": "stream",
     "text": [
      "Best trial: 23. Best value: 0.783608:  80%|█████████████████████████████████████████████████████████████████████████████████████████████████████████████████████████████████▌                                | 24/30 [11:06<05:04, 50.79s/it]"
     ]
    },
    {
     "name": "stdout",
     "output_type": "stream",
     "text": [
      "[I 2023-10-14 18:01:55,115] Trial 23 finished with value: 0.7836076785813241 and parameters: {'n_estimators': 400, 'n_jobs': -1, 'random_state': 42, 'max_depth': 44, 'min_samples_split': 92, 'min_samples_leaf': 1, 'criterion': 'gini', 'max_features': 'log2'}. Best is trial 23 with value: 0.7836076785813241.\n"
     ]
    },
    {
     "name": "stderr",
     "output_type": "stream",
     "text": [
      "Best trial: 24. Best value: 0.783621:  83%|███████████████████████████████████████████████████████████████████████████████████████████████████████████████████████████████████████                           | 25/30 [12:16<04:43, 56.75s/it]"
     ]
    },
    {
     "name": "stdout",
     "output_type": "stream",
     "text": [
      "[I 2023-10-14 18:03:05,775] Trial 24 finished with value: 0.783621221190528 and parameters: {'n_estimators': 400, 'n_jobs': -1, 'random_state': 42, 'max_depth': 46, 'min_samples_split': 94, 'min_samples_leaf': 1, 'criterion': 'gini', 'max_features': 'log2'}. Best is trial 24 with value: 0.783621221190528.\n"
     ]
    },
    {
     "name": "stderr",
     "output_type": "stream",
     "text": [
      "Best trial: 25. Best value: 0.783645:  87%|████████████████████████████████████████████████████████████████████████████████████████████████████████████████████████████████████████████▍                     | 26/30 [13:03<03:34, 53.75s/it]"
     ]
    },
    {
     "name": "stdout",
     "output_type": "stream",
     "text": [
      "[I 2023-10-14 18:03:52,516] Trial 25 finished with value: 0.7836453346373033 and parameters: {'n_estimators': 400, 'n_jobs': -1, 'random_state': 42, 'max_depth': 45, 'min_samples_split': 90, 'min_samples_leaf': 1, 'criterion': 'gini', 'max_features': 'log2'}. Best is trial 25 with value: 0.7836453346373033.\n"
     ]
    },
    {
     "name": "stderr",
     "output_type": "stream",
     "text": [
      "Best trial: 26. Best value: 0.783913:  90%|█████████████████████████████████████████████████████████████████████████████████████████████████████████████████████████████████████████████████▊                | 27/30 [14:02<02:45, 55.31s/it]"
     ]
    },
    {
     "name": "stdout",
     "output_type": "stream",
     "text": [
      "[I 2023-10-14 18:04:51,458] Trial 26 finished with value: 0.7839128458038738 and parameters: {'n_estimators': 300, 'n_jobs': -1, 'random_state': 42, 'max_depth': 45, 'min_samples_split': 112, 'min_samples_leaf': 1, 'criterion': 'gini', 'max_features': 'log2'}. Best is trial 26 with value: 0.7839128458038738.\n"
     ]
    },
    {
     "name": "stderr",
     "output_type": "stream",
     "text": [
      "Best trial: 26. Best value: 0.783913:  93%|███████████████████████████████████████████████████████████████████████████████████████████████████████████████████████████████████████████████████████▏          | 28/30 [14:41<01:40, 50.34s/it]"
     ]
    },
    {
     "name": "stdout",
     "output_type": "stream",
     "text": [
      "[I 2023-10-14 18:05:30,223] Trial 27 finished with value: 0.7807419588392888 and parameters: {'n_estimators': 300, 'n_jobs': -1, 'random_state': 42, 'max_depth': 45, 'min_samples_split': 114, 'min_samples_leaf': 13, 'criterion': 'gini', 'max_features': 'log2'}. Best is trial 26 with value: 0.7839128458038738.\n"
     ]
    },
    {
     "name": "stderr",
     "output_type": "stream",
     "text": [
      "Best trial: 26. Best value: 0.783913:  97%|████████████████████████████████████████████████████████████████████████████████████████████████████████████████████████████████████████████████████████████▌     | 29/30 [15:17<00:46, 46.25s/it]"
     ]
    },
    {
     "name": "stdout",
     "output_type": "stream",
     "text": [
      "[I 2023-10-14 18:06:06,913] Trial 28 finished with value: 0.7810192553564007 and parameters: {'n_estimators': 300, 'n_jobs': -1, 'random_state': 42, 'max_depth': 40, 'min_samples_split': 135, 'min_samples_leaf': 11, 'criterion': 'gini', 'max_features': 'log2'}. Best is trial 26 with value: 0.7839128458038738.\n"
     ]
    },
    {
     "name": "stderr",
     "output_type": "stream",
     "text": [
      "Best trial: 26. Best value: 0.783913: 100%|██████████████████████████████████████████████████████████████████████████████████████████████████████████████████████████████████████████████████████████████████| 30/30 [16:17<00:00, 32.59s/it]"
     ]
    },
    {
     "name": "stdout",
     "output_type": "stream",
     "text": [
      "[I 2023-10-14 18:07:06,677] Trial 29 finished with value: 0.7802684629387135 and parameters: {'n_estimators': 500, 'n_jobs': -1, 'random_state': 42, 'max_depth': 46, 'min_samples_split': 72, 'min_samples_leaf': 18, 'criterion': 'gini', 'max_features': 'log2'}. Best is trial 26 with value: 0.7839128458038738.\n"
     ]
    },
    {
     "name": "stderr",
     "output_type": "stream",
     "text": [
      "\n"
     ]
    }
   ],
   "source": [
    "from sklearn.model_selection import cross_val_score\n",
    "\n",
    "def objective(trial):\n",
    "    params = {\n",
    "        'n_estimators': trial.suggest_int('n_estimators', 100, 600, 100),\n",
    "        'n_jobs': trial.suggest_categorical('n_jobs', [-1]),\n",
    "        'random_state': trial.suggest_categorical('random_state', [seed]),\n",
    "        'max_depth': trial.suggest_int('max_depth', 4, 50),\n",
    "        'min_samples_split': trial.suggest_int('min_samples_split', 2, 150),\n",
    "        'min_samples_leaf': trial.suggest_int('min_samples_leaf', 1, 60),\n",
    "        'criterion': trial.suggest_categorical(\"criterion\", [\"gini\"]),\n",
    "        'max_features': trial.suggest_categorical('max_features', [\"sqrt\", \"log2\"]),\n",
    "    }\n",
    "\n",
    "    pipeline = make_pipeline(partial_pipeline, ExtraTreesClassifier(**params))\n",
    "    scores = cross_val_score(pipeline, X, y, cv=splits, scoring='roc_auc', n_jobs=-1)\n",
    "    return scores.mean()\n",
    "\n",
    "study = optuna.create_study(direction='maximize')\n",
    "study.optimize(objective, n_trials=30, show_progress_bar=True)"
   ]
  },
  {
   "cell_type": "code",
   "execution_count": 7,
   "id": "c74d8a21",
   "metadata": {},
   "outputs": [
    {
     "data": {
      "text/plain": [
       "({'n_estimators': 300,\n",
       "  'n_jobs': -1,\n",
       "  'random_state': 42,\n",
       "  'max_depth': 45,\n",
       "  'min_samples_split': 112,\n",
       "  'min_samples_leaf': 1,\n",
       "  'criterion': 'gini',\n",
       "  'max_features': 'log2'},\n",
       " 0.7839128458038738)"
      ]
     },
     "execution_count": 7,
     "metadata": {},
     "output_type": "execute_result"
    }
   ],
   "source": [
    "study.best_params, study.best_value"
   ]
  },
  {
   "cell_type": "code",
   "execution_count": 8,
   "id": "640bc848",
   "metadata": {},
   "outputs": [
    {
     "data": {
      "text/html": [
       "<style>#sk-container-id-1 {color: black;}#sk-container-id-1 pre{padding: 0;}#sk-container-id-1 div.sk-toggleable {background-color: white;}#sk-container-id-1 label.sk-toggleable__label {cursor: pointer;display: block;width: 100%;margin-bottom: 0;padding: 0.3em;box-sizing: border-box;text-align: center;}#sk-container-id-1 label.sk-toggleable__label-arrow:before {content: \"▸\";float: left;margin-right: 0.25em;color: #696969;}#sk-container-id-1 label.sk-toggleable__label-arrow:hover:before {color: black;}#sk-container-id-1 div.sk-estimator:hover label.sk-toggleable__label-arrow:before {color: black;}#sk-container-id-1 div.sk-toggleable__content {max-height: 0;max-width: 0;overflow: hidden;text-align: left;background-color: #f0f8ff;}#sk-container-id-1 div.sk-toggleable__content pre {margin: 0.2em;color: black;border-radius: 0.25em;background-color: #f0f8ff;}#sk-container-id-1 input.sk-toggleable__control:checked~div.sk-toggleable__content {max-height: 200px;max-width: 100%;overflow: auto;}#sk-container-id-1 input.sk-toggleable__control:checked~label.sk-toggleable__label-arrow:before {content: \"▾\";}#sk-container-id-1 div.sk-estimator input.sk-toggleable__control:checked~label.sk-toggleable__label {background-color: #d4ebff;}#sk-container-id-1 div.sk-label input.sk-toggleable__control:checked~label.sk-toggleable__label {background-color: #d4ebff;}#sk-container-id-1 input.sk-hidden--visually {border: 0;clip: rect(1px 1px 1px 1px);clip: rect(1px, 1px, 1px, 1px);height: 1px;margin: -1px;overflow: hidden;padding: 0;position: absolute;width: 1px;}#sk-container-id-1 div.sk-estimator {font-family: monospace;background-color: #f0f8ff;border: 1px dotted black;border-radius: 0.25em;box-sizing: border-box;margin-bottom: 0.5em;}#sk-container-id-1 div.sk-estimator:hover {background-color: #d4ebff;}#sk-container-id-1 div.sk-parallel-item::after {content: \"\";width: 100%;border-bottom: 1px solid gray;flex-grow: 1;}#sk-container-id-1 div.sk-label:hover label.sk-toggleable__label {background-color: #d4ebff;}#sk-container-id-1 div.sk-serial::before {content: \"\";position: absolute;border-left: 1px solid gray;box-sizing: border-box;top: 0;bottom: 0;left: 50%;z-index: 0;}#sk-container-id-1 div.sk-serial {display: flex;flex-direction: column;align-items: center;background-color: white;padding-right: 0.2em;padding-left: 0.2em;position: relative;}#sk-container-id-1 div.sk-item {position: relative;z-index: 1;}#sk-container-id-1 div.sk-parallel {display: flex;align-items: stretch;justify-content: center;background-color: white;position: relative;}#sk-container-id-1 div.sk-item::before, #sk-container-id-1 div.sk-parallel-item::before {content: \"\";position: absolute;border-left: 1px solid gray;box-sizing: border-box;top: 0;bottom: 0;left: 50%;z-index: -1;}#sk-container-id-1 div.sk-parallel-item {display: flex;flex-direction: column;z-index: 1;position: relative;background-color: white;}#sk-container-id-1 div.sk-parallel-item:first-child::after {align-self: flex-end;width: 50%;}#sk-container-id-1 div.sk-parallel-item:last-child::after {align-self: flex-start;width: 50%;}#sk-container-id-1 div.sk-parallel-item:only-child::after {width: 0;}#sk-container-id-1 div.sk-dashed-wrapped {border: 1px dashed gray;margin: 0 0.4em 0.5em 0.4em;box-sizing: border-box;padding-bottom: 0.4em;background-color: white;}#sk-container-id-1 div.sk-label label {font-family: monospace;font-weight: bold;display: inline-block;line-height: 1.2em;}#sk-container-id-1 div.sk-label-container {text-align: center;}#sk-container-id-1 div.sk-container {/* jupyter's `normalize.less` sets `[hidden] { display: none; }` but bootstrap.min.css set `[hidden] { display: none !important; }` so we also need the `!important` here to be able to override the default hidden behavior on the sphinx rendered scikit-learn.org. See: https://github.com/scikit-learn/scikit-learn/issues/21755 */display: inline-block !important;position: relative;}#sk-container-id-1 div.sk-text-repr-fallback {display: none;}</style><div id=\"sk-container-id-1\" class=\"sk-top-container\"><div class=\"sk-text-repr-fallback\"><pre>Pipeline(steps=[(&#x27;pipeline&#x27;,\n",
       "                 Pipeline(steps=[(&#x27;columntransformer&#x27;,\n",
       "                                  ColumnTransformer(remainder=&#x27;passthrough&#x27;,\n",
       "                                                    transformers=[(&#x27;drop&#x27;,\n",
       "                                                                   &#x27;drop&#x27;,\n",
       "                                                                   [&#x27;iv(g)&#x27;,\n",
       "                                                                    &#x27;t&#x27;, &#x27;b&#x27;,\n",
       "                                                                    &#x27;n&#x27;,\n",
       "                                                                    &#x27;lOCode&#x27;,\n",
       "                                                                    &#x27;v&#x27;,\n",
       "                                                                    &#x27;branchCount&#x27;,\n",
       "                                                                    &#x27;e&#x27;, &#x27;i&#x27;,\n",
       "                                                                    &#x27;lOComment&#x27;])])),\n",
       "                                 (&#x27;simpleimputer&#x27;, SimpleImputer()),\n",
       "                                 (&#x27;functiontransformer&#x27;,\n",
       "                                  FunctionTransformer(func=&lt;ufunc &#x27;log1p&#x27;&gt;)),\n",
       "                                 (&#x27;powertransformer&#x27;, PowerTransformer())])),\n",
       "                (&#x27;extratreesclassifier&#x27;,\n",
       "                 ExtraTreesClassifier(max_depth=45, max_features=&#x27;log2&#x27;,\n",
       "                                      min_samples_split=112, n_estimators=300,\n",
       "                                      n_jobs=-1, random_state=42))])</pre><b>In a Jupyter environment, please rerun this cell to show the HTML representation or trust the notebook. <br />On GitHub, the HTML representation is unable to render, please try loading this page with nbviewer.org.</b></div><div class=\"sk-container\" hidden><div class=\"sk-item sk-dashed-wrapped\"><div class=\"sk-label-container\"><div class=\"sk-label sk-toggleable\"><input class=\"sk-toggleable__control sk-hidden--visually\" id=\"sk-estimator-id-1\" type=\"checkbox\" ><label for=\"sk-estimator-id-1\" class=\"sk-toggleable__label sk-toggleable__label-arrow\">Pipeline</label><div class=\"sk-toggleable__content\"><pre>Pipeline(steps=[(&#x27;pipeline&#x27;,\n",
       "                 Pipeline(steps=[(&#x27;columntransformer&#x27;,\n",
       "                                  ColumnTransformer(remainder=&#x27;passthrough&#x27;,\n",
       "                                                    transformers=[(&#x27;drop&#x27;,\n",
       "                                                                   &#x27;drop&#x27;,\n",
       "                                                                   [&#x27;iv(g)&#x27;,\n",
       "                                                                    &#x27;t&#x27;, &#x27;b&#x27;,\n",
       "                                                                    &#x27;n&#x27;,\n",
       "                                                                    &#x27;lOCode&#x27;,\n",
       "                                                                    &#x27;v&#x27;,\n",
       "                                                                    &#x27;branchCount&#x27;,\n",
       "                                                                    &#x27;e&#x27;, &#x27;i&#x27;,\n",
       "                                                                    &#x27;lOComment&#x27;])])),\n",
       "                                 (&#x27;simpleimputer&#x27;, SimpleImputer()),\n",
       "                                 (&#x27;functiontransformer&#x27;,\n",
       "                                  FunctionTransformer(func=&lt;ufunc &#x27;log1p&#x27;&gt;)),\n",
       "                                 (&#x27;powertransformer&#x27;, PowerTransformer())])),\n",
       "                (&#x27;extratreesclassifier&#x27;,\n",
       "                 ExtraTreesClassifier(max_depth=45, max_features=&#x27;log2&#x27;,\n",
       "                                      min_samples_split=112, n_estimators=300,\n",
       "                                      n_jobs=-1, random_state=42))])</pre></div></div></div><div class=\"sk-serial\"><div class=\"sk-item\"><div class=\"sk-label-container\"><div class=\"sk-label sk-toggleable\"><input class=\"sk-toggleable__control sk-hidden--visually\" id=\"sk-estimator-id-2\" type=\"checkbox\" ><label for=\"sk-estimator-id-2\" class=\"sk-toggleable__label sk-toggleable__label-arrow\">pipeline: Pipeline</label><div class=\"sk-toggleable__content\"><pre>Pipeline(steps=[(&#x27;columntransformer&#x27;,\n",
       "                 ColumnTransformer(remainder=&#x27;passthrough&#x27;,\n",
       "                                   transformers=[(&#x27;drop&#x27;, &#x27;drop&#x27;,\n",
       "                                                  [&#x27;iv(g)&#x27;, &#x27;t&#x27;, &#x27;b&#x27;, &#x27;n&#x27;,\n",
       "                                                   &#x27;lOCode&#x27;, &#x27;v&#x27;, &#x27;branchCount&#x27;,\n",
       "                                                   &#x27;e&#x27;, &#x27;i&#x27;, &#x27;lOComment&#x27;])])),\n",
       "                (&#x27;simpleimputer&#x27;, SimpleImputer()),\n",
       "                (&#x27;functiontransformer&#x27;,\n",
       "                 FunctionTransformer(func=&lt;ufunc &#x27;log1p&#x27;&gt;)),\n",
       "                (&#x27;powertransformer&#x27;, PowerTransformer())])</pre></div></div></div><div class=\"sk-serial\"><div class=\"sk-item sk-dashed-wrapped\"><div class=\"sk-label-container\"><div class=\"sk-label sk-toggleable\"><input class=\"sk-toggleable__control sk-hidden--visually\" id=\"sk-estimator-id-3\" type=\"checkbox\" ><label for=\"sk-estimator-id-3\" class=\"sk-toggleable__label sk-toggleable__label-arrow\">columntransformer: ColumnTransformer</label><div class=\"sk-toggleable__content\"><pre>ColumnTransformer(remainder=&#x27;passthrough&#x27;,\n",
       "                  transformers=[(&#x27;drop&#x27;, &#x27;drop&#x27;,\n",
       "                                 [&#x27;iv(g)&#x27;, &#x27;t&#x27;, &#x27;b&#x27;, &#x27;n&#x27;, &#x27;lOCode&#x27;, &#x27;v&#x27;,\n",
       "                                  &#x27;branchCount&#x27;, &#x27;e&#x27;, &#x27;i&#x27;, &#x27;lOComment&#x27;])])</pre></div></div></div><div class=\"sk-parallel\"><div class=\"sk-parallel-item\"><div class=\"sk-item\"><div class=\"sk-label-container\"><div class=\"sk-label sk-toggleable\"><input class=\"sk-toggleable__control sk-hidden--visually\" id=\"sk-estimator-id-4\" type=\"checkbox\" ><label for=\"sk-estimator-id-4\" class=\"sk-toggleable__label sk-toggleable__label-arrow\">drop</label><div class=\"sk-toggleable__content\"><pre>[&#x27;iv(g)&#x27;, &#x27;t&#x27;, &#x27;b&#x27;, &#x27;n&#x27;, &#x27;lOCode&#x27;, &#x27;v&#x27;, &#x27;branchCount&#x27;, &#x27;e&#x27;, &#x27;i&#x27;, &#x27;lOComment&#x27;]</pre></div></div></div><div class=\"sk-serial\"><div class=\"sk-item\"><div class=\"sk-estimator sk-toggleable\"><input class=\"sk-toggleable__control sk-hidden--visually\" id=\"sk-estimator-id-5\" type=\"checkbox\" ><label for=\"sk-estimator-id-5\" class=\"sk-toggleable__label sk-toggleable__label-arrow\">drop</label><div class=\"sk-toggleable__content\"><pre>drop</pre></div></div></div></div></div></div><div class=\"sk-parallel-item\"><div class=\"sk-item\"><div class=\"sk-label-container\"><div class=\"sk-label sk-toggleable\"><input class=\"sk-toggleable__control sk-hidden--visually\" id=\"sk-estimator-id-6\" type=\"checkbox\" ><label for=\"sk-estimator-id-6\" class=\"sk-toggleable__label sk-toggleable__label-arrow\">remainder</label><div class=\"sk-toggleable__content\"><pre>[&#x27;loc&#x27;, &#x27;v(g)&#x27;, &#x27;ev(g)&#x27;, &#x27;l&#x27;, &#x27;d&#x27;, &#x27;lOBlank&#x27;, &#x27;locCodeAndComment&#x27;, &#x27;uniq_Op&#x27;, &#x27;uniq_Opnd&#x27;, &#x27;total_Op&#x27;, &#x27;total_Opnd&#x27;]</pre></div></div></div><div class=\"sk-serial\"><div class=\"sk-item\"><div class=\"sk-estimator sk-toggleable\"><input class=\"sk-toggleable__control sk-hidden--visually\" id=\"sk-estimator-id-7\" type=\"checkbox\" ><label for=\"sk-estimator-id-7\" class=\"sk-toggleable__label sk-toggleable__label-arrow\">passthrough</label><div class=\"sk-toggleable__content\"><pre>passthrough</pre></div></div></div></div></div></div></div></div><div class=\"sk-item\"><div class=\"sk-estimator sk-toggleable\"><input class=\"sk-toggleable__control sk-hidden--visually\" id=\"sk-estimator-id-8\" type=\"checkbox\" ><label for=\"sk-estimator-id-8\" class=\"sk-toggleable__label sk-toggleable__label-arrow\">SimpleImputer</label><div class=\"sk-toggleable__content\"><pre>SimpleImputer()</pre></div></div></div><div class=\"sk-item\"><div class=\"sk-estimator sk-toggleable\"><input class=\"sk-toggleable__control sk-hidden--visually\" id=\"sk-estimator-id-9\" type=\"checkbox\" ><label for=\"sk-estimator-id-9\" class=\"sk-toggleable__label sk-toggleable__label-arrow\">FunctionTransformer</label><div class=\"sk-toggleable__content\"><pre>FunctionTransformer(func=&lt;ufunc &#x27;log1p&#x27;&gt;)</pre></div></div></div><div class=\"sk-item\"><div class=\"sk-estimator sk-toggleable\"><input class=\"sk-toggleable__control sk-hidden--visually\" id=\"sk-estimator-id-10\" type=\"checkbox\" ><label for=\"sk-estimator-id-10\" class=\"sk-toggleable__label sk-toggleable__label-arrow\">PowerTransformer</label><div class=\"sk-toggleable__content\"><pre>PowerTransformer()</pre></div></div></div></div></div><div class=\"sk-item\"><div class=\"sk-estimator sk-toggleable\"><input class=\"sk-toggleable__control sk-hidden--visually\" id=\"sk-estimator-id-11\" type=\"checkbox\" ><label for=\"sk-estimator-id-11\" class=\"sk-toggleable__label sk-toggleable__label-arrow\">ExtraTreesClassifier</label><div class=\"sk-toggleable__content\"><pre>ExtraTreesClassifier(max_depth=45, max_features=&#x27;log2&#x27;, min_samples_split=112,\n",
       "                     n_estimators=300, n_jobs=-1, random_state=42)</pre></div></div></div></div></div></div></div>"
      ],
      "text/plain": [
       "Pipeline(steps=[('pipeline',\n",
       "                 Pipeline(steps=[('columntransformer',\n",
       "                                  ColumnTransformer(remainder='passthrough',\n",
       "                                                    transformers=[('drop',\n",
       "                                                                   'drop',\n",
       "                                                                   ['iv(g)',\n",
       "                                                                    't', 'b',\n",
       "                                                                    'n',\n",
       "                                                                    'lOCode',\n",
       "                                                                    'v',\n",
       "                                                                    'branchCount',\n",
       "                                                                    'e', 'i',\n",
       "                                                                    'lOComment'])])),\n",
       "                                 ('simpleimputer', SimpleImputer()),\n",
       "                                 ('functiontransformer',\n",
       "                                  FunctionTransformer(func=<ufunc 'log1p'>)),\n",
       "                                 ('powertransformer', PowerTransformer())])),\n",
       "                ('extratreesclassifier',\n",
       "                 ExtraTreesClassifier(max_depth=45, max_features='log2',\n",
       "                                      min_samples_split=112, n_estimators=300,\n",
       "                                      n_jobs=-1, random_state=42))])"
      ]
     },
     "execution_count": 8,
     "metadata": {},
     "output_type": "execute_result"
    }
   ],
   "source": [
    "pipeline = make_pipeline(partial_pipeline, ExtraTreesClassifier(**study.best_params))\n",
    "pipeline.fit(X, y)"
   ]
  },
  {
   "cell_type": "code",
   "execution_count": 9,
   "id": "0c55d877",
   "metadata": {},
   "outputs": [],
   "source": [
    "submission = test.copy()\n",
    "submission['defects'] = pipeline.predict_proba(submission)[:, 1]\n",
    "submission.defects.to_csv(OUTPUT)"
   ]
  },
  {
   "cell_type": "code",
   "execution_count": null,
   "id": "f84ab716",
   "metadata": {},
   "outputs": [],
   "source": []
  }
 ],
 "metadata": {
  "kernelspec": {
   "display_name": "Python 3 (ipykernel)",
   "language": "python",
   "name": "python3"
  },
  "language_info": {
   "codemirror_mode": {
    "name": "ipython",
    "version": 3
   },
   "file_extension": ".py",
   "mimetype": "text/x-python",
   "name": "python",
   "nbconvert_exporter": "python",
   "pygments_lexer": "ipython3",
   "version": "3.11.6"
  }
 },
 "nbformat": 4,
 "nbformat_minor": 5
}
