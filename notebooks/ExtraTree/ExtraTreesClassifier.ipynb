{
 "cells": [
  {
   "cell_type": "code",
   "execution_count": 2,
   "id": "9f3311d6-5caf-4661-bf16-6cdba7caa7e8",
   "metadata": {},
   "outputs": [],
   "source": [
    "import pandas as pd\n",
    "import numpy as np\n",
    "from sklearn.preprocessing import FunctionTransformer\n",
    "from sklearn.model_selection import RandomizedSearchCV\n",
    "from sklearn.ensemble import ExtraTreesClassifier\n",
    "from sklearn.pipeline import make_pipeline\n",
    "from sklearn.impute import SimpleImputer\n",
    "from sklearn.model_selection import StratifiedKFold\n",
    "import optuna\n",
    "\n",
    "pd.set_option('display.max_columns', None)\n",
    "pd.set_option('display.max_colwidth', None)"
   ]
  },
  {
   "cell_type": "code",
   "execution_count": 3,
   "id": "79852082-6bdd-4f48-bf64-b456328c5695",
   "metadata": {},
   "outputs": [],
   "source": [
    "train = pd.read_csv(r'./input/playground-series-s3e23/train.csv', index_col = 'id')\n",
    "test = pd.read_csv(r'./input/playground-series-s3e23/test.csv', index_col = 'id')\n",
    "orig_train = pd.read_csv(r'./input/software-defect-prediction/jm1.csv')"
   ]
  },
  {
   "cell_type": "code",
   "execution_count": 4,
   "id": "ba6ebfc5-b011-46e3-a9d9-ee9a7a6e62ba",
   "metadata": {},
   "outputs": [],
   "source": [
    "for object_features in list(orig_train.loc[:, orig_train.dtypes == 'O']):\n",
    "    orig_train[object_features] = orig_train[object_features].replace({'?' : np.nan}).astype('float64')"
   ]
  },
  {
   "cell_type": "code",
   "execution_count": 5,
   "id": "7827df4b-6114-4105-8828-27487d59371f",
   "metadata": {},
   "outputs": [],
   "source": [
    "X = pd.concat([train, orig_train])\n",
    "y = X.pop('defects')\n",
    "\n",
    "seed = 42\n",
    "splits = 5\n",
    "skf = StratifiedKFold(n_splits = splits, random_state = seed, shuffle = True)\n",
    "np.random.seed(seed)"
   ]
  },
  {
   "cell_type": "code",
   "execution_count": 6,
   "id": "17d11fd2-4ded-4ae2-8129-6c23745a9d48",
   "metadata": {},
   "outputs": [],
   "source": [
    "log_transformer = FunctionTransformer(func=np.log1p, validate=False)"
   ]
  },
  {
   "cell_type": "code",
   "execution_count": 7,
   "id": "7a84646c-a5b8-4cf1-b6d3-1f9629fa1373",
   "metadata": {},
   "outputs": [
    {
     "name": "stderr",
     "output_type": "stream",
     "text": [
      "[I 2023-10-12 16:51:34,190] A new study created in memory with name: no-name-af626da0-b2da-4284-8f4b-2d7539ec5e57\n",
      "Best trial: 0. Best value: 0.775981:   7%|██████████▉                                                                                                                                                         | 1/15 [00:02<00:41,  2.93s/it]"
     ]
    },
    {
     "name": "stdout",
     "output_type": "stream",
     "text": [
      "[I 2023-10-12 16:51:37,122] Trial 0 finished with value: 0.7759806654108612 and parameters: {'n_estimators': 18, 'max_depth': 24, 'min_samples_split': 30, 'min_samples_leaf': 9, 'criterion': 'log_loss', 'max_features': 'sqrt'}. Best is trial 0 with value: 0.7759806654108612.\n"
     ]
    },
    {
     "name": "stderr",
     "output_type": "stream",
     "text": [
      "Best trial: 1. Best value: 0.777835:  13%|█████████████████████▊                                                                                                                                              | 2/15 [00:10<01:16,  5.89s/it]"
     ]
    },
    {
     "name": "stdout",
     "output_type": "stream",
     "text": [
      "[I 2023-10-12 16:51:45,089] Trial 1 finished with value: 0.7778353630301144 and parameters: {'n_estimators': 137, 'max_depth': 23, 'min_samples_split': 31, 'min_samples_leaf': 24, 'criterion': 'gini', 'max_features': 'sqrt'}. Best is trial 1 with value: 0.7778353630301144.\n"
     ]
    },
    {
     "name": "stderr",
     "output_type": "stream",
     "text": [
      "Best trial: 2. Best value: 0.777879:  20%|████████████████████████████████▊                                                                                                                                   | 3/15 [00:17<01:16,  6.37s/it]"
     ]
    },
    {
     "name": "stdout",
     "output_type": "stream",
     "text": [
      "[I 2023-10-12 16:51:52,031] Trial 2 finished with value: 0.7778792612121787 and parameters: {'n_estimators': 124, 'max_depth': 17, 'min_samples_split': 21, 'min_samples_leaf': 22, 'criterion': 'entropy', 'max_features': 'log2'}. Best is trial 2 with value: 0.7778792612121787.\n"
     ]
    },
    {
     "name": "stderr",
     "output_type": "stream",
     "text": [
      "Best trial: 2. Best value: 0.777879:  27%|███████████████████████████████████████████▋                                                                                                                        | 4/15 [00:28<01:28,  8.05s/it]"
     ]
    },
    {
     "name": "stdout",
     "output_type": "stream",
     "text": [
      "[I 2023-10-12 16:52:02,646] Trial 3 finished with value: 0.7695122175818098 and parameters: {'n_estimators': 481, 'max_depth': 4, 'min_samples_split': 119, 'min_samples_leaf': 30, 'criterion': 'log_loss', 'max_features': 'log2'}. Best is trial 2 with value: 0.7778792612121787.\n"
     ]
    },
    {
     "name": "stderr",
     "output_type": "stream",
     "text": [
      "Best trial: 2. Best value: 0.777879:  33%|██████████████████████████████████████████████████████▋                                                                                                             | 5/15 [00:30<00:58,  5.85s/it]"
     ]
    },
    {
     "name": "stdout",
     "output_type": "stream",
     "text": [
      "[I 2023-10-12 16:52:04,594] Trial 4 finished with value: 0.7769766490729174 and parameters: {'n_estimators': 36, 'max_depth': 20, 'min_samples_split': 21, 'min_samples_leaf': 38, 'criterion': 'entropy', 'max_features': 'log2'}. Best is trial 2 with value: 0.7778792612121787.\n"
     ]
    },
    {
     "name": "stderr",
     "output_type": "stream",
     "text": [
      "Best trial: 2. Best value: 0.777879:  40%|█████████████████████████████████████████████████████████████████▌                                                                                                  | 6/15 [00:46<01:24,  9.37s/it]"
     ]
    },
    {
     "name": "stdout",
     "output_type": "stream",
     "text": [
      "[I 2023-10-12 16:52:20,788] Trial 5 finished with value: 0.7777931117814975 and parameters: {'n_estimators': 307, 'max_depth': 41, 'min_samples_split': 12, 'min_samples_leaf': 24, 'criterion': 'log_loss', 'max_features': 'sqrt'}. Best is trial 2 with value: 0.7778792612121787.\n"
     ]
    },
    {
     "name": "stderr",
     "output_type": "stream",
     "text": [
      "Best trial: 6. Best value: 0.779226:  47%|████████████████████████████████████████████████████████████████████████████▌                                                                                       | 7/15 [01:05<01:39, 12.38s/it]"
     ]
    },
    {
     "name": "stdout",
     "output_type": "stream",
     "text": [
      "[I 2023-10-12 16:52:39,366] Trial 6 finished with value: 0.7792264077471254 and parameters: {'n_estimators': 315, 'max_depth': 21, 'min_samples_split': 44, 'min_samples_leaf': 7, 'criterion': 'log_loss', 'max_features': 'log2'}. Best is trial 6 with value: 0.7792264077471254.\n"
     ]
    },
    {
     "name": "stderr",
     "output_type": "stream",
     "text": [
      "Best trial: 6. Best value: 0.779226:  53%|███████████████████████████████████████████████████████████████████████████████████████▍                                                                            | 8/15 [01:06<01:01,  8.77s/it]"
     ]
    },
    {
     "name": "stdout",
     "output_type": "stream",
     "text": [
      "[I 2023-10-12 16:52:40,411] Trial 7 finished with value: 0.7767766926041785 and parameters: {'n_estimators': 15, 'max_depth': 35, 'min_samples_split': 114, 'min_samples_leaf': 22, 'criterion': 'entropy', 'max_features': 'sqrt'}. Best is trial 6 with value: 0.7792264077471254.\n"
     ]
    },
    {
     "name": "stderr",
     "output_type": "stream",
     "text": [
      "Best trial: 6. Best value: 0.779226:  60%|██████████████████████████████████████████████████████████████████████████████████████████████████▍                                                                 | 9/15 [01:21<01:04, 10.74s/it]"
     ]
    },
    {
     "name": "stdout",
     "output_type": "stream",
     "text": [
      "[I 2023-10-12 16:52:55,474] Trial 8 finished with value: 0.7759903868103123 and parameters: {'n_estimators': 401, 'max_depth': 10, 'min_samples_split': 135, 'min_samples_leaf': 17, 'criterion': 'log_loss', 'max_features': 'log2'}. Best is trial 6 with value: 0.7792264077471254.\n"
     ]
    },
    {
     "name": "stderr",
     "output_type": "stream",
     "text": [
      "Best trial: 6. Best value: 0.779226:  67%|████████████████████████████████████████████████████████████████████████████████████████████████████████████▋                                                      | 10/15 [01:27<00:46,  9.35s/it]"
     ]
    },
    {
     "name": "stdout",
     "output_type": "stream",
     "text": [
      "[I 2023-10-12 16:53:01,732] Trial 9 finished with value: 0.7788808703384685 and parameters: {'n_estimators': 104, 'max_depth': 32, 'min_samples_split': 65, 'min_samples_leaf': 9, 'criterion': 'log_loss', 'max_features': 'log2'}. Best is trial 6 with value: 0.7792264077471254.\n"
     ]
    },
    {
     "name": "stderr",
     "output_type": "stream",
     "text": [
      "Best trial: 6. Best value: 0.779226:  73%|███████████████████████████████████████████████████████████████████████████████████████████████████████████████████████▌                                           | 11/15 [01:39<00:40, 10.02s/it]"
     ]
    },
    {
     "name": "stdout",
     "output_type": "stream",
     "text": [
      "[I 2023-10-12 16:53:13,251] Trial 10 finished with value: 0.7769056576660063 and parameters: {'n_estimators': 256, 'max_depth': 45, 'min_samples_split': 68, 'min_samples_leaf': 56, 'criterion': 'gini', 'max_features': 'log2'}. Best is trial 6 with value: 0.7792264077471254.\n"
     ]
    },
    {
     "name": "stderr",
     "output_type": "stream",
     "text": [
      "Best trial: 11. Best value: 0.7815:  80%|███████████████████████████████████████████████████████████████████████████████████████████████████████████████████████████████████▏                                | 12/15 [01:51<00:32, 10.80s/it]"
     ]
    },
    {
     "name": "stdout",
     "output_type": "stream",
     "text": [
      "[I 2023-10-12 16:53:25,843] Trial 11 finished with value: 0.7815004068611028 and parameters: {'n_estimators': 176, 'max_depth': 34, 'min_samples_split': 69, 'min_samples_leaf': 1, 'criterion': 'log_loss', 'max_features': 'log2'}. Best is trial 11 with value: 0.7815004068611028.\n"
     ]
    },
    {
     "name": "stderr",
     "output_type": "stream",
     "text": [
      "Best trial: 12. Best value: 0.781881:  87%|████████████████████████████████████████████████████████████████████████████████████████████████████████████████████████████████████████████▍                     | 13/15 [02:13<00:28, 14.11s/it]"
     ]
    },
    {
     "name": "stdout",
     "output_type": "stream",
     "text": [
      "[I 2023-10-12 16:53:47,555] Trial 12 finished with value: 0.7818807576268298 and parameters: {'n_estimators': 329, 'max_depth': 34, 'min_samples_split': 87, 'min_samples_leaf': 1, 'criterion': 'log_loss', 'max_features': 'log2'}. Best is trial 12 with value: 0.7818807576268298.\n"
     ]
    },
    {
     "name": "stderr",
     "output_type": "stream",
     "text": [
      "Best trial: 12. Best value: 0.781881:  93%|███████████████████████████████████████████████████████████████████████████████████████████████████████████████████████████████████████████████████████▏          | 14/15 [02:24<00:13, 13.23s/it]"
     ]
    },
    {
     "name": "stdout",
     "output_type": "stream",
     "text": [
      "[I 2023-10-12 16:53:58,760] Trial 13 finished with value: 0.779750927329914 and parameters: {'n_estimators': 186, 'max_depth': 50, 'min_samples_split': 92, 'min_samples_leaf': 4, 'criterion': 'log_loss', 'max_features': 'log2'}. Best is trial 12 with value: 0.7818807576268298.\n"
     ]
    },
    {
     "name": "stderr",
     "output_type": "stream",
     "text": [
      "Best trial: 12. Best value: 0.781881: 100%|██████████████████████████████████████████████████████████████████████████████████████████████████████████████████████████████████████████████████████████████████| 15/15 [02:39<00:00, 10.64s/it]"
     ]
    },
    {
     "name": "stdout",
     "output_type": "stream",
     "text": [
      "[I 2023-10-12 16:54:13,746] Trial 14 finished with value: 0.7818459509140733 and parameters: {'n_estimators': 228, 'max_depth': 32, 'min_samples_split': 90, 'min_samples_leaf': 1, 'criterion': 'log_loss', 'max_features': 'log2'}. Best is trial 12 with value: 0.7818807576268298.\n"
     ]
    },
    {
     "name": "stderr",
     "output_type": "stream",
     "text": [
      "\n"
     ]
    }
   ],
   "source": [
    "from sklearn.model_selection import cross_val_score\n",
    "\n",
    "def objective(trial):\n",
    "    params = {\n",
    "        'n_estimators': trial.suggest_int('n_estimators', 10, 500),\n",
    "        'n_jobs': -1,\n",
    "        'random_state': seed,\n",
    "        'max_depth': trial.suggest_int('max_depth', 4, 50),\n",
    "        'min_samples_split': trial.suggest_int('min_samples_split', 2, 150),\n",
    "        'min_samples_leaf': trial.suggest_int('min_samples_leaf', 1, 60),\n",
    "        'criterion': trial.suggest_categorical(\"criterion\", [\"gini\", \"entropy\", \"log_loss\"]),\n",
    "        'max_features': trial.suggest_categorical('max_features', [\"sqrt\", \"log2\"]),\n",
    "    }\n",
    "\n",
    "    pipeline = make_pipeline(SimpleImputer(), log_transformer, ExtraTreesClassifier(**params))\n",
    "    scores = cross_val_score(pipeline, X, y, cv=3, scoring='roc_auc', n_jobs=-1)\n",
    "    return scores.mean()\n",
    "\n",
    "study = optuna.create_study(direction='maximize')\n",
    "study.optimize(objective, n_trials=15, show_progress_bar=True)"
   ]
  },
  {
   "cell_type": "code",
   "execution_count": 10,
   "id": "496b3bbf-f4b5-4645-892d-e3b5f87d909d",
   "metadata": {},
   "outputs": [
    {
     "data": {
      "text/plain": [
       "({'n_estimators': 329,\n",
       "  'max_depth': 34,\n",
       "  'min_samples_split': 87,\n",
       "  'min_samples_leaf': 1,\n",
       "  'criterion': 'log_loss',\n",
       "  'max_features': 'log2'},\n",
       " 0.7818807576268298)"
      ]
     },
     "execution_count": 10,
     "metadata": {},
     "output_type": "execute_result"
    }
   ],
   "source": [
    "study.best_params, study.best_value"
   ]
  },
  {
   "cell_type": "code",
   "execution_count": 9,
   "id": "5476b20b-e1a2-4c86-9283-49126fc94577",
   "metadata": {},
   "outputs": [
    {
     "data": {
      "text/html": [
       "<style>#sk-container-id-1 {color: black;}#sk-container-id-1 pre{padding: 0;}#sk-container-id-1 div.sk-toggleable {background-color: white;}#sk-container-id-1 label.sk-toggleable__label {cursor: pointer;display: block;width: 100%;margin-bottom: 0;padding: 0.3em;box-sizing: border-box;text-align: center;}#sk-container-id-1 label.sk-toggleable__label-arrow:before {content: \"▸\";float: left;margin-right: 0.25em;color: #696969;}#sk-container-id-1 label.sk-toggleable__label-arrow:hover:before {color: black;}#sk-container-id-1 div.sk-estimator:hover label.sk-toggleable__label-arrow:before {color: black;}#sk-container-id-1 div.sk-toggleable__content {max-height: 0;max-width: 0;overflow: hidden;text-align: left;background-color: #f0f8ff;}#sk-container-id-1 div.sk-toggleable__content pre {margin: 0.2em;color: black;border-radius: 0.25em;background-color: #f0f8ff;}#sk-container-id-1 input.sk-toggleable__control:checked~div.sk-toggleable__content {max-height: 200px;max-width: 100%;overflow: auto;}#sk-container-id-1 input.sk-toggleable__control:checked~label.sk-toggleable__label-arrow:before {content: \"▾\";}#sk-container-id-1 div.sk-estimator input.sk-toggleable__control:checked~label.sk-toggleable__label {background-color: #d4ebff;}#sk-container-id-1 div.sk-label input.sk-toggleable__control:checked~label.sk-toggleable__label {background-color: #d4ebff;}#sk-container-id-1 input.sk-hidden--visually {border: 0;clip: rect(1px 1px 1px 1px);clip: rect(1px, 1px, 1px, 1px);height: 1px;margin: -1px;overflow: hidden;padding: 0;position: absolute;width: 1px;}#sk-container-id-1 div.sk-estimator {font-family: monospace;background-color: #f0f8ff;border: 1px dotted black;border-radius: 0.25em;box-sizing: border-box;margin-bottom: 0.5em;}#sk-container-id-1 div.sk-estimator:hover {background-color: #d4ebff;}#sk-container-id-1 div.sk-parallel-item::after {content: \"\";width: 100%;border-bottom: 1px solid gray;flex-grow: 1;}#sk-container-id-1 div.sk-label:hover label.sk-toggleable__label {background-color: #d4ebff;}#sk-container-id-1 div.sk-serial::before {content: \"\";position: absolute;border-left: 1px solid gray;box-sizing: border-box;top: 0;bottom: 0;left: 50%;z-index: 0;}#sk-container-id-1 div.sk-serial {display: flex;flex-direction: column;align-items: center;background-color: white;padding-right: 0.2em;padding-left: 0.2em;position: relative;}#sk-container-id-1 div.sk-item {position: relative;z-index: 1;}#sk-container-id-1 div.sk-parallel {display: flex;align-items: stretch;justify-content: center;background-color: white;position: relative;}#sk-container-id-1 div.sk-item::before, #sk-container-id-1 div.sk-parallel-item::before {content: \"\";position: absolute;border-left: 1px solid gray;box-sizing: border-box;top: 0;bottom: 0;left: 50%;z-index: -1;}#sk-container-id-1 div.sk-parallel-item {display: flex;flex-direction: column;z-index: 1;position: relative;background-color: white;}#sk-container-id-1 div.sk-parallel-item:first-child::after {align-self: flex-end;width: 50%;}#sk-container-id-1 div.sk-parallel-item:last-child::after {align-self: flex-start;width: 50%;}#sk-container-id-1 div.sk-parallel-item:only-child::after {width: 0;}#sk-container-id-1 div.sk-dashed-wrapped {border: 1px dashed gray;margin: 0 0.4em 0.5em 0.4em;box-sizing: border-box;padding-bottom: 0.4em;background-color: white;}#sk-container-id-1 div.sk-label label {font-family: monospace;font-weight: bold;display: inline-block;line-height: 1.2em;}#sk-container-id-1 div.sk-label-container {text-align: center;}#sk-container-id-1 div.sk-container {/* jupyter's `normalize.less` sets `[hidden] { display: none; }` but bootstrap.min.css set `[hidden] { display: none !important; }` so we also need the `!important` here to be able to override the default hidden behavior on the sphinx rendered scikit-learn.org. See: https://github.com/scikit-learn/scikit-learn/issues/21755 */display: inline-block !important;position: relative;}#sk-container-id-1 div.sk-text-repr-fallback {display: none;}</style><div id=\"sk-container-id-1\" class=\"sk-top-container\"><div class=\"sk-text-repr-fallback\"><pre>Pipeline(steps=[(&#x27;simpleimputer&#x27;, SimpleImputer()),\n",
       "                (&#x27;functiontransformer&#x27;,\n",
       "                 FunctionTransformer(func=&lt;ufunc &#x27;log1p&#x27;&gt;)),\n",
       "                (&#x27;extratreesclassifier&#x27;,\n",
       "                 ExtraTreesClassifier(criterion=&#x27;log_loss&#x27;, max_depth=34,\n",
       "                                      max_features=&#x27;log2&#x27;, min_samples_split=87,\n",
       "                                      n_estimators=329))])</pre><b>In a Jupyter environment, please rerun this cell to show the HTML representation or trust the notebook. <br />On GitHub, the HTML representation is unable to render, please try loading this page with nbviewer.org.</b></div><div class=\"sk-container\" hidden><div class=\"sk-item sk-dashed-wrapped\"><div class=\"sk-label-container\"><div class=\"sk-label sk-toggleable\"><input class=\"sk-toggleable__control sk-hidden--visually\" id=\"sk-estimator-id-1\" type=\"checkbox\" ><label for=\"sk-estimator-id-1\" class=\"sk-toggleable__label sk-toggleable__label-arrow\">Pipeline</label><div class=\"sk-toggleable__content\"><pre>Pipeline(steps=[(&#x27;simpleimputer&#x27;, SimpleImputer()),\n",
       "                (&#x27;functiontransformer&#x27;,\n",
       "                 FunctionTransformer(func=&lt;ufunc &#x27;log1p&#x27;&gt;)),\n",
       "                (&#x27;extratreesclassifier&#x27;,\n",
       "                 ExtraTreesClassifier(criterion=&#x27;log_loss&#x27;, max_depth=34,\n",
       "                                      max_features=&#x27;log2&#x27;, min_samples_split=87,\n",
       "                                      n_estimators=329))])</pre></div></div></div><div class=\"sk-serial\"><div class=\"sk-item\"><div class=\"sk-estimator sk-toggleable\"><input class=\"sk-toggleable__control sk-hidden--visually\" id=\"sk-estimator-id-2\" type=\"checkbox\" ><label for=\"sk-estimator-id-2\" class=\"sk-toggleable__label sk-toggleable__label-arrow\">SimpleImputer</label><div class=\"sk-toggleable__content\"><pre>SimpleImputer()</pre></div></div></div><div class=\"sk-item\"><div class=\"sk-estimator sk-toggleable\"><input class=\"sk-toggleable__control sk-hidden--visually\" id=\"sk-estimator-id-3\" type=\"checkbox\" ><label for=\"sk-estimator-id-3\" class=\"sk-toggleable__label sk-toggleable__label-arrow\">FunctionTransformer</label><div class=\"sk-toggleable__content\"><pre>FunctionTransformer(func=&lt;ufunc &#x27;log1p&#x27;&gt;)</pre></div></div></div><div class=\"sk-item\"><div class=\"sk-estimator sk-toggleable\"><input class=\"sk-toggleable__control sk-hidden--visually\" id=\"sk-estimator-id-4\" type=\"checkbox\" ><label for=\"sk-estimator-id-4\" class=\"sk-toggleable__label sk-toggleable__label-arrow\">ExtraTreesClassifier</label><div class=\"sk-toggleable__content\"><pre>ExtraTreesClassifier(criterion=&#x27;log_loss&#x27;, max_depth=34, max_features=&#x27;log2&#x27;,\n",
       "                     min_samples_split=87, n_estimators=329)</pre></div></div></div></div></div></div></div>"
      ],
      "text/plain": [
       "Pipeline(steps=[('simpleimputer', SimpleImputer()),\n",
       "                ('functiontransformer',\n",
       "                 FunctionTransformer(func=<ufunc 'log1p'>)),\n",
       "                ('extratreesclassifier',\n",
       "                 ExtraTreesClassifier(criterion='log_loss', max_depth=34,\n",
       "                                      max_features='log2', min_samples_split=87,\n",
       "                                      n_estimators=329))])"
      ]
     },
     "execution_count": 9,
     "metadata": {},
     "output_type": "execute_result"
    }
   ],
   "source": [
    "pipeline = make_pipeline(SimpleImputer(), log_transformer, ExtraTreesClassifier(**study.best_params))\n",
    "pipeline.fit(X, y)"
   ]
  },
  {
   "cell_type": "code",
   "execution_count": 11,
   "id": "dc62c2c1-b3aa-4aef-91d4-16fd34836caf",
   "metadata": {},
   "outputs": [],
   "source": [
    "submission = test.copy()\n",
    "submission['defects'] = pipeline.predict_proba(submission)[:, 1]\n",
    "submission.defects.to_csv('extra_tree_submission.csv')"
   ]
  },
  {
   "cell_type": "code",
   "execution_count": null,
   "id": "89d9d50e-2019-4ee9-a3e6-f1d81de522c9",
   "metadata": {},
   "outputs": [],
   "source": []
  }
 ],
 "metadata": {
  "kernelspec": {
   "display_name": "Python 3 (ipykernel)",
   "language": "python",
   "name": "python3"
  },
  "language_info": {
   "codemirror_mode": {
    "name": "ipython",
    "version": 3
   },
   "file_extension": ".py",
   "mimetype": "text/x-python",
   "name": "python",
   "nbconvert_exporter": "python",
   "pygments_lexer": "ipython3",
   "version": "3.11.6"
  }
 },
 "nbformat": 4,
 "nbformat_minor": 5
}
