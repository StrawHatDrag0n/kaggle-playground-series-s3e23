{
 "cells": [
  {
   "cell_type": "markdown",
   "metadata": {},
   "source": [
    "# 1. INTRODUCTION"
   ]
  },
  {
   "cell_type": "markdown",
   "metadata": {},
   "source": [
    "**PROBLEM STATEMENT: PREDICT SOFTWARE DEFECTS**\n",
    "\n",
    "<font size=\"3\">Welcome to the Episode 23 of the Playground Series</font>\n",
    "\n",
    "**Data Description**\n",
    "\n",
    "1. loc: numeric - McCabe's line count of code\n",
    "2. v(g): numeric - McCabe \"cyclomatic complexity\"\n",
    "3. ev(g): numeric - McCabe \"essential complexity\"\n",
    "4. iv(g): numeric - McCabe \"design complexity\"\n",
    "5. n: numeric - Halstead total operators + operands\n",
    "6. v: numeric - Halstead \"volume\"\n",
    "7. l: numeric - Halstead \"program length\"\n",
    "8. d: numeric - Halstead \"difficulty\"\n",
    "9. i: numeric - Halstead \"intelligence\"\n",
    "10. e: numeric - Halstead \"effort\"\n",
    "11. b: numeric - Halstead \n",
    "12. t: numeric - Halstead's time estimator\n",
    "13. lOCode: numeric - Halstead's line count\n",
    "14. lOComment: numeric - Halstead's count of lines of comments\n",
    "15. lOBlank: numeric - Halstead's count of blank lines\n",
    "16. lOCodeAndComment: numeric\n",
    "17. uniq_Op: numeric - unique operators\n",
    "18. uniq_Opnd: numeric - unique operands\n",
    "19. total_Op: numeric - total operators\n",
    "20. total_Opnd: numeric - total operands\n",
    "21. branchCount: numeric - percentage of the flow graph\n",
    "22. defects: {false, true} - module has/has not one or more reported defects\n",
    "\n",
    "**Objective:** Binary Classification on Defects, predict the probability of defect\n",
    "\n",
    "**Metric of Evaluation:** ROC-AUC\n"
   ]
  },
  {
   "cell_type": "markdown",
   "metadata": {},
   "source": [
    "# 2. IMPORTS"
   ]
  },
  {
   "cell_type": "code",
   "execution_count": 1,
   "metadata": {
    "_kg_hide-input": true,
    "_kg_hide-output": true
   },
   "outputs": [
    {
     "ename": "ModuleNotFoundError",
     "evalue": "No module named 'missingno'",
     "output_type": "error",
     "traceback": [
      "\u001b[0;31m---------------------------------------------------------------------------\u001b[0m",
      "\u001b[0;31mModuleNotFoundError\u001b[0m                       Traceback (most recent call last)",
      "Cell \u001b[0;32mIn[1], line 7\u001b[0m\n\u001b[1;32m      5\u001b[0m \u001b[38;5;28;01mimport\u001b[39;00m \u001b[38;5;21;01mpandas\u001b[39;00m \u001b[38;5;28;01mas\u001b[39;00m \u001b[38;5;21;01mpd\u001b[39;00m\n\u001b[1;32m      6\u001b[0m \u001b[38;5;28;01mimport\u001b[39;00m \u001b[38;5;21;01mmatplotlib\u001b[39;00m\u001b[38;5;21;01m.\u001b[39;00m\u001b[38;5;21;01mpyplot\u001b[39;00m \u001b[38;5;28;01mas\u001b[39;00m \u001b[38;5;21;01mplt\u001b[39;00m\n\u001b[0;32m----> 7\u001b[0m \u001b[38;5;28;01mimport\u001b[39;00m \u001b[38;5;21;01mmissingno\u001b[39;00m \u001b[38;5;28;01mas\u001b[39;00m \u001b[38;5;21;01mmsno\u001b[39;00m\n\u001b[1;32m      8\u001b[0m \u001b[38;5;28;01mfrom\u001b[39;00m \u001b[38;5;21;01mprettytable\u001b[39;00m \u001b[38;5;28;01mimport\u001b[39;00m PrettyTable\n\u001b[1;32m      9\u001b[0m get_ipython()\u001b[38;5;241m.\u001b[39mrun_line_magic(\u001b[38;5;124m'\u001b[39m\u001b[38;5;124mmatplotlib\u001b[39m\u001b[38;5;124m'\u001b[39m, \u001b[38;5;124m'\u001b[39m\u001b[38;5;124minline\u001b[39m\u001b[38;5;124m'\u001b[39m)\n",
      "\u001b[0;31mModuleNotFoundError\u001b[0m: No module named 'missingno'"
     ]
    }
   ],
   "source": [
    "import sklearn\n",
    "import numpy as np\n",
    "import os\n",
    "import datetime\n",
    "import pandas as pd\n",
    "import matplotlib.pyplot as plt\n",
    "import missingno as msno\n",
    "from prettytable import PrettyTable\n",
    "%matplotlib inline\n",
    "import seaborn as sns\n",
    "sns.set(style='darkgrid', font_scale=1.4)\n",
    "from tqdm import tqdm\n",
    "from tqdm.notebook import tqdm as tqdm_notebook\n",
    "tqdm_notebook.get_lock().locks = []\n",
    "# !pip install sweetviz\n",
    "# import sweetviz as sv\n",
    "import concurrent.futures\n",
    "from copy import deepcopy       \n",
    "from functools import partial\n",
    "from itertools import combinations\n",
    "import random\n",
    "from random import randint, uniform\n",
    "import gc\n",
    "from sklearn.feature_selection import f_classif\n",
    "from sklearn.preprocessing import LabelEncoder, StandardScaler, MinMaxScaler,PowerTransformer, FunctionTransformer\n",
    "from sklearn import metrics\n",
    "from sklearn.model_selection import GridSearchCV\n",
    "from sklearn.model_selection import RandomizedSearchCV\n",
    "from itertools import combinations\n",
    "from sklearn.impute import SimpleImputer\n",
    "import xgboost as xg\n",
    "from sklearn.model_selection import train_test_split,cross_val_score\n",
    "from sklearn.metrics import mean_squared_error,mean_squared_log_error, roc_auc_score, accuracy_score, f1_score, precision_recall_curve, log_loss\n",
    "from sklearn.cluster import KMeans\n",
    "# !pip install yellowbrick\n",
    "from yellowbrick.cluster import KElbowVisualizer\n",
    "# !pip install gap-stat\n",
    "from gap_statistic.optimalK import OptimalK\n",
    "from scipy import stats\n",
    "import statsmodels.api as sm\n",
    "from scipy.stats import ttest_ind\n",
    "from scipy.stats import boxcox\n",
    "import math\n",
    "from statsmodels.stats.outliers_influence import variance_inflation_factor\n",
    "from sklearn.base import BaseEstimator, TransformerMixin\n",
    "# !pip install optuna\n",
    "import optuna\n",
    "import xgboost as xgb\n",
    "# !pip install catboost\n",
    "# !pip install lightgbm --install-option=--gpu --install-option=\"--boost-root=C:/local/boost_1_69_0\" --install-option=\"--boost-librarydir=C:/local/boost_1_69_0/lib64-msvc-14.1\"\n",
    "import lightgbm as lgb\n",
    "# !pip install category_encoders\n",
    "from category_encoders import OneHotEncoder, OrdinalEncoder, CountEncoder, CatBoostEncoder\n",
    "from imblearn.under_sampling import RandomUnderSampler\n",
    "from sklearn.model_selection import StratifiedKFold, KFold\n",
    "from sklearn.ensemble import RandomForestClassifier, HistGradientBoostingClassifier, GradientBoostingClassifier,ExtraTreesClassifier, AdaBoostClassifier\n",
    "# !pip install -U imbalanced-learn\n",
    "from imblearn.ensemble import BalancedRandomForestClassifier\n",
    "from sklearn.datasets import make_classification\n",
    "from sklearn.naive_bayes import GaussianNB\n",
    "from sklearn.experimental import enable_hist_gradient_boosting\n",
    "from sklearn.tree import DecisionTreeClassifier\n",
    "from sklearn.linear_model import LogisticRegression\n",
    "from catboost import CatBoost, CatBoostRegressor, CatBoostClassifier\n",
    "from sklearn.svm import NuSVC, SVC\n",
    "from sklearn.neighbors import KNeighborsClassifier\n",
    "from sklearn.impute import KNNImputer\n",
    "from sklearn.linear_model import LogisticRegression\n",
    "from sklearn.neural_network import MLPClassifier\n",
    "from catboost import Pool\n",
    "import re\n",
    "from sklearn.feature_extraction.text import TfidfVectorizer\n",
    "from sklearn.decomposition import PCA\n",
    "from sklearn.decomposition import TruncatedSVD\n",
    "\n",
    "# Suppress warnings\n",
    "import warnings\n",
    "warnings.filterwarnings(\"ignore\")\n",
    "pd.pandas.set_option('display.max_columns',None)"
   ]
  },
  {
   "cell_type": "code",
   "execution_count": 2,
   "metadata": {
    "execution": {
     "iopub.execute_input": "2023-10-20T19:25:31.308938Z",
     "iopub.status.busy": "2023-10-20T19:25:31.307707Z",
     "iopub.status.idle": "2023-10-20T19:27:14.874551Z",
     "shell.execute_reply": "2023-10-20T19:27:14.873116Z",
     "shell.execute_reply.started": "2023-10-20T19:25:31.308901Z"
    }
   },
   "outputs": [],
   "source": [
    "train = pd.read_csv('../input/playground-series-s3e23/train.csv', index_col='id')\n",
    "original = pd.read_csv('../input/software-defect-prediction/jm1.csv')\n",
    "\n",
    "cols=['uniq_Op', 'uniq_Opnd', 'total_Op', 'total_Opnd', 'branchCount']\n",
    "def convert(x):\n",
    "    try: \n",
    "        return float(x)\n",
    "    except ValueError:\n",
    "        return np.nan\n",
    "for col in cols:\n",
    "    original[col]=original[col].apply(convert)\n",
    "original=original.dropna()\n",
    "\n",
    "train_processed = pd.read_csv('../input/ps3e23-eda-feature-engineering-ensemble/train_processed.csv')\n",
    "test_processed = pd.read_csv('../input/ps3e23-eda-feature-engineering-ensemble/test_processed.csv')\n",
    "\n",
    "train=pd.concat([train,original],axis=0)"
   ]
  },
  {
   "cell_type": "code",
   "execution_count": 3,
   "metadata": {
    "execution": {
     "iopub.execute_input": "2023-10-20T19:27:14.876622Z",
     "iopub.status.busy": "2023-10-20T19:27:14.876228Z",
     "iopub.status.idle": "2023-10-20T19:27:15.493322Z",
     "shell.execute_reply": "2023-10-20T19:27:15.492062Z",
     "shell.execute_reply.started": "2023-10-20T19:27:14.876592Z"
    }
   },
   "outputs": [],
   "source": [
    "X_train = train_processed.drop(columns=['defects'])\n",
    "y_train = train['defects'].astype(int)\n",
    "\n",
    "X_test = test_processed.copy()"
   ]
  },
  {
   "cell_type": "code",
   "execution_count": 4,
   "metadata": {
    "execution": {
     "iopub.execute_input": "2023-10-20T19:27:15.497398Z",
     "iopub.status.busy": "2023-10-20T19:27:15.496965Z",
     "iopub.status.idle": "2023-10-20T19:27:15.523623Z",
     "shell.execute_reply": "2023-10-20T19:27:15.522285Z",
     "shell.execute_reply.started": "2023-10-20T19:27:15.497362Z"
    }
   },
   "outputs": [],
   "source": [
    "def get_most_important_features(X_train, y_train, n,model_input):\n",
    "    xgb_params = {\n",
    "            'n_jobs': -1,\n",
    "            'eval_metric': 'logloss',\n",
    "            'objective': 'binary:logistic',\n",
    "            'tree_method': 'hist',\n",
    "            'verbosity': 0,\n",
    "            'random_state': 42,\n",
    "        }\n",
    "    lgb_params = {\n",
    "            'objective': 'binary',\n",
    "            'metric': 'logloss',\n",
    "            'boosting_type': 'gbdt',\n",
    "            'random_state': 42,\n",
    "        }\n",
    "    cb_params = {\n",
    "            'grow_policy': 'Depthwise',\n",
    "            'bootstrap_type': 'Bayesian',\n",
    "            'od_type': 'Iter',\n",
    "            'eval_metric': 'AUC',\n",
    "            'loss_function': 'Logloss',\n",
    "            'random_state': 42,\n",
    "        }\n",
    "    \n",
    "    et_params = {\n",
    "        'random_state': 42,\n",
    "        'n_jobs': -1\n",
    "    }\n",
    "    if 'xgb' in model_input:\n",
    "        model = xgb.XGBClassifier(**xgb_params)\n",
    "    elif 'cat' in model_input:\n",
    "        model=CatBoostClassifier(**cb_params)\n",
    "    elif 'lgbm':\n",
    "        model=lgb.LGBMClassifier(**lgb_params)\n",
    "    elif 'et':\n",
    "        model=ExtraTreesClassifier(**et_params)\n",
    "        \n",
    "    kfold = KFold(n_splits=5, shuffle=True, random_state=42)\n",
    "    auc_scores = []\n",
    "    feature_importances_list = []\n",
    "    \n",
    "    for train_idx, val_idx in kfold.split(X_train):\n",
    "        X_train_fold, X_val_fold = X_train.iloc[train_idx], X_train.iloc[val_idx]\n",
    "        y_train_fold, y_val_fold = y_train.iloc[train_idx], y_train.iloc[val_idx]\n",
    "\n",
    "        model.fit(X_train_fold, y_train_fold, verbose=False)\n",
    "        \n",
    "        y_pred = model.predict_proba(X_val_fold)[:,1]\n",
    "        auc_scores.append(roc_auc_score(y_val_fold, y_pred))\n",
    "        feature_importances = model.feature_importances_\n",
    "        feature_importances_list.append(feature_importances)\n",
    "\n",
    "    avg_auc= np.mean(auc_scores)\n",
    "    avg_feature_importances = np.mean(feature_importances_list, axis=0)\n",
    "\n",
    "    feature_importance_list = [(X_train.columns[i], importance) for i, importance in enumerate(avg_feature_importances)]\n",
    "    sorted_features = sorted(feature_importance_list, key=lambda x: x[1], reverse=True)\n",
    "    top_n_features = [feature[0] for feature in sorted_features[:n]]\n",
    "\n",
    "    display_features=top_n_features[:10]\n",
    "    \n",
    "    sns.set_palette(\"Set2\")\n",
    "    plt.figure(figsize=(8, 6))\n",
    "    plt.barh(range(len(display_features)), [avg_feature_importances[X_train.columns.get_loc(feature)] for feature in display_features])\n",
    "    plt.yticks(range(len(display_features)), display_features, fontsize=12)\n",
    "    plt.xlabel('Average Feature Importance', fontsize=14)\n",
    "    plt.ylabel('Features', fontsize=10)\n",
    "    plt.title(f'Top {10} of {n} Feature Importances with ROC AUC score {avg_auc}', fontsize=16)\n",
    "    plt.gca().invert_yaxis()  # Invert y-axis to have the most important feature on top\n",
    "    plt.grid(axis='x', linestyle='--', alpha=0.7)\n",
    "    plt.xticks(fontsize=8)\n",
    "    plt.yticks(fontsize=8)\n",
    "\n",
    "    # Add data labels on the bars\n",
    "    for index, value in enumerate([avg_feature_importances[X_train.columns.get_loc(feature)] for feature in display_features]):\n",
    "        plt.text(value + 0.005, index, f'{value:.3f}', fontsize=12, va='center')\n",
    "\n",
    "    plt.tight_layout()\n",
    "    plt.show()\n",
    "\n",
    "    return top_n_features"
   ]
  },
  {
   "cell_type": "code",
   "execution_count": 5,
   "metadata": {
    "execution": {
     "iopub.execute_input": "2023-10-20T19:27:15.526257Z",
     "iopub.status.busy": "2023-10-20T19:27:15.525618Z",
     "iopub.status.idle": "2023-10-20T19:28:30.302129Z",
     "shell.execute_reply": "2023-10-20T19:28:30.300785Z",
     "shell.execute_reply.started": "2023-10-20T19:27:15.526219Z"
    }
   },
   "outputs": [
    {
     "data": {
      "image/png": "[encoded data removed]",
      "text/plain": [
       "<Figure size 800x600 with 1 Axes>"
      ]
     },
     "metadata": {},
     "output_type": "display_data"
    },
    {
     "name": "stdout",
     "output_type": "stream",
     "text": [
      "150 features have been selected from three algorithms for the final model\n"
     ]
    }
   ],
   "source": [
    "n_imp_features_cat = []\n",
    "n_imp_features_xgb = []\n",
    "n_imp_features_lgbm = []\n",
    "n_imp_features_et = []\n",
    "\n",
    "# n_imp_features_cat=get_most_important_features(X_train.reset_index(drop=True), y_train,150, 'cat')\n",
    "# n_imp_features_xgb=get_most_important_features(X_train.reset_index(drop=True), y_train,150, 'xgb')\n",
    "# n_imp_features_lgbm=get_most_important_features(X_train.reset_index(drop=True), y_train,150, 'lgbm')\n",
    "n_imp_features_et = get_most_important_features(X_train.reset_index(drop=True), y_train,150, 'et')\n",
    "\n",
    "n_imp_features=[*set(n_imp_features_xgb+n_imp_features_lgbm+n_imp_features_cat+n_imp_features_et)]\n",
    "print(f\"{len(n_imp_features)} features have been selected from three algorithms for the final model\")"
   ]
  },
  {
   "cell_type": "code",
   "execution_count": 6,
   "metadata": {
    "execution": {
     "iopub.execute_input": "2023-10-20T19:28:30.305120Z",
     "iopub.status.busy": "2023-10-20T19:28:30.304749Z",
     "iopub.status.idle": "2023-10-20T19:28:30.366686Z",
     "shell.execute_reply": "2023-10-20T19:28:30.365377Z",
     "shell.execute_reply.started": "2023-10-20T19:28:30.305086Z"
    }
   },
   "outputs": [],
   "source": [
    "X_train=X_train[n_imp_features]\n",
    "X_test=X_test[n_imp_features]"
   ]
  },
  {
   "cell_type": "markdown",
   "metadata": {},
   "source": [
    "# 6. XGBoost"
   ]
  },
  {
   "cell_type": "code",
   "execution_count": 7,
   "metadata": {
    "execution": {
     "iopub.execute_input": "2023-10-20T19:28:30.369550Z",
     "iopub.status.busy": "2023-10-20T19:28:30.368790Z",
     "iopub.status.idle": "2023-10-20T19:28:30.376507Z",
     "shell.execute_reply": "2023-10-20T19:28:30.375647Z",
     "shell.execute_reply.started": "2023-10-20T19:28:30.369504Z"
    }
   },
   "outputs": [],
   "source": [
    "from sklearn.pipeline import make_pipeline\n",
    "N_TRIALS=30\n",
    "SPLITS=5\n",
    "SEED=42"
   ]
  },
  {
   "cell_type": "code",
   "execution_count": null,
   "metadata": {
    "execution": {
     "iopub.execute_input": "2023-10-20T19:28:30.378118Z",
     "iopub.status.busy": "2023-10-20T19:28:30.377784Z"
    }
   },
   "outputs": [
    {
     "name": "stderr",
     "output_type": "stream",
     "text": [
      "[I 2023-10-20 19:28:30,391] A new study created in memory with name: no-name-552550c1-0588-4386-ac8a-3cd0e46752d3\n"
     ]
    },
    {
     "data": {
      "application/vnd.jupyter.widget-view+json": {
       "model_id": "04e4f97377b54f80a00cbb6abcd97c4a",
       "version_major": 2,
       "version_minor": 0
      },
      "text/plain": [
       "  0%|          | 0/30 [00:00<?, ?it/s]"
      ]
     },
     "metadata": {},
     "output_type": "display_data"
    }
   ],
   "source": [
    "def objective(trial):\n",
    "    params = {\n",
    "        'n_estimators': trial.suggest_int('n_estimators', 100, 600, 100),\n",
    "        'n_jobs': trial.suggest_categorical('n_jobs', [-1]),\n",
    "        'random_state': trial.suggest_categorical('random_state', [SEED]),\n",
    "        'max_depth': trial.suggest_int('max_depth', 4, 50),\n",
    "        'min_samples_split': trial.suggest_int('min_samples_split', 2, 150),\n",
    "        'min_samples_leaf': trial.suggest_int('min_samples_leaf', 1, 60),\n",
    "        'criterion': trial.suggest_categorical(\"criterion\", [\"gini\"]),\n",
    "        'max_features': trial.suggest_categorical('max_features', [1.0]),\n",
    "    }\n",
    "\n",
    "    pipeline = make_pipeline(ExtraTreesClassifier(**params))\n",
    "    scores = cross_val_score(pipeline, X_train, y_train, cv=SPLITS, scoring='roc_auc', n_jobs=-1)\n",
    "    return scores.mean()\n",
    "\n",
    "study = optuna.create_study(direction='maximize')\n",
    "study.optimize(objective, n_trials=N_TRIALS, show_progress_bar=True)"
   ]
  },
  {
   "cell_type": "code",
   "execution_count": null,
   "metadata": {},
   "outputs": [],
   "source": [
    "study.best_params, study.best_value"
   ]
  },
  {
   "cell_type": "code",
   "execution_count": null,
   "metadata": {},
   "outputs": [],
   "source": [
    "pipeline = make_pipeline(ExtraTreesClassifier(**study.best_params))\n",
    "pipeline.fit(X_train, y_train)"
   ]
  },
  {
   "cell_type": "code",
   "execution_count": null,
   "metadata": {},
   "outputs": [],
   "source": [
    "submission = pd.read_csv('/kaggle/input/playground-series-s3e23/sample_submission.csv', )\n",
    "submission['defects'] = pipeline.predict_proba(X_test)[:, 1]\n",
    "submission.to_csv('submission.csv', index=False)"
   ]
  },
  {
   "cell_type": "code",
   "execution_count": null,
   "metadata": {},
   "outputs": [],
   "source": []
  }
 ],
 "metadata": {
  "kernelspec": {
   "display_name": "Python 3 (ipykernel)",
   "language": "python",
   "name": "python3"
  },
  "language_info": {
   "codemirror_mode": {
    "name": "ipython",
    "version": 3
   },
   "file_extension": ".py",
   "mimetype": "text/x-python",
   "name": "python",
   "nbconvert_exporter": "python",
   "pygments_lexer": "ipython3",
   "version": "3.11.6"
  }
 },
 "nbformat": 4,
 "nbformat_minor": 4
}
