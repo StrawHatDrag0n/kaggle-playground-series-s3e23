{
 "cells": [
  {
   "cell_type": "code",
   "execution_count": 1,
   "id": "b7aa8579",
   "metadata": {},
   "outputs": [
    {
     "name": "stdout",
     "output_type": "stream",
     "text": [
      "Warning: Your Kaggle API key is readable by other users on this system! To fix this, you can run 'chmod 600 /home/strawhatdragon100/.kaggle/kaggle.json'\n"
     ]
    },
    {
     "name": "stderr",
     "output_type": "stream",
     "text": [
      "/home/strawhatdragon100/miniconda3/envs/kaggle/lib/python3.11/site-packages/tqdm/auto.py:21: TqdmWarning: IProgress not found. Please update jupyter and ipywidgets. See https://ipywidgets.readthedocs.io/en/stable/user_install.html\n",
      "  from .autonotebook import tqdm as notebook_tqdm\n"
     ]
    }
   ],
   "source": [
    "from pathlib import Path\n",
    "import os\n",
    "import kaggle\n",
    "import pandas as pd\n",
    "import numpy as np\n",
    "from sklearn.preprocessing import FunctionTransformer, PowerTransformer\n",
    "from sklearn.compose import ColumnTransformer\n",
    "from sklearn.model_selection import RandomizedSearchCV\n",
    "from sklearn.ensemble import ExtraTreesClassifier\n",
    "from sklearn.pipeline import make_pipeline\n",
    "from sklearn.impute import SimpleImputer\n",
    "from sklearn.model_selection import StratifiedKFold\n",
    "import optuna\n",
    "\n",
    "pd.set_option('display.max_columns', None)\n",
    "pd.set_option('display.max_colwidth', None)\n",
    "\n",
    "iskaggle = os.environ.get('KAGGLE_KERNEL_RUN_TYPE', '')\n",
    "if iskaggle:\n",
    "    path = Path('../input/playground-series-s3e23')\n",
    "    orig_path = Path('../input/software-defect-prediction')\n",
    "else:\n",
    "    path = Path('../input/playground-series-s3e23')\n",
    "    orig_path = Path('../input/software-defect-prediction')\n",
    "    if not path.exists():\n",
    "        kaggle.api.competition_download_cli(str(path))\n",
    "        zipfile.ZipFile(f'{path}.zip').extractall(path)\n",
    "    if not orig_path.exists():\n",
    "        kaggle.api.competition_download_cli(str(path))\n",
    "        zipfile.ZipFile(f'{path}.zip').extractall(path)\n",
    "\n",
    "SEED = 42\n",
    "SPLITS = 5\n",
    "VERSION = 6\n",
    "OUTPUT = f'extra_tree_clf_submisson_v{VERSION}.csv'\n",
    "\n",
    "np.random.seed(SEED)"
   ]
  },
  {
   "cell_type": "code",
   "execution_count": 2,
   "id": "8d5c6433",
   "metadata": {},
   "outputs": [],
   "source": [
    "train = pd.read_csv(path/'train.csv', index_col = 'id')\n",
    "test = pd.read_csv(path/'test.csv', index_col = 'id')\n",
    "orig_train = pd.read_csv(orig_path/'jm1.csv')"
   ]
  },
  {
   "cell_type": "code",
   "execution_count": 3,
   "id": "2a98ac48",
   "metadata": {},
   "outputs": [],
   "source": [
    "for object_features in list(orig_train.loc[:, orig_train.dtypes == 'O']):\n",
    "    orig_train[object_features] = orig_train[object_features].replace({'?' : np.nan}).astype('float64')"
   ]
  },
  {
   "cell_type": "code",
   "execution_count": 4,
   "id": "5d4111c6",
   "metadata": {},
   "outputs": [],
   "source": [
    "X = pd.concat([train, orig_train])\n",
    "y = X.pop('defects')"
   ]
  },
  {
   "cell_type": "code",
   "execution_count": 5,
   "id": "7304018b",
   "metadata": {},
   "outputs": [],
   "source": [
    "partial_pipeline = make_pipeline(ColumnTransformer([('drop', 'drop',\n",
    "                                  ['iv(g)', 't', 'b', 'n',\n",
    "                                   'lOCode', 'v', 'branchCount',\n",
    "                                   'e', 'i', 'lOComment'])],\n",
    "                                remainder='passthrough'), SimpleImputer(), FunctionTransformer(func=np.log1p, validate=False), PowerTransformer())"
   ]
  },
  {
   "cell_type": "code",
   "execution_count": 6,
   "id": "8ae6c342",
   "metadata": {},
   "outputs": [
    {
     "name": "stderr",
     "output_type": "stream",
     "text": [
      "[I 2023-10-17 15:25:48,290] A new study created in memory with name: no-name-bb62fa7d-71db-4cac-961c-ec22fc4dd7d3\n",
      "Best trial: 0. Best value: 0.783927:   3%|█████▍                                                                                                                                                              | 1/30 [01:26<41:40, 86.21s/it]"
     ]
    },
    {
     "name": "stdout",
     "output_type": "stream",
     "text": [
      "[I 2023-10-17 15:27:14,500] Trial 0 finished with value: 0.7839273647200006 and parameters: {'n_estimators': 500, 'n_jobs': -1, 'random_state': 42, 'max_depth': 19, 'min_samples_split': 69, 'min_samples_leaf': 18, 'criterion': 'gini', 'max_features': 1.0}. Best is trial 0 with value: 0.7839273647200006.\n"
     ]
    },
    {
     "name": "stderr",
     "output_type": "stream",
     "text": [
      "Best trial: 1. Best value: 0.784094:   7%|██████████▉                                                                                                                                                         | 2/30 [02:39<36:39, 78.55s/it]"
     ]
    },
    {
     "name": "stdout",
     "output_type": "stream",
     "text": [
      "[I 2023-10-17 15:28:27,686] Trial 1 finished with value: 0.7840938716669501 and parameters: {'n_estimators': 400, 'n_jobs': -1, 'random_state': 42, 'max_depth': 47, 'min_samples_split': 43, 'min_samples_leaf': 34, 'criterion': 'gini', 'max_features': 1.0}. Best is trial 1 with value: 0.7840938716669501.\n"
     ]
    },
    {
     "name": "stderr",
     "output_type": "stream",
     "text": [
      "Best trial: 2. Best value: 0.784205:  10%|████████████████▍                                                                                                                                                   | 3/30 [03:35<30:39, 68.14s/it]"
     ]
    },
    {
     "name": "stdout",
     "output_type": "stream",
     "text": [
      "[I 2023-10-17 15:29:23,448] Trial 2 finished with value: 0.7842050667843055 and parameters: {'n_estimators': 300, 'n_jobs': -1, 'random_state': 42, 'max_depth': 39, 'min_samples_split': 82, 'min_samples_leaf': 33, 'criterion': 'gini', 'max_features': 1.0}. Best is trial 2 with value: 0.7842050667843055.\n"
     ]
    },
    {
     "name": "stderr",
     "output_type": "stream",
     "text": [
      "Best trial: 2. Best value: 0.784205:  13%|█████████████████████▊                                                                                                                                              | 4/30 [05:10<34:08, 78.79s/it]"
     ]
    },
    {
     "name": "stdout",
     "output_type": "stream",
     "text": [
      "[I 2023-10-17 15:30:58,551] Trial 3 finished with value: 0.7829620740590801 and parameters: {'n_estimators': 500, 'n_jobs': -1, 'random_state': 42, 'max_depth': 46, 'min_samples_split': 44, 'min_samples_leaf': 23, 'criterion': 'gini', 'max_features': 1.0}. Best is trial 2 with value: 0.7842050667843055.\n"
     ]
    },
    {
     "name": "stderr",
     "output_type": "stream",
     "text": [
      "Best trial: 4. Best value: 0.785563:  17%|███████████████████████████▎                                                                                                                                        | 5/30 [05:29<23:49, 57.19s/it]"
     ]
    },
    {
     "name": "stdout",
     "output_type": "stream",
     "text": [
      "[I 2023-10-17 15:31:17,447] Trial 4 finished with value: 0.7855625436802366 and parameters: {'n_estimators': 100, 'n_jobs': -1, 'random_state': 42, 'max_depth': 14, 'min_samples_split': 2, 'min_samples_leaf': 32, 'criterion': 'gini', 'max_features': 1.0}. Best is trial 4 with value: 0.7855625436802366.\n"
     ]
    },
    {
     "name": "stderr",
     "output_type": "stream",
     "text": [
      "Best trial: 4. Best value: 0.785563:  20%|████████████████████████████████▊                                                                                                                                   | 6/30 [05:54<18:30, 46.25s/it]"
     ]
    },
    {
     "name": "stdout",
     "output_type": "stream",
     "text": [
      "[I 2023-10-17 15:31:42,464] Trial 5 finished with value: 0.7774813710084968 and parameters: {'n_estimators': 400, 'n_jobs': -1, 'random_state': 42, 'max_depth': 4, 'min_samples_split': 55, 'min_samples_leaf': 20, 'criterion': 'gini', 'max_features': 1.0}. Best is trial 4 with value: 0.7855625436802366.\n"
     ]
    },
    {
     "name": "stderr",
     "output_type": "stream",
     "text": [
      "Best trial: 6. Best value: 0.785617:  23%|██████████████████████████████████████▎                                                                                                                             | 7/30 [07:34<24:30, 63.95s/it]"
     ]
    },
    {
     "name": "stdout",
     "output_type": "stream",
     "text": [
      "[I 2023-10-17 15:33:22,840] Trial 6 finished with value: 0.785616690675097 and parameters: {'n_estimators': 600, 'n_jobs': -1, 'random_state': 42, 'max_depth': 14, 'min_samples_split': 44, 'min_samples_leaf': 54, 'criterion': 'gini', 'max_features': 1.0}. Best is trial 6 with value: 0.785616690675097.\n"
     ]
    },
    {
     "name": "stderr",
     "output_type": "stream",
     "text": [
      "Best trial: 6. Best value: 0.785617:  27%|███████████████████████████████████████████▋                                                                                                                        | 8/30 [08:32<22:47, 62.18s/it]"
     ]
    },
    {
     "name": "stdout",
     "output_type": "stream",
     "text": [
      "[I 2023-10-17 15:34:21,227] Trial 7 finished with value: 0.7831967415318588 and parameters: {'n_estimators': 300, 'n_jobs': -1, 'random_state': 42, 'max_depth': 23, 'min_samples_split': 69, 'min_samples_leaf': 18, 'criterion': 'gini', 'max_features': 1.0}. Best is trial 6 with value: 0.785616690675097.\n"
     ]
    },
    {
     "name": "stderr",
     "output_type": "stream",
     "text": [
      "Best trial: 6. Best value: 0.785617:  30%|█████████████████████████████████████████████████▏                                                                                                                  | 9/30 [09:10<19:02, 54.42s/it]"
     ]
    },
    {
     "name": "stdout",
     "output_type": "stream",
     "text": [
      "[I 2023-10-17 15:34:58,582] Trial 8 finished with value: 0.7843594244343708 and parameters: {'n_estimators': 200, 'n_jobs': -1, 'random_state': 42, 'max_depth': 22, 'min_samples_split': 61, 'min_samples_leaf': 37, 'criterion': 'gini', 'max_features': 1.0}. Best is trial 6 with value: 0.785616690675097.\n"
     ]
    },
    {
     "name": "stderr",
     "output_type": "stream",
     "text": [
      "Best trial: 6. Best value: 0.785617:  33%|██████████████████████████████████████████████████████▎                                                                                                            | 10/30 [09:28<14:23, 43.17s/it]"
     ]
    },
    {
     "name": "stdout",
     "output_type": "stream",
     "text": [
      "[I 2023-10-17 15:35:16,576] Trial 9 finished with value: 0.7847708535914928 and parameters: {'n_estimators': 100, 'n_jobs': -1, 'random_state': 42, 'max_depth': 43, 'min_samples_split': 81, 'min_samples_leaf': 60, 'criterion': 'gini', 'max_features': 1.0}. Best is trial 6 with value: 0.785616690675097.\n"
     ]
    },
    {
     "name": "stderr",
     "output_type": "stream",
     "text": [
      "Best trial: 6. Best value: 0.785617:  37%|███████████████████████████████████████████████████████████▊                                                                                                       | 11/30 [10:18<14:20, 45.29s/it]"
     ]
    },
    {
     "name": "stdout",
     "output_type": "stream",
     "text": [
      "[I 2023-10-17 15:36:06,648] Trial 10 finished with value: 0.7822131341466472 and parameters: {'n_estimators': 600, 'n_jobs': -1, 'random_state': 42, 'max_depth': 6, 'min_samples_split': 132, 'min_samples_leaf': 56, 'criterion': 'gini', 'max_features': 1.0}. Best is trial 6 with value: 0.785616690675097.\n"
     ]
    },
    {
     "name": "stderr",
     "output_type": "stream",
     "text": [
      "Best trial: 11. Best value: 0.78566:  40%|█████████████████████████████████████████████████████████████████▏                                                                                                 | 12/30 [10:36<11:07, 37.06s/it]"
     ]
    },
    {
     "name": "stdout",
     "output_type": "stream",
     "text": [
      "[I 2023-10-17 15:36:24,889] Trial 11 finished with value: 0.7856603015316205 and parameters: {'n_estimators': 100, 'n_jobs': -1, 'random_state': 42, 'max_depth': 12, 'min_samples_split': 10, 'min_samples_leaf': 48, 'criterion': 'gini', 'max_features': 1.0}. Best is trial 11 with value: 0.7856603015316205.\n"
     ]
    },
    {
     "name": "stderr",
     "output_type": "stream",
     "text": [
      "Best trial: 11. Best value: 0.78566:  43%|██████████████████████████████████████████████████████████████████████▋                                                                                            | 13/30 [12:30<17:04, 60.29s/it]"
     ]
    },
    {
     "name": "stdout",
     "output_type": "stream",
     "text": [
      "[I 2023-10-17 15:38:18,630] Trial 12 finished with value: 0.7847282658759613 and parameters: {'n_estimators': 600, 'n_jobs': -1, 'random_state': 42, 'max_depth': 34, 'min_samples_split': 7, 'min_samples_leaf': 48, 'criterion': 'gini', 'max_features': 1.0}. Best is trial 11 with value: 0.7856603015316205.\n"
     ]
    },
    {
     "name": "stderr",
     "output_type": "stream",
     "text": [
      "Best trial: 11. Best value: 0.78566:  47%|████████████████████████████████████████████████████████████████████████████                                                                                       | 14/30 [13:04<13:57, 52.35s/it]"
     ]
    },
    {
     "name": "stdout",
     "output_type": "stream",
     "text": [
      "[I 2023-10-17 15:38:52,636] Trial 13 finished with value: 0.7853982297760211 and parameters: {'n_estimators': 200, 'n_jobs': -1, 'random_state': 42, 'max_depth': 12, 'min_samples_split': 25, 'min_samples_leaf': 2, 'criterion': 'gini', 'max_features': 1.0}. Best is trial 11 with value: 0.7856603015316205.\n"
     ]
    },
    {
     "name": "stderr",
     "output_type": "stream",
     "text": [
      "Best trial: 11. Best value: 0.78566:  50%|█████████████████████████████████████████████████████████████████████████████████▌                                                                                 | 15/30 [13:44<12:08, 48.57s/it]"
     ]
    },
    {
     "name": "stdout",
     "output_type": "stream",
     "text": [
      "[I 2023-10-17 15:39:32,458] Trial 14 finished with value: 0.7846678022656134 and parameters: {'n_estimators': 200, 'n_jobs': -1, 'random_state': 42, 'max_depth': 30, 'min_samples_split': 26, 'min_samples_leaf': 47, 'criterion': 'gini', 'max_features': 1.0}. Best is trial 11 with value: 0.7856603015316205.\n"
     ]
    },
    {
     "name": "stderr",
     "output_type": "stream",
     "text": [
      "Best trial: 15. Best value: 0.785717:  53%|██████████████████████████████████████████████████████████████████████████████████████▍                                                                           | 16/30 [15:02<13:25, 57.51s/it]"
     ]
    },
    {
     "name": "stdout",
     "output_type": "stream",
     "text": [
      "[I 2023-10-17 15:40:50,728] Trial 15 finished with value: 0.785717273334426 and parameters: {'n_estimators': 500, 'n_jobs': -1, 'random_state': 42, 'max_depth': 12, 'min_samples_split': 101, 'min_samples_leaf': 47, 'criterion': 'gini', 'max_features': 1.0}. Best is trial 15 with value: 0.785717273334426.\n"
     ]
    },
    {
     "name": "stderr",
     "output_type": "stream",
     "text": [
      "Best trial: 15. Best value: 0.785717:  57%|███████████████████████████████████████████████████████████████████████████████████████████▊                                                                      | 17/30 [16:00<12:29, 57.66s/it]"
     ]
    },
    {
     "name": "stdout",
     "output_type": "stream",
     "text": [
      "[I 2023-10-17 15:41:48,729] Trial 16 finished with value: 0.784529188541709 and parameters: {'n_estimators': 500, 'n_jobs': -1, 'random_state': 42, 'max_depth': 8, 'min_samples_split': 107, 'min_samples_leaf': 45, 'criterion': 'gini', 'max_features': 1.0}. Best is trial 15 with value: 0.785717273334426.\n"
     ]
    },
    {
     "name": "stderr",
     "output_type": "stream",
     "text": [
      "Best trial: 15. Best value: 0.785717:  60%|█████████████████████████████████████████████████████████████████████████████████████████████████▏                                                                | 18/30 [17:13<12:28, 62.35s/it]"
     ]
    },
    {
     "name": "stdout",
     "output_type": "stream",
     "text": [
      "[I 2023-10-17 15:43:02,011] Trial 17 finished with value: 0.7850017143072006 and parameters: {'n_estimators': 400, 'n_jobs': -1, 'random_state': 42, 'max_depth': 18, 'min_samples_split': 102, 'min_samples_leaf': 44, 'criterion': 'gini', 'max_features': 1.0}. Best is trial 15 with value: 0.785717273334426.\n"
     ]
    },
    {
     "name": "stderr",
     "output_type": "stream",
     "text": [
      "Best trial: 15. Best value: 0.785717:  63%|██████████████████████████████████████████████████████████████████████████████████████████████████████▌                                                           | 19/30 [18:11<11:10, 60.92s/it]"
     ]
    },
    {
     "name": "stdout",
     "output_type": "stream",
     "text": [
      "[I 2023-10-17 15:43:59,588] Trial 18 finished with value: 0.7848527712961231 and parameters: {'n_estimators': 300, 'n_jobs': -1, 'random_state': 42, 'max_depth': 29, 'min_samples_split': 147, 'min_samples_leaf': 41, 'criterion': 'gini', 'max_features': 1.0}. Best is trial 15 with value: 0.785717273334426.\n"
     ]
    },
    {
     "name": "stderr",
     "output_type": "stream",
     "text": [
      "Best trial: 15. Best value: 0.785717:  67%|████████████████████████████████████████████████████████████████████████████████████████████████████████████                                                      | 20/30 [18:27<07:53, 47.36s/it]"
     ]
    },
    {
     "name": "stdout",
     "output_type": "stream",
     "text": [
      "[I 2023-10-17 15:44:15,352] Trial 19 finished with value: 0.7855543691465776 and parameters: {'n_estimators': 100, 'n_jobs': -1, 'random_state': 42, 'max_depth': 10, 'min_samples_split': 102, 'min_samples_leaf': 26, 'criterion': 'gini', 'max_features': 1.0}. Best is trial 15 with value: 0.785717273334426.\n"
     ]
    },
    {
     "name": "stderr",
     "output_type": "stream",
     "text": [
      "Best trial: 15. Best value: 0.785717:  70%|█████████████████████████████████████████████████████████████████████████████████████████████████████████████████▍                                                | 21/30 [19:56<08:58, 59.85s/it]"
     ]
    },
    {
     "name": "stdout",
     "output_type": "stream",
     "text": [
      "[I 2023-10-17 15:45:44,319] Trial 20 finished with value: 0.7852595876303765 and parameters: {'n_estimators': 500, 'n_jobs': -1, 'random_state': 42, 'max_depth': 17, 'min_samples_split': 122, 'min_samples_leaf': 50, 'criterion': 'gini', 'max_features': 1.0}. Best is trial 15 with value: 0.785717273334426.\n"
     ]
    },
    {
     "name": "stderr",
     "output_type": "stream",
     "text": [
      "Best trial: 15. Best value: 0.785717:  73%|██████████████████████████████████████████████████████████████████████████████████████████████████████████████████████▊                                           | 22/30 [21:34<09:32, 71.52s/it]"
     ]
    },
    {
     "name": "stdout",
     "output_type": "stream",
     "text": [
      "[I 2023-10-17 15:47:23,064] Trial 21 finished with value: 0.7855928319861306 and parameters: {'n_estimators': 600, 'n_jobs': -1, 'random_state': 42, 'max_depth': 14, 'min_samples_split': 20, 'min_samples_leaf': 53, 'criterion': 'gini', 'max_features': 1.0}. Best is trial 15 with value: 0.785717273334426.\n"
     ]
    },
    {
     "name": "stderr",
     "output_type": "stream",
     "text": [
      "Best trial: 15. Best value: 0.785717:  77%|████████████████████████████████████████████████████████████████████████████████████████████████████████████████████████████▏                                     | 23/30 [23:17<09:25, 80.81s/it]"
     ]
    },
    {
     "name": "stdout",
     "output_type": "stream",
     "text": [
      "[I 2023-10-17 15:49:05,527] Trial 22 finished with value: 0.7850146822266214 and parameters: {'n_estimators': 600, 'n_jobs': -1, 'random_state': 42, 'max_depth': 24, 'min_samples_split': 39, 'min_samples_leaf': 59, 'criterion': 'gini', 'max_features': 1.0}. Best is trial 15 with value: 0.785717273334426.\n"
     ]
    },
    {
     "name": "stderr",
     "output_type": "stream",
     "text": [
      "Best trial: 15. Best value: 0.785717:  80%|█████████████████████████████████████████████████████████████████████████████████████████████████████████████████████████████████▌                                | 24/30 [24:17<07:28, 74.73s/it]"
     ]
    },
    {
     "name": "stdout",
     "output_type": "stream",
     "text": [
      "[I 2023-10-17 15:50:06,097] Trial 23 finished with value: 0.7854921218774176 and parameters: {'n_estimators': 500, 'n_jobs': -1, 'random_state': 42, 'max_depth': 10, 'min_samples_split': 88, 'min_samples_leaf': 40, 'criterion': 'gini', 'max_features': 1.0}. Best is trial 15 with value: 0.785717273334426.\n"
     ]
    },
    {
     "name": "stderr",
     "output_type": "stream",
     "text": [
      "Best trial: 15. Best value: 0.785717:  83%|███████████████████████████████████████████████████████████████████████████████████████████████████████████████████████████████████████                           | 25/30 [25:45<06:33, 78.74s/it]"
     ]
    },
    {
     "name": "stdout",
     "output_type": "stream",
     "text": [
      "[I 2023-10-17 15:51:34,190] Trial 24 finished with value: 0.7854691635300302 and parameters: {'n_estimators': 600, 'n_jobs': -1, 'random_state': 42, 'max_depth': 15, 'min_samples_split': 34, 'min_samples_leaf': 54, 'criterion': 'gini', 'max_features': 1.0}. Best is trial 15 with value: 0.785717273334426.\n"
     ]
    },
    {
     "name": "stderr",
     "output_type": "stream",
     "text": [
      "Best trial: 15. Best value: 0.785717:  87%|████████████████████████████████████████████████████████████████████████████████████████████████████████████████████████████████████████████▍                     | 26/30 [26:08<04:07, 61.82s/it]"
     ]
    },
    {
     "name": "stdout",
     "output_type": "stream",
     "text": [
      "[I 2023-10-17 15:51:56,540] Trial 25 finished with value: 0.7774706538564815 and parameters: {'n_estimators': 400, 'n_jobs': -1, 'random_state': 42, 'max_depth': 4, 'min_samples_split': 14, 'min_samples_leaf': 53, 'criterion': 'gini', 'max_features': 1.0}. Best is trial 15 with value: 0.785717273334426.\n"
     ]
    },
    {
     "name": "stderr",
     "output_type": "stream",
     "text": [
      "Best trial: 15. Best value: 0.785717:  90%|█████████████████████████████████████████████████████████████████████████████████████████████████████████████████████████████████████████████████▊                | 27/30 [27:32<03:25, 68.51s/it]"
     ]
    },
    {
     "name": "stdout",
     "output_type": "stream",
     "text": [
      "[I 2023-10-17 15:53:20,649] Trial 26 finished with value: 0.7844544115082686 and parameters: {'n_estimators': 500, 'n_jobs': -1, 'random_state': 42, 'max_depth': 20, 'min_samples_split': 120, 'min_samples_leaf': 10, 'criterion': 'gini', 'max_features': 1.0}. Best is trial 15 with value: 0.785717273334426.\n"
     ]
    },
    {
     "name": "stderr",
     "output_type": "stream",
     "text": [
      "Best trial: 15. Best value: 0.785717:  93%|███████████████████████████████████████████████████████████████████████████████████████████████████████████████████████████████████████████████████████▏          | 28/30 [29:05<02:31, 75.92s/it]"
     ]
    },
    {
     "name": "stdout",
     "output_type": "stream",
     "text": [
      "[I 2023-10-17 15:54:53,846] Trial 27 finished with value: 0.7845802907578572 and parameters: {'n_estimators': 600, 'n_jobs': -1, 'random_state': 42, 'max_depth': 26, 'min_samples_split': 50, 'min_samples_leaf': 42, 'criterion': 'gini', 'max_features': 1.0}. Best is trial 15 with value: 0.785717273334426.\n"
     ]
    },
    {
     "name": "stderr",
     "output_type": "stream",
     "text": [
      "Best trial: 15. Best value: 0.785717:  97%|████████████████████████████████████████████████████████████████████████████████████████████████████████████████████████████████████████████████████████████▌     | 29/30 [29:26<00:59, 59.32s/it]"
     ]
    },
    {
     "name": "stdout",
     "output_type": "stream",
     "text": [
      "[I 2023-10-17 15:55:14,451] Trial 28 finished with value: 0.7845210716755463 and parameters: {'n_estimators': 200, 'n_jobs': -1, 'random_state': 42, 'max_depth': 8, 'min_samples_split': 92, 'min_samples_leaf': 51, 'criterion': 'gini', 'max_features': 1.0}. Best is trial 15 with value: 0.785717273334426.\n"
     ]
    },
    {
     "name": "stderr",
     "output_type": "stream",
     "text": [
      "Best trial: 15. Best value: 0.785717: 100%|██████████████████████████████████████████████████████████████████████████████████████████████████████████████████████████████████████████████████████████████████| 30/30 [30:47<00:00, 61.58s/it]"
     ]
    },
    {
     "name": "stdout",
     "output_type": "stream",
     "text": [
      "[I 2023-10-17 15:56:35,584] Trial 29 finished with value: 0.7841462613035993 and parameters: {'n_estimators': 500, 'n_jobs': -1, 'random_state': 42, 'max_depth': 20, 'min_samples_split': 67, 'min_samples_leaf': 28, 'criterion': 'gini', 'max_features': 1.0}. Best is trial 15 with value: 0.785717273334426.\n"
     ]
    },
    {
     "name": "stderr",
     "output_type": "stream",
     "text": [
      "\n"
     ]
    }
   ],
   "source": [
    "from sklearn.model_selection import cross_val_score\n",
    "\n",
    "def objective(trial):\n",
    "    params = {\n",
    "        'n_estimators': trial.suggest_int('n_estimators', 100, 600, 100),\n",
    "        'n_jobs': trial.suggest_categorical('n_jobs', [-1]),\n",
    "        'random_state': trial.suggest_categorical('random_state', [SEED]),\n",
    "        'max_depth': trial.suggest_int('max_depth', 4, 50),\n",
    "        'min_samples_split': trial.suggest_int('min_samples_split', 2, 150),\n",
    "        'min_samples_leaf': trial.suggest_int('min_samples_leaf', 1, 60),\n",
    "        'criterion': trial.suggest_categorical(\"criterion\", [\"gini\"]),\n",
    "        'max_features': trial.suggest_categorical('max_features', [1.0]),\n",
    "    }\n",
    "\n",
    "    pipeline = make_pipeline(partial_pipeline, ExtraTreesClassifier(**params))\n",
    "    scores = cross_val_score(pipeline, X, y, cv=SPLITS, scoring='roc_auc', n_jobs=-1)\n",
    "    return scores.mean()\n",
    "\n",
    "study = optuna.create_study(direction='maximize')\n",
    "study.optimize(objective, n_trials=30, show_progress_bar=True)"
   ]
  },
  {
   "cell_type": "code",
   "execution_count": 7,
   "id": "c74d8a21",
   "metadata": {},
   "outputs": [
    {
     "data": {
      "text/plain": [
       "({'n_estimators': 500,\n",
       "  'n_jobs': -1,\n",
       "  'random_state': 42,\n",
       "  'max_depth': 12,\n",
       "  'min_samples_split': 101,\n",
       "  'min_samples_leaf': 47,\n",
       "  'criterion': 'gini',\n",
       "  'max_features': 1.0},\n",
       " 0.785717273334426)"
      ]
     },
     "execution_count": 7,
     "metadata": {},
     "output_type": "execute_result"
    }
   ],
   "source": [
    "study.best_params, study.best_value"
   ]
  },
  {
   "cell_type": "code",
   "execution_count": 8,
   "id": "640bc848",
   "metadata": {},
   "outputs": [
    {
     "data": {
      "text/html": [
       "<style>#sk-container-id-1 {color: black;}#sk-container-id-1 pre{padding: 0;}#sk-container-id-1 div.sk-toggleable {background-color: white;}#sk-container-id-1 label.sk-toggleable__label {cursor: pointer;display: block;width: 100%;margin-bottom: 0;padding: 0.3em;box-sizing: border-box;text-align: center;}#sk-container-id-1 label.sk-toggleable__label-arrow:before {content: \"▸\";float: left;margin-right: 0.25em;color: #696969;}#sk-container-id-1 label.sk-toggleable__label-arrow:hover:before {color: black;}#sk-container-id-1 div.sk-estimator:hover label.sk-toggleable__label-arrow:before {color: black;}#sk-container-id-1 div.sk-toggleable__content {max-height: 0;max-width: 0;overflow: hidden;text-align: left;background-color: #f0f8ff;}#sk-container-id-1 div.sk-toggleable__content pre {margin: 0.2em;color: black;border-radius: 0.25em;background-color: #f0f8ff;}#sk-container-id-1 input.sk-toggleable__control:checked~div.sk-toggleable__content {max-height: 200px;max-width: 100%;overflow: auto;}#sk-container-id-1 input.sk-toggleable__control:checked~label.sk-toggleable__label-arrow:before {content: \"▾\";}#sk-container-id-1 div.sk-estimator input.sk-toggleable__control:checked~label.sk-toggleable__label {background-color: #d4ebff;}#sk-container-id-1 div.sk-label input.sk-toggleable__control:checked~label.sk-toggleable__label {background-color: #d4ebff;}#sk-container-id-1 input.sk-hidden--visually {border: 0;clip: rect(1px 1px 1px 1px);clip: rect(1px, 1px, 1px, 1px);height: 1px;margin: -1px;overflow: hidden;padding: 0;position: absolute;width: 1px;}#sk-container-id-1 div.sk-estimator {font-family: monospace;background-color: #f0f8ff;border: 1px dotted black;border-radius: 0.25em;box-sizing: border-box;margin-bottom: 0.5em;}#sk-container-id-1 div.sk-estimator:hover {background-color: #d4ebff;}#sk-container-id-1 div.sk-parallel-item::after {content: \"\";width: 100%;border-bottom: 1px solid gray;flex-grow: 1;}#sk-container-id-1 div.sk-label:hover label.sk-toggleable__label {background-color: #d4ebff;}#sk-container-id-1 div.sk-serial::before {content: \"\";position: absolute;border-left: 1px solid gray;box-sizing: border-box;top: 0;bottom: 0;left: 50%;z-index: 0;}#sk-container-id-1 div.sk-serial {display: flex;flex-direction: column;align-items: center;background-color: white;padding-right: 0.2em;padding-left: 0.2em;position: relative;}#sk-container-id-1 div.sk-item {position: relative;z-index: 1;}#sk-container-id-1 div.sk-parallel {display: flex;align-items: stretch;justify-content: center;background-color: white;position: relative;}#sk-container-id-1 div.sk-item::before, #sk-container-id-1 div.sk-parallel-item::before {content: \"\";position: absolute;border-left: 1px solid gray;box-sizing: border-box;top: 0;bottom: 0;left: 50%;z-index: -1;}#sk-container-id-1 div.sk-parallel-item {display: flex;flex-direction: column;z-index: 1;position: relative;background-color: white;}#sk-container-id-1 div.sk-parallel-item:first-child::after {align-self: flex-end;width: 50%;}#sk-container-id-1 div.sk-parallel-item:last-child::after {align-self: flex-start;width: 50%;}#sk-container-id-1 div.sk-parallel-item:only-child::after {width: 0;}#sk-container-id-1 div.sk-dashed-wrapped {border: 1px dashed gray;margin: 0 0.4em 0.5em 0.4em;box-sizing: border-box;padding-bottom: 0.4em;background-color: white;}#sk-container-id-1 div.sk-label label {font-family: monospace;font-weight: bold;display: inline-block;line-height: 1.2em;}#sk-container-id-1 div.sk-label-container {text-align: center;}#sk-container-id-1 div.sk-container {/* jupyter's `normalize.less` sets `[hidden] { display: none; }` but bootstrap.min.css set `[hidden] { display: none !important; }` so we also need the `!important` here to be able to override the default hidden behavior on the sphinx rendered scikit-learn.org. See: https://github.com/scikit-learn/scikit-learn/issues/21755 */display: inline-block !important;position: relative;}#sk-container-id-1 div.sk-text-repr-fallback {display: none;}</style><div id=\"sk-container-id-1\" class=\"sk-top-container\"><div class=\"sk-text-repr-fallback\"><pre>Pipeline(steps=[(&#x27;pipeline&#x27;,\n",
       "                 Pipeline(steps=[(&#x27;columntransformer&#x27;,\n",
       "                                  ColumnTransformer(remainder=&#x27;passthrough&#x27;,\n",
       "                                                    transformers=[(&#x27;drop&#x27;,\n",
       "                                                                   &#x27;drop&#x27;,\n",
       "                                                                   [&#x27;iv(g)&#x27;,\n",
       "                                                                    &#x27;t&#x27;, &#x27;b&#x27;,\n",
       "                                                                    &#x27;n&#x27;,\n",
       "                                                                    &#x27;lOCode&#x27;,\n",
       "                                                                    &#x27;v&#x27;,\n",
       "                                                                    &#x27;branchCount&#x27;,\n",
       "                                                                    &#x27;e&#x27;, &#x27;i&#x27;,\n",
       "                                                                    &#x27;lOComment&#x27;])])),\n",
       "                                 (&#x27;simpleimputer&#x27;, SimpleImputer()),\n",
       "                                 (&#x27;functiontransformer&#x27;,\n",
       "                                  FunctionTransformer(func=&lt;ufunc &#x27;log1p&#x27;&gt;)),\n",
       "                                 (&#x27;powertransformer&#x27;, PowerTransformer())])),\n",
       "                (&#x27;extratreesclassifier&#x27;,\n",
       "                 ExtraTreesClassifier(max_depth=12, max_features=1.0,\n",
       "                                      min_samples_leaf=47,\n",
       "                                      min_samples_split=101, n_estimators=500,\n",
       "                                      n_jobs=-1, random_state=42))])</pre><b>In a Jupyter environment, please rerun this cell to show the HTML representation or trust the notebook. <br />On GitHub, the HTML representation is unable to render, please try loading this page with nbviewer.org.</b></div><div class=\"sk-container\" hidden><div class=\"sk-item sk-dashed-wrapped\"><div class=\"sk-label-container\"><div class=\"sk-label sk-toggleable\"><input class=\"sk-toggleable__control sk-hidden--visually\" id=\"sk-estimator-id-1\" type=\"checkbox\" ><label for=\"sk-estimator-id-1\" class=\"sk-toggleable__label sk-toggleable__label-arrow\">Pipeline</label><div class=\"sk-toggleable__content\"><pre>Pipeline(steps=[(&#x27;pipeline&#x27;,\n",
       "                 Pipeline(steps=[(&#x27;columntransformer&#x27;,\n",
       "                                  ColumnTransformer(remainder=&#x27;passthrough&#x27;,\n",
       "                                                    transformers=[(&#x27;drop&#x27;,\n",
       "                                                                   &#x27;drop&#x27;,\n",
       "                                                                   [&#x27;iv(g)&#x27;,\n",
       "                                                                    &#x27;t&#x27;, &#x27;b&#x27;,\n",
       "                                                                    &#x27;n&#x27;,\n",
       "                                                                    &#x27;lOCode&#x27;,\n",
       "                                                                    &#x27;v&#x27;,\n",
       "                                                                    &#x27;branchCount&#x27;,\n",
       "                                                                    &#x27;e&#x27;, &#x27;i&#x27;,\n",
       "                                                                    &#x27;lOComment&#x27;])])),\n",
       "                                 (&#x27;simpleimputer&#x27;, SimpleImputer()),\n",
       "                                 (&#x27;functiontransformer&#x27;,\n",
       "                                  FunctionTransformer(func=&lt;ufunc &#x27;log1p&#x27;&gt;)),\n",
       "                                 (&#x27;powertransformer&#x27;, PowerTransformer())])),\n",
       "                (&#x27;extratreesclassifier&#x27;,\n",
       "                 ExtraTreesClassifier(max_depth=12, max_features=1.0,\n",
       "                                      min_samples_leaf=47,\n",
       "                                      min_samples_split=101, n_estimators=500,\n",
       "                                      n_jobs=-1, random_state=42))])</pre></div></div></div><div class=\"sk-serial\"><div class=\"sk-item\"><div class=\"sk-label-container\"><div class=\"sk-label sk-toggleable\"><input class=\"sk-toggleable__control sk-hidden--visually\" id=\"sk-estimator-id-2\" type=\"checkbox\" ><label for=\"sk-estimator-id-2\" class=\"sk-toggleable__label sk-toggleable__label-arrow\">pipeline: Pipeline</label><div class=\"sk-toggleable__content\"><pre>Pipeline(steps=[(&#x27;columntransformer&#x27;,\n",
       "                 ColumnTransformer(remainder=&#x27;passthrough&#x27;,\n",
       "                                   transformers=[(&#x27;drop&#x27;, &#x27;drop&#x27;,\n",
       "                                                  [&#x27;iv(g)&#x27;, &#x27;t&#x27;, &#x27;b&#x27;, &#x27;n&#x27;,\n",
       "                                                   &#x27;lOCode&#x27;, &#x27;v&#x27;, &#x27;branchCount&#x27;,\n",
       "                                                   &#x27;e&#x27;, &#x27;i&#x27;, &#x27;lOComment&#x27;])])),\n",
       "                (&#x27;simpleimputer&#x27;, SimpleImputer()),\n",
       "                (&#x27;functiontransformer&#x27;,\n",
       "                 FunctionTransformer(func=&lt;ufunc &#x27;log1p&#x27;&gt;)),\n",
       "                (&#x27;powertransformer&#x27;, PowerTransformer())])</pre></div></div></div><div class=\"sk-serial\"><div class=\"sk-item sk-dashed-wrapped\"><div class=\"sk-label-container\"><div class=\"sk-label sk-toggleable\"><input class=\"sk-toggleable__control sk-hidden--visually\" id=\"sk-estimator-id-3\" type=\"checkbox\" ><label for=\"sk-estimator-id-3\" class=\"sk-toggleable__label sk-toggleable__label-arrow\">columntransformer: ColumnTransformer</label><div class=\"sk-toggleable__content\"><pre>ColumnTransformer(remainder=&#x27;passthrough&#x27;,\n",
       "                  transformers=[(&#x27;drop&#x27;, &#x27;drop&#x27;,\n",
       "                                 [&#x27;iv(g)&#x27;, &#x27;t&#x27;, &#x27;b&#x27;, &#x27;n&#x27;, &#x27;lOCode&#x27;, &#x27;v&#x27;,\n",
       "                                  &#x27;branchCount&#x27;, &#x27;e&#x27;, &#x27;i&#x27;, &#x27;lOComment&#x27;])])</pre></div></div></div><div class=\"sk-parallel\"><div class=\"sk-parallel-item\"><div class=\"sk-item\"><div class=\"sk-label-container\"><div class=\"sk-label sk-toggleable\"><input class=\"sk-toggleable__control sk-hidden--visually\" id=\"sk-estimator-id-4\" type=\"checkbox\" ><label for=\"sk-estimator-id-4\" class=\"sk-toggleable__label sk-toggleable__label-arrow\">drop</label><div class=\"sk-toggleable__content\"><pre>[&#x27;iv(g)&#x27;, &#x27;t&#x27;, &#x27;b&#x27;, &#x27;n&#x27;, &#x27;lOCode&#x27;, &#x27;v&#x27;, &#x27;branchCount&#x27;, &#x27;e&#x27;, &#x27;i&#x27;, &#x27;lOComment&#x27;]</pre></div></div></div><div class=\"sk-serial\"><div class=\"sk-item\"><div class=\"sk-estimator sk-toggleable\"><input class=\"sk-toggleable__control sk-hidden--visually\" id=\"sk-estimator-id-5\" type=\"checkbox\" ><label for=\"sk-estimator-id-5\" class=\"sk-toggleable__label sk-toggleable__label-arrow\">drop</label><div class=\"sk-toggleable__content\"><pre>drop</pre></div></div></div></div></div></div><div class=\"sk-parallel-item\"><div class=\"sk-item\"><div class=\"sk-label-container\"><div class=\"sk-label sk-toggleable\"><input class=\"sk-toggleable__control sk-hidden--visually\" id=\"sk-estimator-id-6\" type=\"checkbox\" ><label for=\"sk-estimator-id-6\" class=\"sk-toggleable__label sk-toggleable__label-arrow\">remainder</label><div class=\"sk-toggleable__content\"><pre>[&#x27;loc&#x27;, &#x27;v(g)&#x27;, &#x27;ev(g)&#x27;, &#x27;l&#x27;, &#x27;d&#x27;, &#x27;lOBlank&#x27;, &#x27;locCodeAndComment&#x27;, &#x27;uniq_Op&#x27;, &#x27;uniq_Opnd&#x27;, &#x27;total_Op&#x27;, &#x27;total_Opnd&#x27;]</pre></div></div></div><div class=\"sk-serial\"><div class=\"sk-item\"><div class=\"sk-estimator sk-toggleable\"><input class=\"sk-toggleable__control sk-hidden--visually\" id=\"sk-estimator-id-7\" type=\"checkbox\" ><label for=\"sk-estimator-id-7\" class=\"sk-toggleable__label sk-toggleable__label-arrow\">passthrough</label><div class=\"sk-toggleable__content\"><pre>passthrough</pre></div></div></div></div></div></div></div></div><div class=\"sk-item\"><div class=\"sk-estimator sk-toggleable\"><input class=\"sk-toggleable__control sk-hidden--visually\" id=\"sk-estimator-id-8\" type=\"checkbox\" ><label for=\"sk-estimator-id-8\" class=\"sk-toggleable__label sk-toggleable__label-arrow\">SimpleImputer</label><div class=\"sk-toggleable__content\"><pre>SimpleImputer()</pre></div></div></div><div class=\"sk-item\"><div class=\"sk-estimator sk-toggleable\"><input class=\"sk-toggleable__control sk-hidden--visually\" id=\"sk-estimator-id-9\" type=\"checkbox\" ><label for=\"sk-estimator-id-9\" class=\"sk-toggleable__label sk-toggleable__label-arrow\">FunctionTransformer</label><div class=\"sk-toggleable__content\"><pre>FunctionTransformer(func=&lt;ufunc &#x27;log1p&#x27;&gt;)</pre></div></div></div><div class=\"sk-item\"><div class=\"sk-estimator sk-toggleable\"><input class=\"sk-toggleable__control sk-hidden--visually\" id=\"sk-estimator-id-10\" type=\"checkbox\" ><label for=\"sk-estimator-id-10\" class=\"sk-toggleable__label sk-toggleable__label-arrow\">PowerTransformer</label><div class=\"sk-toggleable__content\"><pre>PowerTransformer()</pre></div></div></div></div></div><div class=\"sk-item\"><div class=\"sk-estimator sk-toggleable\"><input class=\"sk-toggleable__control sk-hidden--visually\" id=\"sk-estimator-id-11\" type=\"checkbox\" ><label for=\"sk-estimator-id-11\" class=\"sk-toggleable__label sk-toggleable__label-arrow\">ExtraTreesClassifier</label><div class=\"sk-toggleable__content\"><pre>ExtraTreesClassifier(max_depth=12, max_features=1.0, min_samples_leaf=47,\n",
       "                     min_samples_split=101, n_estimators=500, n_jobs=-1,\n",
       "                     random_state=42)</pre></div></div></div></div></div></div></div>"
      ],
      "text/plain": [
       "Pipeline(steps=[('pipeline',\n",
       "                 Pipeline(steps=[('columntransformer',\n",
       "                                  ColumnTransformer(remainder='passthrough',\n",
       "                                                    transformers=[('drop',\n",
       "                                                                   'drop',\n",
       "                                                                   ['iv(g)',\n",
       "                                                                    't', 'b',\n",
       "                                                                    'n',\n",
       "                                                                    'lOCode',\n",
       "                                                                    'v',\n",
       "                                                                    'branchCount',\n",
       "                                                                    'e', 'i',\n",
       "                                                                    'lOComment'])])),\n",
       "                                 ('simpleimputer', SimpleImputer()),\n",
       "                                 ('functiontransformer',\n",
       "                                  FunctionTransformer(func=<ufunc 'log1p'>)),\n",
       "                                 ('powertransformer', PowerTransformer())])),\n",
       "                ('extratreesclassifier',\n",
       "                 ExtraTreesClassifier(max_depth=12, max_features=1.0,\n",
       "                                      min_samples_leaf=47,\n",
       "                                      min_samples_split=101, n_estimators=500,\n",
       "                                      n_jobs=-1, random_state=42))])"
      ]
     },
     "execution_count": 8,
     "metadata": {},
     "output_type": "execute_result"
    }
   ],
   "source": [
    "pipeline = make_pipeline(partial_pipeline, ExtraTreesClassifier(**study.best_params))\n",
    "pipeline.fit(X, y)"
   ]
  },
  {
   "cell_type": "code",
   "execution_count": 9,
   "id": "0c55d877",
   "metadata": {},
   "outputs": [],
   "source": [
    "submission = test.copy()\n",
    "submission['defects'] = pipeline.predict_proba(submission)[:, 1]\n",
    "submission.defects.to_csv(OUTPUT)"
   ]
  },
  {
   "cell_type": "code",
   "execution_count": null,
   "id": "f84ab716",
   "metadata": {},
   "outputs": [],
   "source": []
  }
 ],
 "metadata": {
  "kernelspec": {
   "display_name": "Python 3 (ipykernel)",
   "language": "python",
   "name": "python3"
  },
  "language_info": {
   "codemirror_mode": {
    "name": "ipython",
    "version": 3
   },
   "file_extension": ".py",
   "mimetype": "text/x-python",
   "name": "python",
   "nbconvert_exporter": "python",
   "pygments_lexer": "ipython3",
   "version": "3.11.6"
  }
 },
 "nbformat": 4,
 "nbformat_minor": 5
}
