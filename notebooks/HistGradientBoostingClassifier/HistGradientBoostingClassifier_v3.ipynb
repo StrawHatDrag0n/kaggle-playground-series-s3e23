{
 "cells": [
  {
   "cell_type": "code",
   "execution_count": 1,
   "id": "780654ec-d9db-485f-8b7f-4370dfbf38a3",
   "metadata": {},
   "outputs": [
    {
     "name": "stderr",
     "output_type": "stream",
     "text": [
      "/home/strawhatdragon100/miniconda3/envs/kaggle/lib/python3.11/site-packages/tqdm/auto.py:21: TqdmWarning: IProgress not found. Please update jupyter and ipywidgets. See https://ipywidgets.readthedocs.io/en/stable/user_install.html\n",
      "  from .autonotebook import tqdm as notebook_tqdm\n"
     ]
    },
    {
     "name": "stdout",
     "output_type": "stream",
     "text": [
      "Warning: Your Kaggle API key is readable by other users on this system! To fix this, you can run 'chmod 600 /home/strawhatdragon100/.kaggle/kaggle.json'\n"
     ]
    }
   ],
   "source": [
    "import optuna\n",
    "import os\n",
    "from pathlib import Path\n",
    "import kaggle\n",
    "import pandas as pd\n",
    "import numpy as np\n",
    "from sklearn.preprocessing import FunctionTransformer, PowerTransformer, StandardScaler\n",
    "from sklearn.compose import ColumnTransformer\n",
    "from sklearn.pipeline import make_pipeline\n",
    "from sklearn.impute import SimpleImputer\n",
    "from sklearn.model_selection import StratifiedKFold\n",
    "from sklearn.model_selection import cross_val_score\n",
    "from sklearn.ensemble import HistGradientBoostingClassifier\n",
    "\n",
    "\n",
    "pd.set_option('display.max_columns', None)\n",
    "pd.set_option('display.max_colwidth', None)\n",
    "\n",
    "iskaggle = os.environ.get('KAGGLE_KERNEL_RUN_TYPE', '')\n",
    "if iskaggle:\n",
    "    path = Path('../input/playground-series-s3e23')\n",
    "    orig_path = Path('../input/software-defect-prediction')\n",
    "else:\n",
    "    path = Path('../input/playground-series-s3e23')\n",
    "    orig_path = Path('../input/software-defect-prediction')\n",
    "    if not path.exists():\n",
    "        kaggle.api.competition_download_cli(str(path))\n",
    "        zipfile.ZipFile(f'{path}.zip').extractall(path)\n",
    "    if not orig_path.exists():\n",
    "        kaggle.api.competition_download_cli(str(path))\n",
    "        zipfile.ZipFile(f'{path}.zip').extractall(path)\n",
    "\n",
    "SEED = 42\n",
    "SPLITS = 5\n",
    "VERSION = 3\n",
    "OUTPUT = f'hist_grad_boost_clf_submisson_v{VERSION}.csv'\n",
    "N_TRIALS = 30\n",
    "\n",
    "np.random.seed(SEED)"
   ]
  },
  {
   "cell_type": "code",
   "execution_count": 2,
   "id": "8f657fd1-ef09-487f-a58d-b22081132e65",
   "metadata": {},
   "outputs": [],
   "source": [
    "train = pd.read_csv(path/'train.csv', index_col = 'id')\n",
    "test = pd.read_csv(path/'test.csv', index_col = 'id')\n",
    "orig_train = pd.read_csv(orig_path/'jm1.csv')"
   ]
  },
  {
   "cell_type": "code",
   "execution_count": 3,
   "id": "46824c8c-7eb2-4fc8-bba0-0f235eaff752",
   "metadata": {},
   "outputs": [],
   "source": [
    "for object_features in list(orig_train.loc[:, orig_train.dtypes == 'O']):\n",
    "    orig_train[object_features] = orig_train[object_features].replace({'?' : np.nan}).astype('float64')"
   ]
  },
  {
   "cell_type": "code",
   "execution_count": 4,
   "id": "0714d734-86ab-49c3-b68e-6a689884f051",
   "metadata": {},
   "outputs": [],
   "source": [
    "X = pd.concat([train, orig_train])\n",
    "y = X.pop('defects')"
   ]
  },
  {
   "cell_type": "code",
   "execution_count": 5,
   "id": "76b1a1f9-4b43-4aba-b799-bb1768bcbad3",
   "metadata": {},
   "outputs": [],
   "source": [
    "partial_pipeline = make_pipeline(ColumnTransformer([('drop', 'drop',\n",
    "                                  ['iv(g)', 't', 'b', 'n',\n",
    "                                   'lOCode', 'v', 'branchCount',\n",
    "                                   'e', 'i', 'lOComment'])],\n",
    "                                remainder='passthrough'), SimpleImputer(), FunctionTransformer(func=np.log1p, validate=False), PowerTransformer())"
   ]
  },
  {
   "cell_type": "code",
   "execution_count": 6,
   "id": "8ba2e066-0c7f-451f-aa9e-159515d83ac4",
   "metadata": {},
   "outputs": [
    {
     "name": "stderr",
     "output_type": "stream",
     "text": [
      "[I 2023-10-16 14:08:38,850] A new study created in memory with name: no-name-ac063050-4fee-4d61-8104-c94df3e0a139\n",
      "Best trial: 0. Best value: 0.783083:   3%|█████▍                                                                                                                                                              | 1/30 [00:14<07:13, 14.96s/it]"
     ]
    },
    {
     "name": "stdout",
     "output_type": "stream",
     "text": [
      "[I 2023-10-16 14:08:53,811] Trial 0 finished with value: 0.7830826929961583 and parameters: {'random_state': 42, 'learning_rate': 0.016147244964703066, 'l2_regularization': 31, 'max_iter': 579, 'max_leaf_nodes': 265, 'min_samples_leaf': 33, 'max_bins': 113, 'class_weight': None}. Best is trial 0 with value: 0.7830826929961583.\n"
     ]
    },
    {
     "name": "stderr",
     "output_type": "stream",
     "text": [
      "Best trial: 0. Best value: 0.783083:   7%|██████████▉                                                                                                                                                         | 2/30 [00:20<04:27,  9.57s/it]"
     ]
    },
    {
     "name": "stdout",
     "output_type": "stream",
     "text": [
      "[I 2023-10-16 14:08:59,600] Trial 1 finished with value: 0.7822329003357007 and parameters: {'random_state': 42, 'learning_rate': 0.04281011805863016, 'l2_regularization': 4, 'max_iter': 6086, 'max_leaf_nodes': 480, 'min_samples_leaf': 258, 'max_bins': 41, 'class_weight': 'balanced'}. Best is trial 0 with value: 0.7830826929961583.\n"
     ]
    },
    {
     "name": "stderr",
     "output_type": "stream",
     "text": [
      "Best trial: 2. Best value: 0.783769:  10%|████████████████▍                                                                                                                                                   | 3/30 [00:25<03:14,  7.19s/it]"
     ]
    },
    {
     "name": "stdout",
     "output_type": "stream",
     "text": [
      "[I 2023-10-16 14:09:03,973] Trial 2 finished with value: 0.7837687555006392 and parameters: {'random_state': 42, 'learning_rate': 0.08197306963613438, 'l2_regularization': 76, 'max_iter': 4263, 'max_leaf_nodes': 166, 'min_samples_leaf': 107, 'max_bins': 36, 'class_weight': None}. Best is trial 2 with value: 0.7837687555006392.\n"
     ]
    },
    {
     "name": "stderr",
     "output_type": "stream",
     "text": [
      "Best trial: 3. Best value: 0.784208:  13%|█████████████████████▊                                                                                                                                              | 4/30 [00:35<03:36,  8.34s/it]"
     ]
    },
    {
     "name": "stdout",
     "output_type": "stream",
     "text": [
      "[I 2023-10-16 14:09:14,057] Trial 3 finished with value: 0.7842075849261605 and parameters: {'random_state': 42, 'learning_rate': 0.02025925609005974, 'l2_regularization': 59, 'max_iter': 317, 'max_leaf_nodes': 444, 'min_samples_leaf': 215, 'max_bins': 194, 'class_weight': 'balanced'}. Best is trial 3 with value: 0.7842075849261605.\n"
     ]
    },
    {
     "name": "stderr",
     "output_type": "stream",
     "text": [
      "Best trial: 3. Best value: 0.784208:  17%|███████████████████████████▎                                                                                                                                        | 5/30 [00:51<04:43, 11.34s/it]"
     ]
    },
    {
     "name": "stdout",
     "output_type": "stream",
     "text": [
      "[I 2023-10-16 14:09:30,724] Trial 4 finished with value: 0.7837589547486015 and parameters: {'random_state': 42, 'learning_rate': 0.0146572553146341, 'l2_regularization': 60, 'max_iter': 2008, 'max_leaf_nodes': 342, 'min_samples_leaf': 125, 'max_bins': 129, 'class_weight': 'balanced'}. Best is trial 3 with value: 0.7842075849261605.\n"
     ]
    },
    {
     "name": "stderr",
     "output_type": "stream",
     "text": [
      "Best trial: 5. Best value: 0.784939:  20%|████████████████████████████████▊                                                                                                                                   | 6/30 [00:58<03:57,  9.90s/it]"
     ]
    },
    {
     "name": "stdout",
     "output_type": "stream",
     "text": [
      "[I 2023-10-16 14:09:37,820] Trial 5 finished with value: 0.7849387035165919 and parameters: {'random_state': 42, 'learning_rate': 0.030199814616538284, 'l2_regularization': 70, 'max_iter': 8054, 'max_leaf_nodes': 79, 'min_samples_leaf': 283, 'max_bins': 222, 'class_weight': 'balanced'}. Best is trial 5 with value: 0.7849387035165919.\n"
     ]
    },
    {
     "name": "stderr",
     "output_type": "stream",
     "text": [
      "Best trial: 6. Best value: 0.785178:  23%|██████████████████████████████████████▎                                                                                                                             | 7/30 [01:03<03:10,  8.27s/it]"
     ]
    },
    {
     "name": "stdout",
     "output_type": "stream",
     "text": [
      "[I 2023-10-16 14:09:42,733] Trial 6 finished with value: 0.7851780332053174 and parameters: {'random_state': 42, 'learning_rate': 0.04344774328263869, 'l2_regularization': 49, 'max_iter': 5363, 'max_leaf_nodes': 58, 'min_samples_leaf': 100, 'max_bins': 124, 'class_weight': 'balanced'}. Best is trial 6 with value: 0.7851780332053174.\n"
     ]
    },
    {
     "name": "stderr",
     "output_type": "stream",
     "text": [
      "Best trial: 6. Best value: 0.785178:  27%|███████████████████████████████████████████▋                                                                                                                        | 8/30 [01:12<03:06,  8.49s/it]"
     ]
    },
    {
     "name": "stdout",
     "output_type": "stream",
     "text": [
      "[I 2023-10-16 14:09:51,705] Trial 7 finished with value: 0.782910782034221 and parameters: {'random_state': 42, 'learning_rate': 0.02467850238690697, 'l2_regularization': 9, 'max_iter': 228, 'max_leaf_nodes': 168, 'min_samples_leaf': 213, 'max_bins': 209, 'class_weight': 'balanced'}. Best is trial 6 with value: 0.7851780332053174.\n"
     ]
    },
    {
     "name": "stderr",
     "output_type": "stream",
     "text": [
      "Best trial: 6. Best value: 0.785178:  30%|█████████████████████████████████████████████████▏                                                                                                                  | 9/30 [01:23<03:10,  9.05s/it]"
     ]
    },
    {
     "name": "stdout",
     "output_type": "stream",
     "text": [
      "[I 2023-10-16 14:10:01,989] Trial 8 finished with value: 0.7848138599206038 and parameters: {'random_state': 42, 'learning_rate': 0.02173527560411739, 'l2_regularization': 89, 'max_iter': 4286, 'max_leaf_nodes': 86, 'min_samples_leaf': 85, 'max_bins': 176, 'class_weight': None}. Best is trial 6 with value: 0.7851780332053174.\n"
     ]
    },
    {
     "name": "stderr",
     "output_type": "stream",
     "text": [
      "Best trial: 6. Best value: 0.785178:  33%|██████████████████████████████████████████████████████▎                                                                                                            | 10/30 [01:27<02:29,  7.45s/it]"
     ]
    },
    {
     "name": "stdout",
     "output_type": "stream",
     "text": [
      "[I 2023-10-16 14:10:05,863] Trial 9 finished with value: 0.7836215898932698 and parameters: {'random_state': 42, 'learning_rate': 0.0986714215270935, 'l2_regularization': 83, 'max_iter': 7570, 'max_leaf_nodes': 260, 'min_samples_leaf': 151, 'max_bins': 191, 'class_weight': 'balanced'}. Best is trial 6 with value: 0.7851780332053174.\n"
     ]
    },
    {
     "name": "stderr",
     "output_type": "stream",
     "text": [
      "Best trial: 10. Best value: 0.786146:  37%|███████████████████████████████████████████████████████████▍                                                                                                      | 11/30 [01:34<02:21,  7.45s/it]"
     ]
    },
    {
     "name": "stdout",
     "output_type": "stream",
     "text": [
      "[I 2023-10-16 14:10:13,316] Trial 10 finished with value: 0.7861463226378816 and parameters: {'random_state': 42, 'learning_rate': 0.04285446422853461, 'l2_regularization': 37, 'max_iter': 9726, 'max_leaf_nodes': 5, 'min_samples_leaf': 6, 'max_bins': 87, 'class_weight': None}. Best is trial 10 with value: 0.7861463226378816.\n"
     ]
    },
    {
     "name": "stderr",
     "output_type": "stream",
     "text": [
      "Best trial: 10. Best value: 0.786146:  40%|████████████████████████████████████████████████████████████████▊                                                                                                 | 12/30 [01:40<02:03,  6.88s/it]"
     ]
    },
    {
     "name": "stdout",
     "output_type": "stream",
     "text": [
      "[I 2023-10-16 14:10:18,896] Trial 11 finished with value: 0.7853721070385135 and parameters: {'random_state': 42, 'learning_rate': 0.04483191564322592, 'l2_regularization': 37, 'max_iter': 9601, 'max_leaf_nodes': 35, 'min_samples_leaf': 2, 'max_bins': 97, 'class_weight': None}. Best is trial 10 with value: 0.7861463226378816.\n"
     ]
    },
    {
     "name": "stderr",
     "output_type": "stream",
     "text": [
      "Best trial: 12. Best value: 0.786169:  43%|██████████████████████████████████████████████████████████████████████▏                                                                                           | 13/30 [01:46<01:53,  6.66s/it]"
     ]
    },
    {
     "name": "stdout",
     "output_type": "stream",
     "text": [
      "[I 2023-10-16 14:10:25,056] Trial 12 finished with value: 0.7861688418968245 and parameters: {'random_state': 42, 'learning_rate': 0.04914413927409843, 'l2_regularization': 33, 'max_iter': 9946, 'max_leaf_nodes': 9, 'min_samples_leaf': 13, 'max_bins': 80, 'class_weight': None}. Best is trial 12 with value: 0.7861688418968245.\n"
     ]
    },
    {
     "name": "stderr",
     "output_type": "stream",
     "text": [
      "Best trial: 12. Best value: 0.786169:  47%|███████████████████████████████████████████████████████████████████████████▌                                                                                      | 14/30 [01:52<01:45,  6.61s/it]"
     ]
    },
    {
     "name": "stdout",
     "output_type": "stream",
     "text": [
      "[I 2023-10-16 14:10:31,541] Trial 13 finished with value: 0.7859998440078529 and parameters: {'random_state': 42, 'learning_rate': 0.06866880782978221, 'l2_regularization': 22, 'max_iter': 9885, 'max_leaf_nodes': 5, 'min_samples_leaf': 52, 'max_bins': 81, 'class_weight': None}. Best is trial 12 with value: 0.7861688418968245.\n"
     ]
    },
    {
     "name": "stderr",
     "output_type": "stream",
     "text": [
      "Best trial: 12. Best value: 0.786169:  50%|█████████████████████████████████████████████████████████████████████████████████                                                                                 | 15/30 [02:08<02:20,  9.34s/it]"
     ]
    },
    {
     "name": "stdout",
     "output_type": "stream",
     "text": [
      "[I 2023-10-16 14:10:47,216] Trial 14 finished with value: 0.7841554270573171 and parameters: {'random_state': 42, 'learning_rate': 0.011354646333246846, 'l2_regularization': 41, 'max_iter': 8297, 'max_leaf_nodes': 154, 'min_samples_leaf': 6, 'max_bins': 70, 'class_weight': None}. Best is trial 12 with value: 0.7861688418968245.\n"
     ]
    },
    {
     "name": "stderr",
     "output_type": "stream",
     "text": [
      "Best trial: 12. Best value: 0.786169:  53%|██████████████████████████████████████████████████████████████████████████████████████▍                                                                           | 16/30 [02:13<01:51,  7.93s/it]"
     ]
    },
    {
     "name": "stdout",
     "output_type": "stream",
     "text": [
      "[I 2023-10-16 14:10:51,861] Trial 15 finished with value: 0.784158211495075 and parameters: {'random_state': 42, 'learning_rate': 0.0546101253893469, 'l2_regularization': 20, 'max_iter': 6741, 'max_leaf_nodes': 124, 'min_samples_leaf': 56, 'max_bins': 251, 'class_weight': None}. Best is trial 12 with value: 0.7861688418968245.\n"
     ]
    },
    {
     "name": "stderr",
     "output_type": "stream",
     "text": [
      "Best trial: 12. Best value: 0.786169:  57%|███████████████████████████████████████████████████████████████████████████████████████████▊                                                                      | 17/30 [02:19<01:36,  7.45s/it]"
     ]
    },
    {
     "name": "stdout",
     "output_type": "stream",
     "text": [
      "[I 2023-10-16 14:10:58,210] Trial 16 finished with value: 0.7857861974665259 and parameters: {'random_state': 42, 'learning_rate': 0.032519161331951325, 'l2_regularization': 26, 'max_iter': 8994, 'max_leaf_nodes': 13, 'min_samples_leaf': 71, 'max_bins': 153, 'class_weight': None}. Best is trial 12 with value: 0.7861688418968245.\n"
     ]
    },
    {
     "name": "stderr",
     "output_type": "stream",
     "text": [
      "Best trial: 12. Best value: 0.786169:  60%|█████████████████████████████████████████████████████████████████████████████████████████████████▏                                                                | 18/30 [02:24<01:22,  6.88s/it]"
     ]
    },
    {
     "name": "stdout",
     "output_type": "stream",
     "text": [
      "[I 2023-10-16 14:11:03,753] Trial 17 finished with value: 0.7842931292969741 and parameters: {'random_state': 42, 'learning_rate': 0.06497031312293734, 'l2_regularization': 99, 'max_iter': 7011, 'max_leaf_nodes': 215, 'min_samples_leaf': 34, 'max_bins': 66, 'class_weight': None}. Best is trial 12 with value: 0.7861688418968245.\n"
     ]
    },
    {
     "name": "stderr",
     "output_type": "stream",
     "text": [
      "Best trial: 12. Best value: 0.786169:  63%|██████████████████████████████████████████████████████████████████████████████████████████████████████▌                                                           | 19/30 [02:32<01:18,  7.12s/it]"
     ]
    },
    {
     "name": "stdout",
     "output_type": "stream",
     "text": [
      "[I 2023-10-16 14:11:11,430] Trial 18 finished with value: 0.7839475055767389 and parameters: {'random_state': 42, 'learning_rate': 0.03269066632968256, 'l2_regularization': 47, 'max_iter': 8856, 'max_leaf_nodes': 396, 'min_samples_leaf': 153, 'max_bins': 152, 'class_weight': None}. Best is trial 12 with value: 0.7861688418968245.\n"
     ]
    },
    {
     "name": "stderr",
     "output_type": "stream",
     "text": [
      "Best trial: 12. Best value: 0.786169:  67%|████████████████████████████████████████████████████████████████████████████████████████████████████████████                                                      | 20/30 [02:37<01:04,  6.42s/it]"
     ]
    },
    {
     "name": "stdout",
     "output_type": "stream",
     "text": [
      "[I 2023-10-16 14:11:16,220] Trial 19 finished with value: 0.7843543913554087 and parameters: {'random_state': 42, 'learning_rate': 0.05157087580732268, 'l2_regularization': 14, 'max_iter': 9944, 'max_leaf_nodes': 107, 'min_samples_leaf': 26, 'max_bins': 96, 'class_weight': None}. Best is trial 12 with value: 0.7861688418968245.\n"
     ]
    },
    {
     "name": "stderr",
     "output_type": "stream",
     "text": [
      "Best trial: 12. Best value: 0.786169:  70%|█████████████████████████████████████████████████████████████████████████████████████████████████████████████████▍                                                | 21/30 [02:46<01:04,  7.15s/it]"
     ]
    },
    {
     "name": "stdout",
     "output_type": "stream",
     "text": [
      "[I 2023-10-16 14:11:25,065] Trial 20 finished with value: 0.7843215502350339 and parameters: {'random_state': 42, 'learning_rate': 0.03623564632336194, 'l2_regularization': 60, 'max_iter': 8913, 'max_leaf_nodes': 316, 'min_samples_leaf': 185, 'max_bins': 57, 'class_weight': None}. Best is trial 12 with value: 0.7861688418968245.\n"
     ]
    },
    {
     "name": "stderr",
     "output_type": "stream",
     "text": [
      "Best trial: 12. Best value: 0.786169:  73%|██████████████████████████████████████████████████████████████████████████████████████████████████████████████████████▊                                           | 22/30 [02:51<00:52,  6.54s/it]"
     ]
    },
    {
     "name": "stdout",
     "output_type": "stream",
     "text": [
      "[I 2023-10-16 14:11:30,203] Trial 21 finished with value: 0.7860666165473155 and parameters: {'random_state': 42, 'learning_rate': 0.06756232594901251, 'l2_regularization': 22, 'max_iter': 9674, 'max_leaf_nodes': 6, 'min_samples_leaf': 50, 'max_bins': 89, 'class_weight': None}. Best is trial 12 with value: 0.7861688418968245.\n"
     ]
    },
    {
     "name": "stderr",
     "output_type": "stream",
     "text": [
      "Best trial: 12. Best value: 0.786169:  77%|████████████████████████████████████████████████████████████████████████████████████████████████████████████████████████████▏                                     | 23/30 [02:56<00:43,  6.21s/it]"
     ]
    },
    {
     "name": "stdout",
     "output_type": "stream",
     "text": [
      "[I 2023-10-16 14:11:35,639] Trial 22 finished with value: 0.7849399038320666 and parameters: {'random_state': 42, 'learning_rate': 0.05945296448930161, 'l2_regularization': 33, 'max_iter': 8057, 'max_leaf_nodes': 57, 'min_samples_leaf': 2, 'max_bins': 88, 'class_weight': None}. Best is trial 12 with value: 0.7861688418968245.\n"
     ]
    },
    {
     "name": "stderr",
     "output_type": "stream",
     "text": [
      "Best trial: 12. Best value: 0.786169:  80%|█████████████████████████████████████████████████████████████████████████████████████████████████████████████████████████████████▌                                | 24/30 [03:00<00:32,  5.48s/it]"
     ]
    },
    {
     "name": "stdout",
     "output_type": "stream",
     "text": [
      "[I 2023-10-16 14:11:39,404] Trial 23 finished with value: 0.7857603926263624 and parameters: {'random_state': 42, 'learning_rate': 0.07514843924623711, 'l2_regularization': 14, 'max_iter': 9025, 'max_leaf_nodes': 14, 'min_samples_leaf': 54, 'max_bins': 112, 'class_weight': None}. Best is trial 12 with value: 0.7861688418968245.\n"
     ]
    },
    {
     "name": "stderr",
     "output_type": "stream",
     "text": [
      "Best trial: 12. Best value: 0.786169:  83%|███████████████████████████████████████████████████████████████████████████████████████████████████████████████████████████████████████                           | 25/30 [03:06<00:27,  5.51s/it]"
     ]
    },
    {
     "name": "stdout",
     "output_type": "stream",
     "text": [
      "[I 2023-10-16 14:11:44,975] Trial 24 finished with value: 0.7840497958590563 and parameters: {'random_state': 42, 'learning_rate': 0.055725539157752274, 'l2_regularization': 42, 'max_iter': 2715, 'max_leaf_nodes': 129, 'min_samples_leaf': 34, 'max_bins': 55, 'class_weight': None}. Best is trial 12 with value: 0.7861688418968245.\n"
     ]
    },
    {
     "name": "stderr",
     "output_type": "stream",
     "text": [
      "Best trial: 12. Best value: 0.786169:  87%|████████████████████████████████████████████████████████████████████████████████████████████████████████████████████████████████████████████▍                     | 26/30 [03:10<00:20,  5.06s/it]"
     ]
    },
    {
     "name": "stdout",
     "output_type": "stream",
     "text": [
      "[I 2023-10-16 14:11:48,993] Trial 25 finished with value: 0.7850342898071353 and parameters: {'random_state': 42, 'learning_rate': 0.04831117836964243, 'l2_regularization': 1, 'max_iter': 7244, 'max_leaf_nodes': 51, 'min_samples_leaf': 78, 'max_bins': 136, 'class_weight': None}. Best is trial 12 with value: 0.7861688418968245.\n"
     ]
    },
    {
     "name": "stderr",
     "output_type": "stream",
     "text": [
      "Best trial: 12. Best value: 0.786169:  90%|█████████████████████████████████████████████████████████████████████████████████████████████████████████████████████████████████████████████████▊                | 27/30 [03:14<00:14,  4.84s/it]"
     ]
    },
    {
     "name": "stdout",
     "output_type": "stream",
     "text": [
      "[I 2023-10-16 14:11:53,323] Trial 26 finished with value: 0.7847093999052448 and parameters: {'random_state': 42, 'learning_rate': 0.06310852467779486, 'l2_regularization': 27, 'max_iter': 9969, 'max_leaf_nodes': 85, 'min_samples_leaf': 21, 'max_bins': 80, 'class_weight': None}. Best is trial 12 with value: 0.7861688418968245.\n"
     ]
    },
    {
     "name": "stderr",
     "output_type": "stream",
     "text": [
      "Best trial: 12. Best value: 0.786169:  93%|███████████████████████████████████████████████████████████████████████████████████████████████████████████████████████████████████████████████████████▏          | 28/30 [03:22<00:11,  5.85s/it]"
     ]
    },
    {
     "name": "stdout",
     "output_type": "stream",
     "text": [
      "[I 2023-10-16 14:12:01,517] Trial 27 finished with value: 0.7837531806688487 and parameters: {'random_state': 42, 'learning_rate': 0.03869978488539974, 'l2_regularization': 54, 'max_iter': 6393, 'max_leaf_nodes': 215, 'min_samples_leaf': 47, 'max_bins': 104, 'class_weight': None}. Best is trial 12 with value: 0.7861688418968245.\n"
     ]
    },
    {
     "name": "stderr",
     "output_type": "stream",
     "text": [
      "Best trial: 12. Best value: 0.786169:  97%|████████████████████████████████████████████████████████████████████████████████████████████████████████████████████████████████████████████████████████████▌     | 29/30 [03:27<00:05,  5.45s/it]"
     ]
    },
    {
     "name": "stdout",
     "output_type": "stream",
     "text": [
      "[I 2023-10-16 14:12:06,035] Trial 28 finished with value: 0.7850467591210757 and parameters: {'random_state': 42, 'learning_rate': 0.049921907572925125, 'l2_regularization': 19, 'max_iter': 8406, 'max_leaf_nodes': 40, 'min_samples_leaf': 117, 'max_bins': 48, 'class_weight': None}. Best is trial 12 with value: 0.7861688418968245.\n"
     ]
    },
    {
     "name": "stderr",
     "output_type": "stream",
     "text": [
      "Best trial: 12. Best value: 0.786169: 100%|██████████████████████████████████████████████████████████████████████████████████████████████████████████████████████████████████████████████████████████████████| 30/30 [03:31<00:00,  7.06s/it]"
     ]
    },
    {
     "name": "stdout",
     "output_type": "stream",
     "text": [
      "[I 2023-10-16 14:12:10,569] Trial 29 finished with value: 0.783053790414532 and parameters: {'random_state': 42, 'learning_rate': 0.08287264443906442, 'l2_regularization': 33, 'max_iter': 9237, 'max_leaf_nodes': 197, 'min_samples_leaf': 22, 'max_bins': 116, 'class_weight': None}. Best is trial 12 with value: 0.7861688418968245.\n"
     ]
    },
    {
     "name": "stderr",
     "output_type": "stream",
     "text": [
      "\n"
     ]
    }
   ],
   "source": [
    "def objective(trial):\n",
    "    params = {\n",
    "        'random_state': trial.suggest_categorical('random_state', [SEED]),\n",
    "        'learning_rate': trial.suggest_float('learning_rate', 0.01, 0.1, log=True),\n",
    "        'l2_regularization': trial.suggest_int('l2_regularization', 0, 100),\n",
    "        'max_iter': trial.suggest_int('max_iter', 10, 10_000),\n",
    "        'max_leaf_nodes': trial.suggest_int('max_leaf_nodes', 2, 500),\n",
    "        'min_samples_leaf': trial.suggest_int('min_samples_leaf', 2, 300),\n",
    "        'max_bins': trial.suggest_int('max_bins', 32, 255),\n",
    "        'class_weight': trial.suggest_categorical('class_weight', [None, 'balanced'])\n",
    "    }\n",
    "    pipeline = make_pipeline(partial_pipeline, HistGradientBoostingClassifier(**params))\n",
    "    scores = cross_val_score(pipeline, X, y, cv=SPLITS, scoring='roc_auc', n_jobs=-1)\n",
    "    return scores.mean()\n",
    "\n",
    "study = optuna.create_study(direction='maximize')\n",
    "study.optimize(objective, n_trials=N_TRIALS, show_progress_bar=True)"
   ]
  },
  {
   "cell_type": "code",
   "execution_count": 7,
   "id": "144cc873-53ca-4d3f-871e-ab2c7dd94733",
   "metadata": {},
   "outputs": [
    {
     "data": {
      "text/plain": [
       "({'random_state': 42,\n",
       "  'learning_rate': 0.04914413927409843,\n",
       "  'l2_regularization': 33,\n",
       "  'max_iter': 9946,\n",
       "  'max_leaf_nodes': 9,\n",
       "  'min_samples_leaf': 13,\n",
       "  'max_bins': 80,\n",
       "  'class_weight': None},\n",
       " 0.7861688418968245)"
      ]
     },
     "execution_count": 7,
     "metadata": {},
     "output_type": "execute_result"
    }
   ],
   "source": [
    "study.best_params, study.best_value"
   ]
  },
  {
   "cell_type": "code",
   "execution_count": 8,
   "id": "32cb31e9-7436-45ba-aeea-91a26695a9b8",
   "metadata": {},
   "outputs": [
    {
     "data": {
      "text/html": [
       "<style>#sk-container-id-1 {color: black;}#sk-container-id-1 pre{padding: 0;}#sk-container-id-1 div.sk-toggleable {background-color: white;}#sk-container-id-1 label.sk-toggleable__label {cursor: pointer;display: block;width: 100%;margin-bottom: 0;padding: 0.3em;box-sizing: border-box;text-align: center;}#sk-container-id-1 label.sk-toggleable__label-arrow:before {content: \"▸\";float: left;margin-right: 0.25em;color: #696969;}#sk-container-id-1 label.sk-toggleable__label-arrow:hover:before {color: black;}#sk-container-id-1 div.sk-estimator:hover label.sk-toggleable__label-arrow:before {color: black;}#sk-container-id-1 div.sk-toggleable__content {max-height: 0;max-width: 0;overflow: hidden;text-align: left;background-color: #f0f8ff;}#sk-container-id-1 div.sk-toggleable__content pre {margin: 0.2em;color: black;border-radius: 0.25em;background-color: #f0f8ff;}#sk-container-id-1 input.sk-toggleable__control:checked~div.sk-toggleable__content {max-height: 200px;max-width: 100%;overflow: auto;}#sk-container-id-1 input.sk-toggleable__control:checked~label.sk-toggleable__label-arrow:before {content: \"▾\";}#sk-container-id-1 div.sk-estimator input.sk-toggleable__control:checked~label.sk-toggleable__label {background-color: #d4ebff;}#sk-container-id-1 div.sk-label input.sk-toggleable__control:checked~label.sk-toggleable__label {background-color: #d4ebff;}#sk-container-id-1 input.sk-hidden--visually {border: 0;clip: rect(1px 1px 1px 1px);clip: rect(1px, 1px, 1px, 1px);height: 1px;margin: -1px;overflow: hidden;padding: 0;position: absolute;width: 1px;}#sk-container-id-1 div.sk-estimator {font-family: monospace;background-color: #f0f8ff;border: 1px dotted black;border-radius: 0.25em;box-sizing: border-box;margin-bottom: 0.5em;}#sk-container-id-1 div.sk-estimator:hover {background-color: #d4ebff;}#sk-container-id-1 div.sk-parallel-item::after {content: \"\";width: 100%;border-bottom: 1px solid gray;flex-grow: 1;}#sk-container-id-1 div.sk-label:hover label.sk-toggleable__label {background-color: #d4ebff;}#sk-container-id-1 div.sk-serial::before {content: \"\";position: absolute;border-left: 1px solid gray;box-sizing: border-box;top: 0;bottom: 0;left: 50%;z-index: 0;}#sk-container-id-1 div.sk-serial {display: flex;flex-direction: column;align-items: center;background-color: white;padding-right: 0.2em;padding-left: 0.2em;position: relative;}#sk-container-id-1 div.sk-item {position: relative;z-index: 1;}#sk-container-id-1 div.sk-parallel {display: flex;align-items: stretch;justify-content: center;background-color: white;position: relative;}#sk-container-id-1 div.sk-item::before, #sk-container-id-1 div.sk-parallel-item::before {content: \"\";position: absolute;border-left: 1px solid gray;box-sizing: border-box;top: 0;bottom: 0;left: 50%;z-index: -1;}#sk-container-id-1 div.sk-parallel-item {display: flex;flex-direction: column;z-index: 1;position: relative;background-color: white;}#sk-container-id-1 div.sk-parallel-item:first-child::after {align-self: flex-end;width: 50%;}#sk-container-id-1 div.sk-parallel-item:last-child::after {align-self: flex-start;width: 50%;}#sk-container-id-1 div.sk-parallel-item:only-child::after {width: 0;}#sk-container-id-1 div.sk-dashed-wrapped {border: 1px dashed gray;margin: 0 0.4em 0.5em 0.4em;box-sizing: border-box;padding-bottom: 0.4em;background-color: white;}#sk-container-id-1 div.sk-label label {font-family: monospace;font-weight: bold;display: inline-block;line-height: 1.2em;}#sk-container-id-1 div.sk-label-container {text-align: center;}#sk-container-id-1 div.sk-container {/* jupyter's `normalize.less` sets `[hidden] { display: none; }` but bootstrap.min.css set `[hidden] { display: none !important; }` so we also need the `!important` here to be able to override the default hidden behavior on the sphinx rendered scikit-learn.org. See: https://github.com/scikit-learn/scikit-learn/issues/21755 */display: inline-block !important;position: relative;}#sk-container-id-1 div.sk-text-repr-fallback {display: none;}</style><div id=\"sk-container-id-1\" class=\"sk-top-container\"><div class=\"sk-text-repr-fallback\"><pre>Pipeline(steps=[(&#x27;pipeline&#x27;,\n",
       "                 Pipeline(steps=[(&#x27;columntransformer&#x27;,\n",
       "                                  ColumnTransformer(remainder=&#x27;passthrough&#x27;,\n",
       "                                                    transformers=[(&#x27;drop&#x27;,\n",
       "                                                                   &#x27;drop&#x27;,\n",
       "                                                                   [&#x27;iv(g)&#x27;,\n",
       "                                                                    &#x27;t&#x27;, &#x27;b&#x27;,\n",
       "                                                                    &#x27;n&#x27;,\n",
       "                                                                    &#x27;lOCode&#x27;,\n",
       "                                                                    &#x27;v&#x27;,\n",
       "                                                                    &#x27;branchCount&#x27;,\n",
       "                                                                    &#x27;e&#x27;, &#x27;i&#x27;,\n",
       "                                                                    &#x27;lOComment&#x27;])])),\n",
       "                                 (&#x27;simpleimputer&#x27;, SimpleImputer()),\n",
       "                                 (&#x27;functiontransformer&#x27;,\n",
       "                                  FunctionTransformer(func=&lt;ufunc &#x27;log1p&#x27;&gt;)),\n",
       "                                 (&#x27;powertransformer&#x27;, PowerTransformer())])),\n",
       "                (&#x27;histgradientboostingclassifier&#x27;,\n",
       "                 HistGradientBoostingClassifier(l2_regularization=33,\n",
       "                                                learning_rate=0.04914413927409843,\n",
       "                                                max_bins=80, max_iter=9946,\n",
       "                                                max_leaf_nodes=9,\n",
       "                                                min_samples_leaf=13,\n",
       "                                                random_state=42))])</pre><b>In a Jupyter environment, please rerun this cell to show the HTML representation or trust the notebook. <br />On GitHub, the HTML representation is unable to render, please try loading this page with nbviewer.org.</b></div><div class=\"sk-container\" hidden><div class=\"sk-item sk-dashed-wrapped\"><div class=\"sk-label-container\"><div class=\"sk-label sk-toggleable\"><input class=\"sk-toggleable__control sk-hidden--visually\" id=\"sk-estimator-id-1\" type=\"checkbox\" ><label for=\"sk-estimator-id-1\" class=\"sk-toggleable__label sk-toggleable__label-arrow\">Pipeline</label><div class=\"sk-toggleable__content\"><pre>Pipeline(steps=[(&#x27;pipeline&#x27;,\n",
       "                 Pipeline(steps=[(&#x27;columntransformer&#x27;,\n",
       "                                  ColumnTransformer(remainder=&#x27;passthrough&#x27;,\n",
       "                                                    transformers=[(&#x27;drop&#x27;,\n",
       "                                                                   &#x27;drop&#x27;,\n",
       "                                                                   [&#x27;iv(g)&#x27;,\n",
       "                                                                    &#x27;t&#x27;, &#x27;b&#x27;,\n",
       "                                                                    &#x27;n&#x27;,\n",
       "                                                                    &#x27;lOCode&#x27;,\n",
       "                                                                    &#x27;v&#x27;,\n",
       "                                                                    &#x27;branchCount&#x27;,\n",
       "                                                                    &#x27;e&#x27;, &#x27;i&#x27;,\n",
       "                                                                    &#x27;lOComment&#x27;])])),\n",
       "                                 (&#x27;simpleimputer&#x27;, SimpleImputer()),\n",
       "                                 (&#x27;functiontransformer&#x27;,\n",
       "                                  FunctionTransformer(func=&lt;ufunc &#x27;log1p&#x27;&gt;)),\n",
       "                                 (&#x27;powertransformer&#x27;, PowerTransformer())])),\n",
       "                (&#x27;histgradientboostingclassifier&#x27;,\n",
       "                 HistGradientBoostingClassifier(l2_regularization=33,\n",
       "                                                learning_rate=0.04914413927409843,\n",
       "                                                max_bins=80, max_iter=9946,\n",
       "                                                max_leaf_nodes=9,\n",
       "                                                min_samples_leaf=13,\n",
       "                                                random_state=42))])</pre></div></div></div><div class=\"sk-serial\"><div class=\"sk-item\"><div class=\"sk-label-container\"><div class=\"sk-label sk-toggleable\"><input class=\"sk-toggleable__control sk-hidden--visually\" id=\"sk-estimator-id-2\" type=\"checkbox\" ><label for=\"sk-estimator-id-2\" class=\"sk-toggleable__label sk-toggleable__label-arrow\">pipeline: Pipeline</label><div class=\"sk-toggleable__content\"><pre>Pipeline(steps=[(&#x27;columntransformer&#x27;,\n",
       "                 ColumnTransformer(remainder=&#x27;passthrough&#x27;,\n",
       "                                   transformers=[(&#x27;drop&#x27;, &#x27;drop&#x27;,\n",
       "                                                  [&#x27;iv(g)&#x27;, &#x27;t&#x27;, &#x27;b&#x27;, &#x27;n&#x27;,\n",
       "                                                   &#x27;lOCode&#x27;, &#x27;v&#x27;, &#x27;branchCount&#x27;,\n",
       "                                                   &#x27;e&#x27;, &#x27;i&#x27;, &#x27;lOComment&#x27;])])),\n",
       "                (&#x27;simpleimputer&#x27;, SimpleImputer()),\n",
       "                (&#x27;functiontransformer&#x27;,\n",
       "                 FunctionTransformer(func=&lt;ufunc &#x27;log1p&#x27;&gt;)),\n",
       "                (&#x27;powertransformer&#x27;, PowerTransformer())])</pre></div></div></div><div class=\"sk-serial\"><div class=\"sk-item sk-dashed-wrapped\"><div class=\"sk-label-container\"><div class=\"sk-label sk-toggleable\"><input class=\"sk-toggleable__control sk-hidden--visually\" id=\"sk-estimator-id-3\" type=\"checkbox\" ><label for=\"sk-estimator-id-3\" class=\"sk-toggleable__label sk-toggleable__label-arrow\">columntransformer: ColumnTransformer</label><div class=\"sk-toggleable__content\"><pre>ColumnTransformer(remainder=&#x27;passthrough&#x27;,\n",
       "                  transformers=[(&#x27;drop&#x27;, &#x27;drop&#x27;,\n",
       "                                 [&#x27;iv(g)&#x27;, &#x27;t&#x27;, &#x27;b&#x27;, &#x27;n&#x27;, &#x27;lOCode&#x27;, &#x27;v&#x27;,\n",
       "                                  &#x27;branchCount&#x27;, &#x27;e&#x27;, &#x27;i&#x27;, &#x27;lOComment&#x27;])])</pre></div></div></div><div class=\"sk-parallel\"><div class=\"sk-parallel-item\"><div class=\"sk-item\"><div class=\"sk-label-container\"><div class=\"sk-label sk-toggleable\"><input class=\"sk-toggleable__control sk-hidden--visually\" id=\"sk-estimator-id-4\" type=\"checkbox\" ><label for=\"sk-estimator-id-4\" class=\"sk-toggleable__label sk-toggleable__label-arrow\">drop</label><div class=\"sk-toggleable__content\"><pre>[&#x27;iv(g)&#x27;, &#x27;t&#x27;, &#x27;b&#x27;, &#x27;n&#x27;, &#x27;lOCode&#x27;, &#x27;v&#x27;, &#x27;branchCount&#x27;, &#x27;e&#x27;, &#x27;i&#x27;, &#x27;lOComment&#x27;]</pre></div></div></div><div class=\"sk-serial\"><div class=\"sk-item\"><div class=\"sk-estimator sk-toggleable\"><input class=\"sk-toggleable__control sk-hidden--visually\" id=\"sk-estimator-id-5\" type=\"checkbox\" ><label for=\"sk-estimator-id-5\" class=\"sk-toggleable__label sk-toggleable__label-arrow\">drop</label><div class=\"sk-toggleable__content\"><pre>drop</pre></div></div></div></div></div></div><div class=\"sk-parallel-item\"><div class=\"sk-item\"><div class=\"sk-label-container\"><div class=\"sk-label sk-toggleable\"><input class=\"sk-toggleable__control sk-hidden--visually\" id=\"sk-estimator-id-6\" type=\"checkbox\" ><label for=\"sk-estimator-id-6\" class=\"sk-toggleable__label sk-toggleable__label-arrow\">remainder</label><div class=\"sk-toggleable__content\"><pre>[&#x27;loc&#x27;, &#x27;v(g)&#x27;, &#x27;ev(g)&#x27;, &#x27;l&#x27;, &#x27;d&#x27;, &#x27;lOBlank&#x27;, &#x27;locCodeAndComment&#x27;, &#x27;uniq_Op&#x27;, &#x27;uniq_Opnd&#x27;, &#x27;total_Op&#x27;, &#x27;total_Opnd&#x27;]</pre></div></div></div><div class=\"sk-serial\"><div class=\"sk-item\"><div class=\"sk-estimator sk-toggleable\"><input class=\"sk-toggleable__control sk-hidden--visually\" id=\"sk-estimator-id-7\" type=\"checkbox\" ><label for=\"sk-estimator-id-7\" class=\"sk-toggleable__label sk-toggleable__label-arrow\">passthrough</label><div class=\"sk-toggleable__content\"><pre>passthrough</pre></div></div></div></div></div></div></div></div><div class=\"sk-item\"><div class=\"sk-estimator sk-toggleable\"><input class=\"sk-toggleable__control sk-hidden--visually\" id=\"sk-estimator-id-8\" type=\"checkbox\" ><label for=\"sk-estimator-id-8\" class=\"sk-toggleable__label sk-toggleable__label-arrow\">SimpleImputer</label><div class=\"sk-toggleable__content\"><pre>SimpleImputer()</pre></div></div></div><div class=\"sk-item\"><div class=\"sk-estimator sk-toggleable\"><input class=\"sk-toggleable__control sk-hidden--visually\" id=\"sk-estimator-id-9\" type=\"checkbox\" ><label for=\"sk-estimator-id-9\" class=\"sk-toggleable__label sk-toggleable__label-arrow\">FunctionTransformer</label><div class=\"sk-toggleable__content\"><pre>FunctionTransformer(func=&lt;ufunc &#x27;log1p&#x27;&gt;)</pre></div></div></div><div class=\"sk-item\"><div class=\"sk-estimator sk-toggleable\"><input class=\"sk-toggleable__control sk-hidden--visually\" id=\"sk-estimator-id-10\" type=\"checkbox\" ><label for=\"sk-estimator-id-10\" class=\"sk-toggleable__label sk-toggleable__label-arrow\">PowerTransformer</label><div class=\"sk-toggleable__content\"><pre>PowerTransformer()</pre></div></div></div></div></div><div class=\"sk-item\"><div class=\"sk-estimator sk-toggleable\"><input class=\"sk-toggleable__control sk-hidden--visually\" id=\"sk-estimator-id-11\" type=\"checkbox\" ><label for=\"sk-estimator-id-11\" class=\"sk-toggleable__label sk-toggleable__label-arrow\">HistGradientBoostingClassifier</label><div class=\"sk-toggleable__content\"><pre>HistGradientBoostingClassifier(l2_regularization=33,\n",
       "                               learning_rate=0.04914413927409843, max_bins=80,\n",
       "                               max_iter=9946, max_leaf_nodes=9,\n",
       "                               min_samples_leaf=13, random_state=42)</pre></div></div></div></div></div></div></div>"
      ],
      "text/plain": [
       "Pipeline(steps=[('pipeline',\n",
       "                 Pipeline(steps=[('columntransformer',\n",
       "                                  ColumnTransformer(remainder='passthrough',\n",
       "                                                    transformers=[('drop',\n",
       "                                                                   'drop',\n",
       "                                                                   ['iv(g)',\n",
       "                                                                    't', 'b',\n",
       "                                                                    'n',\n",
       "                                                                    'lOCode',\n",
       "                                                                    'v',\n",
       "                                                                    'branchCount',\n",
       "                                                                    'e', 'i',\n",
       "                                                                    'lOComment'])])),\n",
       "                                 ('simpleimputer', SimpleImputer()),\n",
       "                                 ('functiontransformer',\n",
       "                                  FunctionTransformer(func=<ufunc 'log1p'>)),\n",
       "                                 ('powertransformer', PowerTransformer())])),\n",
       "                ('histgradientboostingclassifier',\n",
       "                 HistGradientBoostingClassifier(l2_regularization=33,\n",
       "                                                learning_rate=0.04914413927409843,\n",
       "                                                max_bins=80, max_iter=9946,\n",
       "                                                max_leaf_nodes=9,\n",
       "                                                min_samples_leaf=13,\n",
       "                                                random_state=42))])"
      ]
     },
     "execution_count": 8,
     "metadata": {},
     "output_type": "execute_result"
    }
   ],
   "source": [
    "pipeline = make_pipeline(partial_pipeline, HistGradientBoostingClassifier(**study.best_params))\n",
    "pipeline.fit(X, y)"
   ]
  },
  {
   "cell_type": "code",
   "execution_count": 9,
   "id": "a8117ee4-b5fc-45c0-ae3d-846ada998f97",
   "metadata": {},
   "outputs": [],
   "source": [
    "submission = test.copy()\n",
    "submission['defects'] = pipeline.predict_proba(submission)[:, 1]\n",
    "submission.defects.to_csv(OUTPUT)"
   ]
  },
  {
   "cell_type": "code",
   "execution_count": null,
   "id": "19ddef80-26ce-4d37-a85d-a1631bab3152",
   "metadata": {},
   "outputs": [],
   "source": []
  }
 ],
 "metadata": {
  "kernelspec": {
   "display_name": "Python 3 (ipykernel)",
   "language": "python",
   "name": "python3"
  },
  "language_info": {
   "codemirror_mode": {
    "name": "ipython",
    "version": 3
   },
   "file_extension": ".py",
   "mimetype": "text/x-python",
   "name": "python",
   "nbconvert_exporter": "python",
   "pygments_lexer": "ipython3",
   "version": "3.11.6"
  }
 },
 "nbformat": 4,
 "nbformat_minor": 5
}
