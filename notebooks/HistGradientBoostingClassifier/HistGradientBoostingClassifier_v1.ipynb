{
 "cells": [
  {
   "cell_type": "code",
   "execution_count": 1,
   "id": "780654ec-d9db-485f-8b7f-4370dfbf38a3",
   "metadata": {},
   "outputs": [
    {
     "name": "stderr",
     "output_type": "stream",
     "text": [
      "/home/strawhatdragon100/miniconda3/envs/kaggle/lib/python3.11/site-packages/tqdm/auto.py:21: TqdmWarning: IProgress not found. Please update jupyter and ipywidgets. See https://ipywidgets.readthedocs.io/en/stable/user_install.html\n",
      "  from .autonotebook import tqdm as notebook_tqdm\n"
     ]
    },
    {
     "name": "stdout",
     "output_type": "stream",
     "text": [
      "Warning: Your Kaggle API key is readable by other users on this system! To fix this, you can run 'chmod 600 /home/strawhatdragon100/.kaggle/kaggle.json'\n"
     ]
    }
   ],
   "source": [
    "import optuna\n",
    "import os\n",
    "from pathlib import Path\n",
    "import kaggle\n",
    "import pandas as pd\n",
    "import numpy as np\n",
    "from sklearn.preprocessing import FunctionTransformer, PowerTransformer, StandardScaler\n",
    "from sklearn.compose import ColumnTransformer\n",
    "from sklearn.pipeline import make_pipeline\n",
    "from sklearn.impute import SimpleImputer\n",
    "from sklearn.model_selection import StratifiedKFold\n",
    "from sklearn.model_selection import cross_val_score\n",
    "from sklearn.ensemble import HistGradientBoostingClassifier\n",
    "\n",
    "\n",
    "pd.set_option('display.max_columns', None)\n",
    "pd.set_option('display.max_colwidth', None)\n",
    "\n",
    "iskaggle = os.environ.get('KAGGLE_KERNEL_RUN_TYPE', '')\n",
    "if iskaggle:\n",
    "    path = Path('../input/playground-series-s3e23')\n",
    "    orig_path = Path('../input/software-defect-prediction')\n",
    "else:\n",
    "    path = Path('../input/playground-series-s3e23')\n",
    "    orig_path = Path('../input/software-defect-prediction')\n",
    "    if not path.exists():\n",
    "        kaggle.api.competition_download_cli(str(path))\n",
    "        zipfile.ZipFile(f'{path}.zip').extractall(path)\n",
    "    if not orig_path.exists():\n",
    "        kaggle.api.competition_download_cli(str(path))\n",
    "        zipfile.ZipFile(f'{path}.zip').extractall(path)\n",
    "\n",
    "SEED = 42\n",
    "SPLITS = 5\n",
    "VERSION = 1\n",
    "OUTPUT = f'hist_grad_boost_clf_submisson_v{VERSION}.csv'\n",
    "N_TRIALS = 30\n",
    "\n",
    "np.random.seed(SEED)"
   ]
  },
  {
   "cell_type": "code",
   "execution_count": 2,
   "id": "8f657fd1-ef09-487f-a58d-b22081132e65",
   "metadata": {},
   "outputs": [],
   "source": [
    "train = pd.read_csv(path/'train.csv', index_col = 'id')\n",
    "test = pd.read_csv(path/'test.csv', index_col = 'id')\n",
    "orig_train = pd.read_csv(orig_path/'jm1.csv')"
   ]
  },
  {
   "cell_type": "code",
   "execution_count": 3,
   "id": "46824c8c-7eb2-4fc8-bba0-0f235eaff752",
   "metadata": {},
   "outputs": [],
   "source": [
    "for object_features in list(orig_train.loc[:, orig_train.dtypes == 'O']):\n",
    "    orig_train[object_features] = orig_train[object_features].replace({'?' : np.nan}).astype('float64')"
   ]
  },
  {
   "cell_type": "code",
   "execution_count": 4,
   "id": "0714d734-86ab-49c3-b68e-6a689884f051",
   "metadata": {},
   "outputs": [],
   "source": [
    "X = pd.concat([train, orig_train])\n",
    "y = X.pop('defects')"
   ]
  },
  {
   "cell_type": "code",
   "execution_count": 5,
   "id": "76b1a1f9-4b43-4aba-b799-bb1768bcbad3",
   "metadata": {},
   "outputs": [],
   "source": [
    "partial_pipeline = make_pipeline(SimpleImputer(), FunctionTransformer(func=np.log1p, validate=False), StandardScaler())"
   ]
  },
  {
   "cell_type": "code",
   "execution_count": 6,
   "id": "8ba2e066-0c7f-451f-aa9e-159515d83ac4",
   "metadata": {},
   "outputs": [
    {
     "name": "stderr",
     "output_type": "stream",
     "text": [
      "[I 2023-10-16 13:53:39,513] A new study created in memory with name: no-name-49a93b39-ed13-481d-aeea-7db2db0da55a\n",
      "Best trial: 0. Best value: 0.78462:   3%|█████▌                                                                                                                                                               | 1/30 [00:13<06:37, 13.69s/it]"
     ]
    },
    {
     "name": "stdout",
     "output_type": "stream",
     "text": [
      "[I 2023-10-16 13:53:53,208] Trial 0 finished with value: 0.7846201158377332 and parameters: {'random_state': 42, 'learning_rate': 0.024118501272207507, 'l2_regularization': 94, 'max_iter': 5889, 'max_leaf_nodes': 268, 'min_samples_leaf': 60, 'max_bins': 102, 'class_weight': None}. Best is trial 0 with value: 0.7846201158377332.\n"
     ]
    },
    {
     "name": "stderr",
     "output_type": "stream",
     "text": [
      "Best trial: 1. Best value: 0.785043:   7%|██████████▉                                                                                                                                                         | 2/30 [00:40<09:57, 21.34s/it]"
     ]
    },
    {
     "name": "stdout",
     "output_type": "stream",
     "text": [
      "[I 2023-10-16 13:54:19,907] Trial 1 finished with value: 0.7850426672143341 and parameters: {'random_state': 42, 'learning_rate': 0.010039788539813715, 'l2_regularization': 98, 'max_iter': 5033, 'max_leaf_nodes': 280, 'min_samples_leaf': 211, 'max_bins': 229, 'class_weight': None}. Best is trial 1 with value: 0.7850426672143341.\n"
     ]
    },
    {
     "name": "stderr",
     "output_type": "stream",
     "text": [
      "Best trial: 1. Best value: 0.785043:  10%|████████████████▍                                                                                                                                                   | 3/30 [00:59<09:10, 20.39s/it]"
     ]
    },
    {
     "name": "stdout",
     "output_type": "stream",
     "text": [
      "[I 2023-10-16 13:54:39,162] Trial 2 finished with value: 0.7841464771966695 and parameters: {'random_state': 42, 'learning_rate': 0.01169107325333102, 'l2_regularization': 29, 'max_iter': 8900, 'max_leaf_nodes': 177, 'min_samples_leaf': 131, 'max_bins': 153, 'class_weight': None}. Best is trial 1 with value: 0.7850426672143341.\n"
     ]
    },
    {
     "name": "stderr",
     "output_type": "stream",
     "text": [
      "Best trial: 1. Best value: 0.785043:  13%|█████████████████████▊                                                                                                                                              | 4/30 [01:18<08:31, 19.67s/it]"
     ]
    },
    {
     "name": "stdout",
     "output_type": "stream",
     "text": [
      "[I 2023-10-16 13:54:57,721] Trial 3 finished with value: 0.7839597570701263 and parameters: {'random_state': 42, 'learning_rate': 0.01487192640822732, 'l2_regularization': 31, 'max_iter': 3262, 'max_leaf_nodes': 183, 'min_samples_leaf': 40, 'max_bins': 212, 'class_weight': None}. Best is trial 1 with value: 0.7850426672143341.\n"
     ]
    },
    {
     "name": "stderr",
     "output_type": "stream",
     "text": [
      "Best trial: 1. Best value: 0.785043:  17%|███████████████████████████▎                                                                                                                                        | 5/30 [01:28<06:51, 16.46s/it]"
     ]
    },
    {
     "name": "stdout",
     "output_type": "stream",
     "text": [
      "[I 2023-10-16 13:55:08,491] Trial 4 finished with value: 0.7849195147019742 and parameters: {'random_state': 42, 'learning_rate': 0.02826035378046412, 'l2_regularization': 98, 'max_iter': 1696, 'max_leaf_nodes': 475, 'min_samples_leaf': 221, 'max_bins': 230, 'class_weight': None}. Best is trial 1 with value: 0.7850426672143341.\n"
     ]
    },
    {
     "name": "stderr",
     "output_type": "stream",
     "text": [
      "Best trial: 1. Best value: 0.785043:  20%|████████████████████████████████▊                                                                                                                                   | 6/30 [01:45<06:38, 16.59s/it]"
     ]
    },
    {
     "name": "stdout",
     "output_type": "stream",
     "text": [
      "[I 2023-10-16 13:55:25,333] Trial 5 finished with value: 0.7843511312439594 and parameters: {'random_state': 42, 'learning_rate': 0.023447144830017353, 'l2_regularization': 89, 'max_iter': 9569, 'max_leaf_nodes': 277, 'min_samples_leaf': 32, 'max_bins': 49, 'class_weight': None}. Best is trial 1 with value: 0.7850426672143341.\n"
     ]
    },
    {
     "name": "stderr",
     "output_type": "stream",
     "text": [
      "Best trial: 1. Best value: 0.785043:  23%|██████████████████████████████████████▎                                                                                                                             | 7/30 [01:50<04:48, 12.56s/it]"
     ]
    },
    {
     "name": "stdout",
     "output_type": "stream",
     "text": [
      "[I 2023-10-16 13:55:29,589] Trial 6 finished with value: 0.7849327396095676 and parameters: {'random_state': 42, 'learning_rate': 0.06785305957390464, 'l2_regularization': 80, 'max_iter': 9275, 'max_leaf_nodes': 104, 'min_samples_leaf': 36, 'max_bins': 92, 'class_weight': None}. Best is trial 1 with value: 0.7850426672143341.\n"
     ]
    },
    {
     "name": "stderr",
     "output_type": "stream",
     "text": [
      "Best trial: 1. Best value: 0.785043:  27%|███████████████████████████████████████████▋                                                                                                                        | 8/30 [01:58<04:04, 11.13s/it]"
     ]
    },
    {
     "name": "stdout",
     "output_type": "stream",
     "text": [
      "[I 2023-10-16 13:55:37,660] Trial 7 finished with value: 0.7846277436022686 and parameters: {'random_state': 42, 'learning_rate': 0.03427637483437081, 'l2_regularization': 88, 'max_iter': 504, 'max_leaf_nodes': 128, 'min_samples_leaf': 102, 'max_bins': 94, 'class_weight': 'balanced'}. Best is trial 1 with value: 0.7850426672143341.\n"
     ]
    },
    {
     "name": "stderr",
     "output_type": "stream",
     "text": [
      "Best trial: 1. Best value: 0.785043:  30%|█████████████████████████████████████████████████▏                                                                                                                  | 9/30 [02:06<03:35, 10.27s/it]"
     ]
    },
    {
     "name": "stdout",
     "output_type": "stream",
     "text": [
      "[I 2023-10-16 13:55:46,035] Trial 8 finished with value: 0.7842429655841642 and parameters: {'random_state': 42, 'learning_rate': 0.05069776288100092, 'l2_regularization': 83, 'max_iter': 131, 'max_leaf_nodes': 404, 'min_samples_leaf': 83, 'max_bins': 38, 'class_weight': None}. Best is trial 1 with value: 0.7850426672143341.\n"
     ]
    },
    {
     "name": "stderr",
     "output_type": "stream",
     "text": [
      "Best trial: 1. Best value: 0.785043:  33%|██████████████████████████████████████████████████████▎                                                                                                            | 10/30 [02:27<04:32, 13.61s/it]"
     ]
    },
    {
     "name": "stdout",
     "output_type": "stream",
     "text": [
      "[I 2023-10-16 13:56:07,130] Trial 9 finished with value: 0.7834165842897232 and parameters: {'random_state': 42, 'learning_rate': 0.01139361030791574, 'l2_regularization': 19, 'max_iter': 7801, 'max_leaf_nodes': 303, 'min_samples_leaf': 189, 'max_bins': 39, 'class_weight': None}. Best is trial 1 with value: 0.7850426672143341.\n"
     ]
    },
    {
     "name": "stderr",
     "output_type": "stream",
     "text": [
      "Best trial: 10. Best value: 0.785754:  37%|███████████████████████████████████████████████████████████▍                                                                                                      | 11/30 [02:37<03:58, 12.54s/it]"
     ]
    },
    {
     "name": "stdout",
     "output_type": "stream",
     "text": [
      "[I 2023-10-16 13:56:17,241] Trial 10 finished with value: 0.7857539412589267 and parameters: {'random_state': 42, 'learning_rate': 0.015945081720476505, 'l2_regularization': 56, 'max_iter': 5507, 'max_leaf_nodes': 30, 'min_samples_leaf': 291, 'max_bins': 185, 'class_weight': 'balanced'}. Best is trial 10 with value: 0.7857539412589267.\n"
     ]
    },
    {
     "name": "stderr",
     "output_type": "stream",
     "text": [
      "Best trial: 11. Best value: 0.786026:  40%|████████████████████████████████████████████████████████████████▊                                                                                                 | 12/30 [02:51<03:53, 12.98s/it]"
     ]
    },
    {
     "name": "stdout",
     "output_type": "stream",
     "text": [
      "[I 2023-10-16 13:56:31,240] Trial 11 finished with value: 0.7860260421824963 and parameters: {'random_state': 42, 'learning_rate': 0.010212498830869023, 'l2_regularization': 53, 'max_iter': 5167, 'max_leaf_nodes': 24, 'min_samples_leaf': 300, 'max_bins': 186, 'class_weight': 'balanced'}. Best is trial 11 with value: 0.7860260421824963.\n"
     ]
    },
    {
     "name": "stderr",
     "output_type": "stream",
     "text": [
      "Best trial: 11. Best value: 0.786026:  43%|██████████████████████████████████████████████████████████████████████▏                                                                                           | 13/30 [03:00<03:20, 11.79s/it]"
     ]
    },
    {
     "name": "stdout",
     "output_type": "stream",
     "text": [
      "[I 2023-10-16 13:56:40,289] Trial 12 finished with value: 0.7858985009020272 and parameters: {'random_state': 42, 'learning_rate': 0.016315523000296293, 'l2_regularization': 60, 'max_iter': 6559, 'max_leaf_nodes': 17, 'min_samples_leaf': 300, 'max_bins': 178, 'class_weight': 'balanced'}. Best is trial 11 with value: 0.7860260421824963.\n"
     ]
    },
    {
     "name": "stderr",
     "output_type": "stream",
     "text": [
      "Best trial: 11. Best value: 0.786026:  47%|███████████████████████████████████████████████████████████████████████████▌                                                                                      | 14/30 [03:09<02:55, 10.94s/it]"
     ]
    },
    {
     "name": "stdout",
     "output_type": "stream",
     "text": [
      "[I 2023-10-16 13:56:49,256] Trial 13 finished with value: 0.7859576233798067 and parameters: {'random_state': 42, 'learning_rate': 0.016226098983898513, 'l2_regularization': 59, 'max_iter': 6997, 'max_leaf_nodes': 14, 'min_samples_leaf': 296, 'max_bins': 170, 'class_weight': 'balanced'}. Best is trial 11 with value: 0.7860260421824963.\n"
     ]
    },
    {
     "name": "stderr",
     "output_type": "stream",
     "text": [
      "Best trial: 11. Best value: 0.786026:  50%|█████████████████████████████████████████████████████████████████████████████████                                                                                 | 15/30 [03:20<02:44, 10.94s/it]"
     ]
    },
    {
     "name": "stdout",
     "output_type": "stream",
     "text": [
      "[I 2023-10-16 13:57:00,213] Trial 14 finished with value: 0.7851472867127389 and parameters: {'random_state': 42, 'learning_rate': 0.01859763404171977, 'l2_regularization': 68, 'max_iter': 3415, 'max_leaf_nodes': 75, 'min_samples_leaf': 256, 'max_bins': 134, 'class_weight': 'balanced'}. Best is trial 11 with value: 0.7860260421824963.\n"
     ]
    },
    {
     "name": "stderr",
     "output_type": "stream",
     "text": [
      "Best trial: 11. Best value: 0.786026:  53%|██████████████████████████████████████████████████████████████████████████████████████▍                                                                           | 16/30 [03:32<02:37, 11.28s/it]"
     ]
    },
    {
     "name": "stdout",
     "output_type": "stream",
     "text": [
      "[I 2023-10-16 13:57:12,263] Trial 15 finished with value: 0.7857349197878502 and parameters: {'random_state': 42, 'learning_rate': 0.013358542014737084, 'l2_regularization': 43, 'max_iter': 7810, 'max_leaf_nodes': 8, 'min_samples_leaf': 256, 'max_bins': 192, 'class_weight': 'balanced'}. Best is trial 11 with value: 0.7860260421824963.\n"
     ]
    },
    {
     "name": "stderr",
     "output_type": "stream",
     "text": [
      "Best trial: 11. Best value: 0.786026:  57%|███████████████████████████████████████████████████████████████████████████████████████████▊                                                                      | 17/30 [03:56<03:16, 15.08s/it]"
     ]
    },
    {
     "name": "stdout",
     "output_type": "stream",
     "text": [
      "[I 2023-10-16 13:57:36,191] Trial 16 finished with value: 0.7840282801406168 and parameters: {'random_state': 42, 'learning_rate': 0.010609397992015407, 'l2_regularization': 43, 'max_iter': 4012, 'max_leaf_nodes': 184, 'min_samples_leaf': 164, 'max_bins': 252, 'class_weight': 'balanced'}. Best is trial 11 with value: 0.7860260421824963.\n"
     ]
    },
    {
     "name": "stderr",
     "output_type": "stream",
     "text": [
      "Best trial: 11. Best value: 0.786026:  60%|█████████████████████████████████████████████████████████████████████████████████████████████████▏                                                                | 18/30 [04:06<02:40, 13.38s/it]"
     ]
    },
    {
     "name": "stdout",
     "output_type": "stream",
     "text": [
      "[I 2023-10-16 13:57:45,624] Trial 17 finished with value: 0.7849862868875457 and parameters: {'random_state': 42, 'learning_rate': 0.017922790641526413, 'l2_regularization': 6, 'max_iter': 7010, 'max_leaf_nodes': 64, 'min_samples_leaf': 260, 'max_bins': 147, 'class_weight': 'balanced'}. Best is trial 11 with value: 0.7860260421824963.\n"
     ]
    },
    {
     "name": "stderr",
     "output_type": "stream",
     "text": [
      "Best trial: 11. Best value: 0.786026:  63%|██████████████████████████████████████████████████████████████████████████████████████████████████████▌                                                           | 19/30 [04:32<03:09, 17.20s/it]"
     ]
    },
    {
     "name": "stdout",
     "output_type": "stream",
     "text": [
      "[I 2023-10-16 13:58:11,709] Trial 18 finished with value: 0.7836950988128379 and parameters: {'random_state': 42, 'learning_rate': 0.013113240722474974, 'l2_regularization': 71, 'max_iter': 4347, 'max_leaf_nodes': 347, 'min_samples_leaf': 2, 'max_bins': 122, 'class_weight': 'balanced'}. Best is trial 11 with value: 0.7860260421824963.\n"
     ]
    },
    {
     "name": "stderr",
     "output_type": "stream",
     "text": [
      "Best trial: 11. Best value: 0.786026:  67%|████████████████████████████████████████████████████████████████████████████████████████████████████████████                                                      | 20/30 [04:45<02:40, 16.05s/it]"
     ]
    },
    {
     "name": "stdout",
     "output_type": "stream",
     "text": [
      "[I 2023-10-16 13:58:25,096] Trial 19 finished with value: 0.7845067996497883 and parameters: {'random_state': 42, 'learning_rate': 0.020773298772317775, 'l2_regularization': 42, 'max_iter': 2421, 'max_leaf_nodes': 138, 'min_samples_leaf': 280, 'max_bins': 173, 'class_weight': 'balanced'}. Best is trial 11 with value: 0.7860260421824963.\n"
     ]
    },
    {
     "name": "stderr",
     "output_type": "stream",
     "text": [
      "Best trial: 11. Best value: 0.786026:  70%|█████████████████████████████████████████████████████████████████████████████████████████████████████████████████▍                                                | 21/30 [05:00<02:21, 15.68s/it]"
     ]
    },
    {
     "name": "stdout",
     "output_type": "stream",
     "text": [
      "[I 2023-10-16 13:58:39,907] Trial 20 finished with value: 0.7851950254318009 and parameters: {'random_state': 42, 'learning_rate': 0.014044388809565085, 'l2_regularization': 66, 'max_iter': 7914, 'max_leaf_nodes': 65, 'min_samples_leaf': 227, 'max_bins': 205, 'class_weight': 'balanced'}. Best is trial 11 with value: 0.7860260421824963.\n"
     ]
    },
    {
     "name": "stderr",
     "output_type": "stream",
     "text": [
      "Best trial: 11. Best value: 0.786026:  73%|██████████████████████████████████████████████████████████████████████████████████████████████████████████████████████▊                                           | 22/30 [05:35<02:53, 21.63s/it]"
     ]
    },
    {
     "name": "stdout",
     "output_type": "stream",
     "text": [
      "[I 2023-10-16 13:59:15,409] Trial 21 finished with value: 0.7840562496284471 and parameters: {'random_state': 42, 'learning_rate': 0.016253236295270285, 'l2_regularization': 58, 'max_iter': 6186, 'max_leaf_nodes': 2, 'min_samples_leaf': 300, 'max_bins': 167, 'class_weight': 'balanced'}. Best is trial 11 with value: 0.7860260421824963.\n"
     ]
    },
    {
     "name": "stderr",
     "output_type": "stream",
     "text": [
      "Best trial: 11. Best value: 0.786026:  77%|████████████████████████████████████████████████████████████████████████████████████████████████████████████████████████████▏                                     | 23/30 [05:50<02:16, 19.47s/it]"
     ]
    },
    {
     "name": "stdout",
     "output_type": "stream",
     "text": [
      "[I 2023-10-16 13:59:29,834] Trial 22 finished with value: 0.7855991263630739 and parameters: {'random_state': 42, 'learning_rate': 0.013240801676577506, 'l2_regularization': 53, 'max_iter': 6941, 'max_leaf_nodes': 46, 'min_samples_leaf': 273, 'max_bins': 166, 'class_weight': 'balanced'}. Best is trial 11 with value: 0.7860260421824963.\n"
     ]
    },
    {
     "name": "stderr",
     "output_type": "stream",
     "text": [
      "Best trial: 11. Best value: 0.786026:  80%|█████████████████████████████████████████████████████████████████████████████████████████████████████████████████████████████████▌                                | 24/30 [06:11<02:00, 20.01s/it]"
     ]
    },
    {
     "name": "stdout",
     "output_type": "stream",
     "text": [
      "[I 2023-10-16 13:59:51,103] Trial 23 finished with value: 0.7849492617917776 and parameters: {'random_state': 42, 'learning_rate': 0.010070115687816749, 'l2_regularization': 64, 'max_iter': 6364, 'max_leaf_nodes': 101, 'min_samples_leaf': 235, 'max_bins': 194, 'class_weight': 'balanced'}. Best is trial 11 with value: 0.7860260421824963.\n"
     ]
    },
    {
     "name": "stderr",
     "output_type": "stream",
     "text": [
      "Best trial: 11. Best value: 0.786026:  83%|███████████████████████████████████████████████████████████████████████████████████████████████████████████████████████████████████████                           | 25/30 [06:21<01:25, 17.12s/it]"
     ]
    },
    {
     "name": "stdout",
     "output_type": "stream",
     "text": [
      "[I 2023-10-16 14:00:01,494] Trial 24 finished with value: 0.7860065357704299 and parameters: {'random_state': 42, 'learning_rate': 0.01873138499382575, 'l2_regularization': 74, 'max_iter': 4718, 'max_leaf_nodes': 7, 'min_samples_leaf': 296, 'max_bins': 120, 'class_weight': 'balanced'}. Best is trial 11 with value: 0.7860260421824963.\n"
     ]
    },
    {
     "name": "stderr",
     "output_type": "stream",
     "text": [
      "Best trial: 11. Best value: 0.786026:  87%|████████████████████████████████████████████████████████████████████████████████████████████████████████████████████████████████████████████▍                     | 26/30 [06:36<01:05, 16.34s/it]"
     ]
    },
    {
     "name": "stdout",
     "output_type": "stream",
     "text": [
      "[I 2023-10-16 14:00:16,011] Trial 25 finished with value: 0.7842586712261678 and parameters: {'random_state': 42, 'learning_rate': 0.019702633025966133, 'l2_regularization': 76, 'max_iter': 4628, 'max_leaf_nodes': 212, 'min_samples_leaf': 180, 'max_bins': 115, 'class_weight': 'balanced'}. Best is trial 11 with value: 0.7860260421824963.\n"
     ]
    },
    {
     "name": "stderr",
     "output_type": "stream",
     "text": [
      "Best trial: 11. Best value: 0.786026:  90%|█████████████████████████████████████████████████████████████████████████████████████████████████████████████████████████████████████████████████▊                | 27/30 [06:56<00:51, 17.29s/it]"
     ]
    },
    {
     "name": "stdout",
     "output_type": "stream",
     "text": [
      "[I 2023-10-16 14:00:35,511] Trial 26 finished with value: 0.7849238467870311 and parameters: {'random_state': 42, 'learning_rate': 0.012779437391769458, 'l2_regularization': 48, 'max_iter': 5124, 'max_leaf_nodes': 99, 'min_samples_leaf': 244, 'max_bins': 67, 'class_weight': 'balanced'}. Best is trial 11 with value: 0.7860260421824963.\n"
     ]
    },
    {
     "name": "stderr",
     "output_type": "stream",
     "text": [
      "Best trial: 11. Best value: 0.786026:  93%|███████████████████████████████████████████████████████████████████████████████████████████████████████████████████████████████████████████████████████▏          | 28/30 [07:07<00:31, 15.65s/it]"
     ]
    },
    {
     "name": "stdout",
     "output_type": "stream",
     "text": [
      "[I 2023-10-16 14:00:47,337] Trial 27 finished with value: 0.7856418820411478 and parameters: {'random_state': 42, 'learning_rate': 0.015220913868352361, 'l2_regularization': 74, 'max_iter': 3761, 'max_leaf_nodes': 43, 'min_samples_leaf': 203, 'max_bins': 136, 'class_weight': 'balanced'}. Best is trial 11 with value: 0.7860260421824963.\n"
     ]
    },
    {
     "name": "stderr",
     "output_type": "stream",
     "text": [
      "Best trial: 11. Best value: 0.786026:  97%|████████████████████████████████████████████████████████████████████████████████████████████████████████████████████████████████████████████████████████████▌     | 29/30 [07:11<00:11, 11.94s/it]"
     ]
    },
    {
     "name": "stdout",
     "output_type": "stream",
     "text": [
      "[I 2023-10-16 14:00:50,607] Trial 28 finished with value: 0.7835347804760723 and parameters: {'random_state': 42, 'learning_rate': 0.0997258224203673, 'l2_regularization': 33, 'max_iter': 2907, 'max_leaf_nodes': 139, 'min_samples_leaf': 275, 'max_bins': 150, 'class_weight': 'balanced'}. Best is trial 11 with value: 0.7860260421824963.\n"
     ]
    },
    {
     "name": "stderr",
     "output_type": "stream",
     "text": [
      "Best trial: 11. Best value: 0.786026: 100%|██████████████████████████████████████████████████████████████████████████████████████████████████████████████████████████████████████████████████████████████████| 30/30 [07:22<00:00, 14.75s/it]"
     ]
    },
    {
     "name": "stdout",
     "output_type": "stream",
     "text": [
      "[I 2023-10-16 14:01:02,030] Trial 29 finished with value: 0.7845509830320572 and parameters: {'random_state': 42, 'learning_rate': 0.02211221496420053, 'l2_regularization': 64, 'max_iter': 8524, 'max_leaf_nodes': 226, 'min_samples_leaf': 270, 'max_bins': 125, 'class_weight': 'balanced'}. Best is trial 11 with value: 0.7860260421824963.\n"
     ]
    },
    {
     "name": "stderr",
     "output_type": "stream",
     "text": [
      "\n"
     ]
    }
   ],
   "source": [
    "def objective(trial):\n",
    "    params = {\n",
    "        'random_state': trial.suggest_categorical('random_state', [SEED]),\n",
    "        'learning_rate': trial.suggest_float('learning_rate', 0.01, 0.1, log=True),\n",
    "        'l2_regularization': trial.suggest_int('l2_regularization', 0, 100),\n",
    "        'max_iter': trial.suggest_int('max_iter', 10, 10_000),\n",
    "        'max_leaf_nodes': trial.suggest_int('max_leaf_nodes', 2, 500),\n",
    "        'min_samples_leaf': trial.suggest_int('min_samples_leaf', 2, 300),\n",
    "        'max_bins': trial.suggest_int('max_bins', 32, 255),\n",
    "        'class_weight': trial.suggest_categorical('class_weight', [None, 'balanced'])\n",
    "    }\n",
    "    pipeline = make_pipeline(partial_pipeline, HistGradientBoostingClassifier(**params))\n",
    "    scores = cross_val_score(pipeline, X, y, cv=SPLITS, scoring='roc_auc', n_jobs=-1)\n",
    "    return scores.mean()\n",
    "\n",
    "study = optuna.create_study(direction='maximize')\n",
    "study.optimize(objective, n_trials=N_TRIALS, show_progress_bar=True)"
   ]
  },
  {
   "cell_type": "code",
   "execution_count": 7,
   "id": "144cc873-53ca-4d3f-871e-ab2c7dd94733",
   "metadata": {},
   "outputs": [
    {
     "data": {
      "text/plain": [
       "({'random_state': 42,\n",
       "  'learning_rate': 0.010212498830869023,\n",
       "  'l2_regularization': 53,\n",
       "  'max_iter': 5167,\n",
       "  'max_leaf_nodes': 24,\n",
       "  'min_samples_leaf': 300,\n",
       "  'max_bins': 186,\n",
       "  'class_weight': 'balanced'},\n",
       " 0.7860260421824963)"
      ]
     },
     "execution_count": 7,
     "metadata": {},
     "output_type": "execute_result"
    }
   ],
   "source": [
    "study.best_params, study.best_value"
   ]
  },
  {
   "cell_type": "code",
   "execution_count": 8,
   "id": "32cb31e9-7436-45ba-aeea-91a26695a9b8",
   "metadata": {},
   "outputs": [
    {
     "data": {
      "text/html": [
       "<style>#sk-container-id-1 {color: black;}#sk-container-id-1 pre{padding: 0;}#sk-container-id-1 div.sk-toggleable {background-color: white;}#sk-container-id-1 label.sk-toggleable__label {cursor: pointer;display: block;width: 100%;margin-bottom: 0;padding: 0.3em;box-sizing: border-box;text-align: center;}#sk-container-id-1 label.sk-toggleable__label-arrow:before {content: \"▸\";float: left;margin-right: 0.25em;color: #696969;}#sk-container-id-1 label.sk-toggleable__label-arrow:hover:before {color: black;}#sk-container-id-1 div.sk-estimator:hover label.sk-toggleable__label-arrow:before {color: black;}#sk-container-id-1 div.sk-toggleable__content {max-height: 0;max-width: 0;overflow: hidden;text-align: left;background-color: #f0f8ff;}#sk-container-id-1 div.sk-toggleable__content pre {margin: 0.2em;color: black;border-radius: 0.25em;background-color: #f0f8ff;}#sk-container-id-1 input.sk-toggleable__control:checked~div.sk-toggleable__content {max-height: 200px;max-width: 100%;overflow: auto;}#sk-container-id-1 input.sk-toggleable__control:checked~label.sk-toggleable__label-arrow:before {content: \"▾\";}#sk-container-id-1 div.sk-estimator input.sk-toggleable__control:checked~label.sk-toggleable__label {background-color: #d4ebff;}#sk-container-id-1 div.sk-label input.sk-toggleable__control:checked~label.sk-toggleable__label {background-color: #d4ebff;}#sk-container-id-1 input.sk-hidden--visually {border: 0;clip: rect(1px 1px 1px 1px);clip: rect(1px, 1px, 1px, 1px);height: 1px;margin: -1px;overflow: hidden;padding: 0;position: absolute;width: 1px;}#sk-container-id-1 div.sk-estimator {font-family: monospace;background-color: #f0f8ff;border: 1px dotted black;border-radius: 0.25em;box-sizing: border-box;margin-bottom: 0.5em;}#sk-container-id-1 div.sk-estimator:hover {background-color: #d4ebff;}#sk-container-id-1 div.sk-parallel-item::after {content: \"\";width: 100%;border-bottom: 1px solid gray;flex-grow: 1;}#sk-container-id-1 div.sk-label:hover label.sk-toggleable__label {background-color: #d4ebff;}#sk-container-id-1 div.sk-serial::before {content: \"\";position: absolute;border-left: 1px solid gray;box-sizing: border-box;top: 0;bottom: 0;left: 50%;z-index: 0;}#sk-container-id-1 div.sk-serial {display: flex;flex-direction: column;align-items: center;background-color: white;padding-right: 0.2em;padding-left: 0.2em;position: relative;}#sk-container-id-1 div.sk-item {position: relative;z-index: 1;}#sk-container-id-1 div.sk-parallel {display: flex;align-items: stretch;justify-content: center;background-color: white;position: relative;}#sk-container-id-1 div.sk-item::before, #sk-container-id-1 div.sk-parallel-item::before {content: \"\";position: absolute;border-left: 1px solid gray;box-sizing: border-box;top: 0;bottom: 0;left: 50%;z-index: -1;}#sk-container-id-1 div.sk-parallel-item {display: flex;flex-direction: column;z-index: 1;position: relative;background-color: white;}#sk-container-id-1 div.sk-parallel-item:first-child::after {align-self: flex-end;width: 50%;}#sk-container-id-1 div.sk-parallel-item:last-child::after {align-self: flex-start;width: 50%;}#sk-container-id-1 div.sk-parallel-item:only-child::after {width: 0;}#sk-container-id-1 div.sk-dashed-wrapped {border: 1px dashed gray;margin: 0 0.4em 0.5em 0.4em;box-sizing: border-box;padding-bottom: 0.4em;background-color: white;}#sk-container-id-1 div.sk-label label {font-family: monospace;font-weight: bold;display: inline-block;line-height: 1.2em;}#sk-container-id-1 div.sk-label-container {text-align: center;}#sk-container-id-1 div.sk-container {/* jupyter's `normalize.less` sets `[hidden] { display: none; }` but bootstrap.min.css set `[hidden] { display: none !important; }` so we also need the `!important` here to be able to override the default hidden behavior on the sphinx rendered scikit-learn.org. See: https://github.com/scikit-learn/scikit-learn/issues/21755 */display: inline-block !important;position: relative;}#sk-container-id-1 div.sk-text-repr-fallback {display: none;}</style><div id=\"sk-container-id-1\" class=\"sk-top-container\"><div class=\"sk-text-repr-fallback\"><pre>Pipeline(steps=[(&#x27;pipeline&#x27;,\n",
       "                 Pipeline(steps=[(&#x27;simpleimputer&#x27;, SimpleImputer()),\n",
       "                                 (&#x27;functiontransformer&#x27;,\n",
       "                                  FunctionTransformer(func=&lt;ufunc &#x27;log1p&#x27;&gt;)),\n",
       "                                 (&#x27;standardscaler&#x27;, StandardScaler())])),\n",
       "                (&#x27;histgradientboostingclassifier&#x27;,\n",
       "                 HistGradientBoostingClassifier(class_weight=&#x27;balanced&#x27;,\n",
       "                                                l2_regularization=53,\n",
       "                                                learning_rate=0.010212498830869023,\n",
       "                                                max_bins=186, max_iter=5167,\n",
       "                                                max_leaf_nodes=24,\n",
       "                                                min_samples_leaf=300,\n",
       "                                                random_state=42))])</pre><b>In a Jupyter environment, please rerun this cell to show the HTML representation or trust the notebook. <br />On GitHub, the HTML representation is unable to render, please try loading this page with nbviewer.org.</b></div><div class=\"sk-container\" hidden><div class=\"sk-item sk-dashed-wrapped\"><div class=\"sk-label-container\"><div class=\"sk-label sk-toggleable\"><input class=\"sk-toggleable__control sk-hidden--visually\" id=\"sk-estimator-id-1\" type=\"checkbox\" ><label for=\"sk-estimator-id-1\" class=\"sk-toggleable__label sk-toggleable__label-arrow\">Pipeline</label><div class=\"sk-toggleable__content\"><pre>Pipeline(steps=[(&#x27;pipeline&#x27;,\n",
       "                 Pipeline(steps=[(&#x27;simpleimputer&#x27;, SimpleImputer()),\n",
       "                                 (&#x27;functiontransformer&#x27;,\n",
       "                                  FunctionTransformer(func=&lt;ufunc &#x27;log1p&#x27;&gt;)),\n",
       "                                 (&#x27;standardscaler&#x27;, StandardScaler())])),\n",
       "                (&#x27;histgradientboostingclassifier&#x27;,\n",
       "                 HistGradientBoostingClassifier(class_weight=&#x27;balanced&#x27;,\n",
       "                                                l2_regularization=53,\n",
       "                                                learning_rate=0.010212498830869023,\n",
       "                                                max_bins=186, max_iter=5167,\n",
       "                                                max_leaf_nodes=24,\n",
       "                                                min_samples_leaf=300,\n",
       "                                                random_state=42))])</pre></div></div></div><div class=\"sk-serial\"><div class=\"sk-item\"><div class=\"sk-label-container\"><div class=\"sk-label sk-toggleable\"><input class=\"sk-toggleable__control sk-hidden--visually\" id=\"sk-estimator-id-2\" type=\"checkbox\" ><label for=\"sk-estimator-id-2\" class=\"sk-toggleable__label sk-toggleable__label-arrow\">pipeline: Pipeline</label><div class=\"sk-toggleable__content\"><pre>Pipeline(steps=[(&#x27;simpleimputer&#x27;, SimpleImputer()),\n",
       "                (&#x27;functiontransformer&#x27;,\n",
       "                 FunctionTransformer(func=&lt;ufunc &#x27;log1p&#x27;&gt;)),\n",
       "                (&#x27;standardscaler&#x27;, StandardScaler())])</pre></div></div></div><div class=\"sk-serial\"><div class=\"sk-item\"><div class=\"sk-estimator sk-toggleable\"><input class=\"sk-toggleable__control sk-hidden--visually\" id=\"sk-estimator-id-3\" type=\"checkbox\" ><label for=\"sk-estimator-id-3\" class=\"sk-toggleable__label sk-toggleable__label-arrow\">SimpleImputer</label><div class=\"sk-toggleable__content\"><pre>SimpleImputer()</pre></div></div></div><div class=\"sk-item\"><div class=\"sk-estimator sk-toggleable\"><input class=\"sk-toggleable__control sk-hidden--visually\" id=\"sk-estimator-id-4\" type=\"checkbox\" ><label for=\"sk-estimator-id-4\" class=\"sk-toggleable__label sk-toggleable__label-arrow\">FunctionTransformer</label><div class=\"sk-toggleable__content\"><pre>FunctionTransformer(func=&lt;ufunc &#x27;log1p&#x27;&gt;)</pre></div></div></div><div class=\"sk-item\"><div class=\"sk-estimator sk-toggleable\"><input class=\"sk-toggleable__control sk-hidden--visually\" id=\"sk-estimator-id-5\" type=\"checkbox\" ><label for=\"sk-estimator-id-5\" class=\"sk-toggleable__label sk-toggleable__label-arrow\">StandardScaler</label><div class=\"sk-toggleable__content\"><pre>StandardScaler()</pre></div></div></div></div></div><div class=\"sk-item\"><div class=\"sk-estimator sk-toggleable\"><input class=\"sk-toggleable__control sk-hidden--visually\" id=\"sk-estimator-id-6\" type=\"checkbox\" ><label for=\"sk-estimator-id-6\" class=\"sk-toggleable__label sk-toggleable__label-arrow\">HistGradientBoostingClassifier</label><div class=\"sk-toggleable__content\"><pre>HistGradientBoostingClassifier(class_weight=&#x27;balanced&#x27;, l2_regularization=53,\n",
       "                               learning_rate=0.010212498830869023, max_bins=186,\n",
       "                               max_iter=5167, max_leaf_nodes=24,\n",
       "                               min_samples_leaf=300, random_state=42)</pre></div></div></div></div></div></div></div>"
      ],
      "text/plain": [
       "Pipeline(steps=[('pipeline',\n",
       "                 Pipeline(steps=[('simpleimputer', SimpleImputer()),\n",
       "                                 ('functiontransformer',\n",
       "                                  FunctionTransformer(func=<ufunc 'log1p'>)),\n",
       "                                 ('standardscaler', StandardScaler())])),\n",
       "                ('histgradientboostingclassifier',\n",
       "                 HistGradientBoostingClassifier(class_weight='balanced',\n",
       "                                                l2_regularization=53,\n",
       "                                                learning_rate=0.010212498830869023,\n",
       "                                                max_bins=186, max_iter=5167,\n",
       "                                                max_leaf_nodes=24,\n",
       "                                                min_samples_leaf=300,\n",
       "                                                random_state=42))])"
      ]
     },
     "execution_count": 8,
     "metadata": {},
     "output_type": "execute_result"
    }
   ],
   "source": [
    "pipeline = make_pipeline(partial_pipeline, HistGradientBoostingClassifier(**study.best_params))\n",
    "pipeline.fit(X, y)"
   ]
  },
  {
   "cell_type": "code",
   "execution_count": 9,
   "id": "a8117ee4-b5fc-45c0-ae3d-846ada998f97",
   "metadata": {},
   "outputs": [],
   "source": [
    "submission = test.copy()\n",
    "submission['defects'] = pipeline.predict_proba(submission)[:, 1]\n",
    "submission.defects.to_csv(OUTPUT)"
   ]
  },
  {
   "cell_type": "code",
   "execution_count": null,
   "id": "19ddef80-26ce-4d37-a85d-a1631bab3152",
   "metadata": {},
   "outputs": [],
   "source": []
  }
 ],
 "metadata": {
  "kernelspec": {
   "display_name": "Python 3 (ipykernel)",
   "language": "python",
   "name": "python3"
  },
  "language_info": {
   "codemirror_mode": {
    "name": "ipython",
    "version": 3
   },
   "file_extension": ".py",
   "mimetype": "text/x-python",
   "name": "python",
   "nbconvert_exporter": "python",
   "pygments_lexer": "ipython3",
   "version": "3.11.6"
  }
 },
 "nbformat": 4,
 "nbformat_minor": 5
}
